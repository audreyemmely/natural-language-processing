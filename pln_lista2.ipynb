{
  "nbformat": 4,
  "nbformat_minor": 0,
  "metadata": {
    "colab": {
      "name": "pln_lista2.ipynb",
      "provenance": [],
      "authorship_tag": "ABX9TyO4VQFUCWvxSczLL7DQaSXG",
      "include_colab_link": true
    },
    "kernelspec": {
      "name": "python3",
      "display_name": "Python 3"
    },
    "language_info": {
      "name": "python"
    }
  },
  "cells": [
    {
      "cell_type": "markdown",
      "metadata": {
        "id": "view-in-github",
        "colab_type": "text"
      },
      "source": [
        "<a href=\"https://colab.research.google.com/github/audreyemmely/pln/blob/main/pln_lista2.ipynb\" target=\"_parent\"><img src=\"https://colab.research.google.com/assets/colab-badge.svg\" alt=\"Open In Colab\"/></a>"
      ]
    },
    {
      "cell_type": "markdown",
      "metadata": {
        "id": "UsfPoqEzXtXr"
      },
      "source": [
        "# **Resolução Lista 2**\n",
        "\n",
        "---\n",
        "\n",
        "Audrey Emmely Rodrigues Vasconcelos\n",
        "\n",
        "Karen Nayara Gomes da Silva"
      ]
    },
    {
      "cell_type": "markdown",
      "metadata": {
        "id": "FEPD5HWjYXta"
      },
      "source": [
        "###### Questão 1\n",
        "Determine a distribuição de comprimentos dos textos (em quantidade de caracteres), listando estas quantidades e plotando um histograma. "
      ]
    },
    {
      "cell_type": "code",
      "metadata": {
        "id": "dnWo9X5zXpiI"
      },
      "source": [
        ""
      ],
      "execution_count": null,
      "outputs": []
    },
    {
      "cell_type": "markdown",
      "metadata": {
        "id": "AbGJgNOGYkhx"
      },
      "source": [
        "###### Questão 2\n",
        "Aplique os seguintes passos de pré-processamento aos textos: \n",
        "* Remova todas as palavras que contêm números; \n",
        "* Converta as palavras para minúsculas; \n",
        "* Remova pontuação; \n",
        "* Tokenize os textos em palavras, gerando um dicionário único com *n* tokens e convertendo cada texto em um vetor de dimensão *n* com a respectiva contagem de palavras. \n",
        "\n",
        "Em seguida, encontre as palavras mais frequentes da base de textos. \n"
      ]
    },
    {
      "cell_type": "code",
      "metadata": {
        "id": "tftatdfHYk4p"
      },
      "source": [
        ""
      ],
      "execution_count": null,
      "outputs": []
    },
    {
      "cell_type": "markdown",
      "metadata": {
        "id": "tMT_-wUoYo4Y"
      },
      "source": [
        "###### Questão 3\n",
        "Aplique os seguintes passos de pré-processamento aos textos processados na questão anterior:\n",
        "\n",
        "* Remova stopwords;\n",
        "* Realize rotulação de POS;\n",
        "* Realize stemização;\n",
        "\n",
        "Exiba os resultados em alguns textos. Verifique quais são as palavras mais\n",
        "frequentes e compare com as palavras mais frequentes da questão anterior."
      ]
    },
    {
      "cell_type": "code",
      "metadata": {
        "id": "kCumsJuUYqPT"
      },
      "source": [
        ""
      ],
      "execution_count": null,
      "outputs": []
    }
  ]
}