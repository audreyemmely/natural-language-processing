{
  "nbformat": 4,
  "nbformat_minor": 0,
  "metadata": {
    "colab": {
      "name": "pln_lista2.ipynb",
      "provenance": [],
      "collapsed_sections": [],
      "include_colab_link": true
    },
    "kernelspec": {
      "name": "python3",
      "display_name": "Python 3"
    },
    "language_info": {
      "name": "python"
    }
  },
  "cells": [
    {
      "cell_type": "markdown",
      "metadata": {
        "id": "view-in-github",
        "colab_type": "text"
      },
      "source": [
        "<a href=\"https://colab.research.google.com/github/audreyemmely/pln/blob/main/pln_lista2.ipynb\" target=\"_parent\"><img src=\"https://colab.research.google.com/assets/colab-badge.svg\" alt=\"Open In Colab\"/></a>"
      ]
    },
    {
      "cell_type": "markdown",
      "metadata": {
        "id": "UsfPoqEzXtXr"
      },
      "source": [
        "# **Resolução Lista 2**\n",
        "\n",
        "---\n",
        "\n",
        "Audrey Emmely Rodrigues Vasconcelos\n",
        "\n",
        "Karen Nayara Gomes da Silva"
      ]
    },
    {
      "cell_type": "code",
      "metadata": {
        "id": "f_ON3wqWKihq"
      },
      "source": [
        "import pandas as pd\n",
        "import re\n",
        "import nltk\n",
        "import numpy"
      ],
      "execution_count": 1,
      "outputs": []
    },
    {
      "cell_type": "code",
      "metadata": {
        "colab": {
          "base_uri": "https://localhost:8080/"
        },
        "id": "cu4Y8wFsLN8_",
        "outputId": "f8d0a1fe-2ac1-4ee5-c939-d054eb7aecaa"
      },
      "source": [
        "nltk.download('stopwords')\n",
        "nltk.download('rslp')\n",
        "nltk.download('punkt')"
      ],
      "execution_count": 2,
      "outputs": [
        {
          "output_type": "stream",
          "name": "stdout",
          "text": [
            "[nltk_data] Downloading package stopwords to /root/nltk_data...\n",
            "[nltk_data]   Package stopwords is already up-to-date!\n",
            "[nltk_data] Downloading package rslp to /root/nltk_data...\n",
            "[nltk_data]   Package rslp is already up-to-date!\n",
            "[nltk_data] Downloading package punkt to /root/nltk_data...\n",
            "[nltk_data]   Package punkt is already up-to-date!\n"
          ]
        },
        {
          "output_type": "execute_result",
          "data": {
            "text/plain": [
              "True"
            ]
          },
          "metadata": {},
          "execution_count": 2
        }
      ]
    },
    {
      "cell_type": "code",
      "metadata": {
        "id": "SqVDI05sKj2p"
      },
      "source": [
        "df = pd.read_csv('train_data.txt', sep =':::', header = None, engine = 'python', nrows = 10000)\n",
        "df.columns = ['id', 'title', 'genre', 'description']"
      ],
      "execution_count": 3,
      "outputs": []
    },
    {
      "cell_type": "markdown",
      "metadata": {
        "id": "FEPD5HWjYXta"
      },
      "source": [
        "###### Questão 1\n",
        "Determine a distribuição de comprimentos dos textos (em quantidade de caracteres), listando estas quantidades e plotando um histograma. "
      ]
    },
    {
      "cell_type": "code",
      "metadata": {
        "id": "dnWo9X5zXpiI"
      },
      "source": [
        ""
      ],
      "execution_count": 3,
      "outputs": []
    },
    {
      "cell_type": "markdown",
      "metadata": {
        "id": "AbGJgNOGYkhx"
      },
      "source": [
        "###### Questão 2\n",
        "Aplique os seguintes passos de pré-processamento aos textos: \n",
        "* Remova todas as palavras que contêm números; \n",
        "* Converta as palavras para minúsculas; \n",
        "* Remova pontuação; \n",
        "* Tokenize os textos em palavras, gerando um dicionário único com *n* tokens e convertendo cada texto em um vetor de dimensão *n* com a respectiva contagem de palavras. \n",
        "\n",
        "Em seguida, encontre as palavras mais frequentes da base de textos. \n"
      ]
    },
    {
      "cell_type": "code",
      "metadata": {
        "id": "tftatdfHYk4p"
      },
      "source": [
        "def preprocess(description):\n",
        "  description = re.sub(r'\\w*\\d\\w*', '', description) #remove todas as palavras que contêm números\n",
        "  description = re.sub(r'[^a-zA-ZáéíóúÁÉÍÓÚâêîôÂÊÎÔãõÃÕçÇ ]', '', description.lower()) #converte as palavras para minúsculas e remove a pontuação\n",
        "  return re.sub(r'\\s+', ' ', description) #retira espaços repetidos"
      ],
      "execution_count": 4,
      "outputs": []
    },
    {
      "cell_type": "code",
      "metadata": {
        "id": "ngpEYuj7RMfO"
      },
      "source": [
        "df.description = df.description.apply(preprocess)"
      ],
      "execution_count": 5,
      "outputs": []
    },
    {
      "cell_type": "code",
      "metadata": {
        "colab": {
          "base_uri": "https://localhost:8080/"
        },
        "id": "XgGfw40bRitT",
        "outputId": "fdc4e464-a0d9-4a70-85ea-53a61a0d7e1d"
      },
      "source": [
        "df.description"
      ],
      "execution_count": 6,
      "outputs": [
        {
          "output_type": "execute_result",
          "data": {
            "text/plain": [
              "0        listening in to a conversation between his do...\n",
              "1        a brother and sister with a past incestuous r...\n",
              "2        as the bus empties the students for their fie...\n",
              "3        to help their unemployed father make ends mee...\n",
              "4        the films title refers not only to the unreco...\n",
              "                              ...                        \n",
              "9995     the show began with jared and kristen in kris...\n",
              "9996     the center characters of the film are two kid...\n",
              "9997     ashland is the story of ash slavin a lonely a...\n",
              "9998     railroad foreman murray sinclair is dismissed...\n",
              "9999     cruise the radio airwaves to assist the ghr g...\n",
              "Name: description, Length: 10000, dtype: object"
            ]
          },
          "metadata": {},
          "execution_count": 6
        }
      ]
    },
    {
      "cell_type": "code",
      "metadata": {
        "id": "mpeNGJbUVOtN"
      },
      "source": [
        "df['tokens'] = df.description.apply(lambda t: nltk.word_tokenize(t, language='portuguese'))\n",
        "tokenSet = sorted(set([token for tokenList in df.tokens.values for token in tokenList]))\n",
        "tokenToIndex = {token: i for i, token in enumerate(tokenSet)}\n",
        "corpusMatrix = numpy.zeros(shape=(df.shape[0], len(tokenToIndex)))\n",
        "\n",
        "for i, row in df.iterrows():\n",
        "  for token in row.tokens:\n",
        "    corpusMatrix[i][tokenToIndex[token]] += 1\n",
        "\n",
        "mostFrequent = numpy.argmax(corpusMatrix, axis=1)"
      ],
      "execution_count": 7,
      "outputs": []
    },
    {
      "cell_type": "code",
      "metadata": {
        "colab": {
          "base_uri": "https://localhost:8080/",
          "height": 419
        },
        "id": "-2qh-6nkbavb",
        "outputId": "44e78ea0-36bf-4d31-bf67-bd2b7e014253"
      },
      "source": [
        "df['most_frequents'] = [tokenSet[i] for i in mostFrequent]\n",
        "df[['description', 'most_frequents']] "
      ],
      "execution_count": 10,
      "outputs": [
        {
          "output_type": "execute_result",
          "data": {
            "text/html": [
              "<div>\n",
              "<style scoped>\n",
              "    .dataframe tbody tr th:only-of-type {\n",
              "        vertical-align: middle;\n",
              "    }\n",
              "\n",
              "    .dataframe tbody tr th {\n",
              "        vertical-align: top;\n",
              "    }\n",
              "\n",
              "    .dataframe thead th {\n",
              "        text-align: right;\n",
              "    }\n",
              "</style>\n",
              "<table border=\"1\" class=\"dataframe\">\n",
              "  <thead>\n",
              "    <tr style=\"text-align: right;\">\n",
              "      <th></th>\n",
              "      <th>description</th>\n",
              "      <th>most_frequents</th>\n",
              "    </tr>\n",
              "  </thead>\n",
              "  <tbody>\n",
              "    <tr>\n",
              "      <th>0</th>\n",
              "      <td>listening in to a conversation between his do...</td>\n",
              "      <td>to</td>\n",
              "    </tr>\n",
              "    <tr>\n",
              "      <th>1</th>\n",
              "      <td>a brother and sister with a past incestuous r...</td>\n",
              "      <td>a</td>\n",
              "    </tr>\n",
              "    <tr>\n",
              "      <th>2</th>\n",
              "      <td>as the bus empties the students for their fie...</td>\n",
              "      <td>the</td>\n",
              "    </tr>\n",
              "    <tr>\n",
              "      <th>3</th>\n",
              "      <td>to help their unemployed father make ends mee...</td>\n",
              "      <td>the</td>\n",
              "    </tr>\n",
              "    <tr>\n",
              "      <th>4</th>\n",
              "      <td>the films title refers not only to the unreco...</td>\n",
              "      <td>the</td>\n",
              "    </tr>\n",
              "    <tr>\n",
              "      <th>...</th>\n",
              "      <td>...</td>\n",
              "      <td>...</td>\n",
              "    </tr>\n",
              "    <tr>\n",
              "      <th>9995</th>\n",
              "      <td>the show began with jared and kristen in kris...</td>\n",
              "      <td>the</td>\n",
              "    </tr>\n",
              "    <tr>\n",
              "      <th>9996</th>\n",
              "      <td>the center characters of the film are two kid...</td>\n",
              "      <td>the</td>\n",
              "    </tr>\n",
              "    <tr>\n",
              "      <th>9997</th>\n",
              "      <td>ashland is the story of ash slavin a lonely a...</td>\n",
              "      <td>his</td>\n",
              "    </tr>\n",
              "    <tr>\n",
              "      <th>9998</th>\n",
              "      <td>railroad foreman murray sinclair is dismissed...</td>\n",
              "      <td>and</td>\n",
              "    </tr>\n",
              "    <tr>\n",
              "      <th>9999</th>\n",
              "      <td>cruise the radio airwaves to assist the ghr g...</td>\n",
              "      <td>the</td>\n",
              "    </tr>\n",
              "  </tbody>\n",
              "</table>\n",
              "<p>10000 rows × 2 columns</p>\n",
              "</div>"
            ],
            "text/plain": [
              "                                            description most_frequents\n",
              "0      listening in to a conversation between his do...             to\n",
              "1      a brother and sister with a past incestuous r...              a\n",
              "2      as the bus empties the students for their fie...            the\n",
              "3      to help their unemployed father make ends mee...            the\n",
              "4      the films title refers not only to the unreco...            the\n",
              "...                                                 ...            ...\n",
              "9995   the show began with jared and kristen in kris...            the\n",
              "9996   the center characters of the film are two kid...            the\n",
              "9997   ashland is the story of ash slavin a lonely a...            his\n",
              "9998   railroad foreman murray sinclair is dismissed...            and\n",
              "9999   cruise the radio airwaves to assist the ghr g...            the\n",
              "\n",
              "[10000 rows x 2 columns]"
            ]
          },
          "metadata": {},
          "execution_count": 10
        }
      ]
    },
    {
      "cell_type": "markdown",
      "metadata": {
        "id": "tMT_-wUoYo4Y"
      },
      "source": [
        "###### Questão 3\n",
        "Aplique os seguintes passos de pré-processamento aos textos processados na questão anterior:\n",
        "\n",
        "* Remova stopwords;\n",
        "* Realize rotulação de POS;\n",
        "* Realize stemização;\n",
        "\n",
        "Exiba os resultados em alguns textos. Verifique quais são as palavras mais\n",
        "frequentes e compare com as palavras mais frequentes da questão anterior."
      ]
    },
    {
      "cell_type": "code",
      "metadata": {
        "id": "kCumsJuUYqPT"
      },
      "source": [
        "stopwords = nltk.corpus.stopwords.words('portuguese')\n",
        "stemmer = nltk.stem.RSLPStemmer()"
      ],
      "execution_count": 8,
      "outputs": []
    },
    {
      "cell_type": "markdown",
      "metadata": {
        "id": "5Vl4cQSbSl88"
      },
      "source": [
        "**Referências**\n",
        "\n",
        "[NLTK HOWTO](https://www.nltk.org/howto/portuguese_en.html)\n",
        "\n",
        "[Examples for Portuguese Processing](https://docs.huihoo.com/nltk/0.9.5/guides/portuguese_en.html)"
      ]
    }
  ]
}