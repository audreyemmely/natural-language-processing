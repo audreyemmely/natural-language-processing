{
  "nbformat": 4,
  "nbformat_minor": 0,
  "metadata": {
    "colab": {
      "name": "pln_lista2.ipynb",
      "provenance": [],
      "collapsed_sections": [],
      "include_colab_link": true
    },
    "kernelspec": {
      "display_name": "Python 3",
      "name": "python3"
    },
    "language_info": {
      "name": "python"
    }
  },
  "cells": [
    {
      "cell_type": "markdown",
      "metadata": {
        "id": "view-in-github",
        "colab_type": "text"
      },
      "source": [
        "<a href=\"https://colab.research.google.com/github/audreyemmely/pln/blob/main/pln_lista2.ipynb\" target=\"_parent\"><img src=\"https://colab.research.google.com/assets/colab-badge.svg\" alt=\"Open In Colab\"/></a>"
      ]
    },
    {
      "cell_type": "markdown",
      "metadata": {
        "id": "UsfPoqEzXtXr"
      },
      "source": [
        "# **Resolução Lista 2**\n",
        "\n",
        "---\n",
        "\n",
        "Audrey Emmely Rodrigues Vasconcelos\n",
        "\n",
        "Karen Nayara Gomes da Silva"
      ]
    },
    {
      "cell_type": "code",
      "metadata": {
        "id": "f_ON3wqWKihq"
      },
      "source": [
        "import pandas as pd\n",
        "import re\n",
        "import nltk\n",
        "import string\n",
        "import matplotlib.pyplot as plt\n",
        "import seaborn as sns"
      ],
      "execution_count": 1,
      "outputs": []
    },
    {
      "cell_type": "code",
      "metadata": {
        "id": "cu4Y8wFsLN8_",
        "colab": {
          "base_uri": "https://localhost:8080/"
        },
        "outputId": "1a8a3834-7a6b-4db4-9afe-f44453a419f7"
      },
      "source": [
        "nltk.download('stopwords')\n",
        "nltk.download('punkt')\n",
        "nltk.download('averaged_perceptron_tagger')"
      ],
      "execution_count": 2,
      "outputs": [
        {
          "output_type": "stream",
          "name": "stdout",
          "text": [
            "[nltk_data] Downloading package stopwords to /root/nltk_data...\n",
            "[nltk_data]   Package stopwords is already up-to-date!\n",
            "[nltk_data] Downloading package punkt to /root/nltk_data...\n",
            "[nltk_data]   Package punkt is already up-to-date!\n",
            "[nltk_data] Downloading package averaged_perceptron_tagger to\n",
            "[nltk_data]     /root/nltk_data...\n",
            "[nltk_data]   Package averaged_perceptron_tagger is already up-to-\n",
            "[nltk_data]       date!\n"
          ]
        },
        {
          "output_type": "execute_result",
          "data": {
            "text/plain": [
              "True"
            ]
          },
          "metadata": {},
          "execution_count": 2
        }
      ]
    },
    {
      "cell_type": "code",
      "metadata": {
        "id": "xfcuzC_Sff5N"
      },
      "source": [
        "#from google.colab import files\n",
        "#uploaded = files.upload()"
      ],
      "execution_count": 3,
      "outputs": []
    },
    {
      "cell_type": "code",
      "metadata": {
        "id": "SqVDI05sKj2p"
      },
      "source": [
        "df = pd.read_csv('train_data.txt', sep =':::', header = None, engine = 'python', nrows = 10000)\n",
        "df.columns = ['id', 'title', 'genre', 'description']"
      ],
      "execution_count": 4,
      "outputs": []
    },
    {
      "cell_type": "markdown",
      "metadata": {
        "id": "FEPD5HWjYXta"
      },
      "source": [
        "###### Questão 1\n",
        "Determine a distribuição de comprimentos dos textos (em quantidade de caracteres), listando estas quantidades e plotando um histograma. "
      ]
    },
    {
      "cell_type": "code",
      "metadata": {
        "id": "WafoV9mkMqhr",
        "colab": {
          "base_uri": "https://localhost:8080/"
        },
        "outputId": "82ca8e21-94dc-4b4a-fe42-544780e621cf"
      },
      "source": [
        "print(df.description.apply(len))"
      ],
      "execution_count": 5,
      "outputs": [
        {
          "output_type": "stream",
          "name": "stdout",
          "text": [
            "0        546\n",
            "1        184\n",
            "2        650\n",
            "3       1082\n",
            "4        625\n",
            "        ... \n",
            "9995     254\n",
            "9996     874\n",
            "9997     451\n",
            "9998     786\n",
            "9999     372\n",
            "Name: description, Length: 10000, dtype: int64\n"
          ]
        }
      ]
    },
    {
      "cell_type": "code",
      "metadata": {
        "id": "dnWo9X5zXpiI",
        "colab": {
          "base_uri": "https://localhost:8080/",
          "height": 295
        },
        "outputId": "90472eb2-f205-4ba0-cd42-e7608de81c84"
      },
      "source": [
        "df['description'].str.len().plot.hist(bins=50, range=(0,3500))\n",
        "plt.title(\"Histograma com a distribuição de comprimentos dos textos\")\n",
        "plt.xlabel(\"Quantidade de caracteres\")\n",
        "plt.ylabel(\"Frequência absoluta dos caracteres\")\n",
        "plt.show()"
      ],
      "execution_count": 6,
      "outputs": [
        {
          "output_type": "display_data",
          "data": {
            "image/png": "[encoded data removed]",
            "text/plain": [
              "<Figure size 432x288 with 1 Axes>"
            ]
          },
          "metadata": {
            "needs_background": "light"
          }
        }
      ]
    },
    {
      "cell_type": "markdown",
      "metadata": {
        "id": "AbGJgNOGYkhx"
      },
      "source": [
        "###### Questão 2\n",
        "Aplique os seguintes passos de pré-processamento aos textos: \n",
        "* Remova todas as palavras que contêm números; \n",
        "* Converta as palavras para minúsculas; \n",
        "* Remova pontuação; \n",
        "* Tokenize os textos em palavras, gerando um dicionário único com *n* tokens e convertendo cada texto em um vetor de dimensão *n* com a respectiva contagem de palavras. \n",
        "\n",
        "Em seguida, encontre as palavras mais frequentes da base de textos. \n"
      ]
    },
    {
      "cell_type": "code",
      "metadata": {
        "id": "tftatdfHYk4p"
      },
      "source": [
        "def preprocess(description):\n",
        "  description = re.sub(r'\\w*\\d\\w*', '', description) #remove todas as palavras que contêm números\n",
        "  description = re.sub(r'[^a-zA-Z ]', '', description.lower())\n",
        "  return re.sub(r'\\s+', ' ', description) #retira espaços repetidos"
      ],
      "execution_count": 7,
      "outputs": []
    },
    {
      "cell_type": "code",
      "metadata": {
        "id": "ngpEYuj7RMfO",
        "colab": {
          "base_uri": "https://localhost:8080/"
        },
        "outputId": "b949ed6d-bdbe-430e-ee06-daf91bfe4240"
      },
      "source": [
        "df.description = df.description.apply(preprocess)\n",
        "df.description"
      ],
      "execution_count": 8,
      "outputs": [
        {
          "output_type": "execute_result",
          "data": {
            "text/plain": [
              "0        listening in to a conversation between his do...\n",
              "1        a brother and sister with a past incestuous r...\n",
              "2        as the bus empties the students for their fie...\n",
              "3        to help their unemployed father make ends mee...\n",
              "4        the films title refers not only to the unreco...\n",
              "                              ...                        \n",
              "9995     the show began with jared and kristen in kris...\n",
              "9996     the center characters of the film are two kid...\n",
              "9997     ashland is the story of ash slavin a lonely a...\n",
              "9998     railroad foreman murray sinclair is dismissed...\n",
              "9999     cruise the radio airwaves to assist the ghr g...\n",
              "Name: description, Length: 10000, dtype: object"
            ]
          },
          "metadata": {},
          "execution_count": 8
        }
      ]
    },
    {
      "cell_type": "code",
      "metadata": {
        "id": "qe6_tTZexmd-"
      },
      "source": [
        "def tokenize_text(raw_text: str):\n",
        "    tokenized_str = nltk.word_tokenize(raw_text)\n",
        "    tokens = [i.lower() for i in tokenized_str if i not in string.punctuation]\n",
        "    return tokens\n",
        "\n",
        "df['tokenized'] = df.description.apply(tokenize_text)"
      ],
      "execution_count": 9,
      "outputs": []
    },
    {
      "cell_type": "code",
      "metadata": {
        "id": "jBccvVMeybfq",
        "colab": {
          "base_uri": "https://localhost:8080/",
          "height": 419
        },
        "outputId": "b2b49316-3b40-4a54-b8f7-ba749e500f93"
      },
      "source": [
        "df"
      ],
      "execution_count": 10,
      "outputs": [
        {
          "output_type": "execute_result",
          "data": {
            "text/html": [
              "<div>\n",
              "<style scoped>\n",
              "    .dataframe tbody tr th:only-of-type {\n",
              "        vertical-align: middle;\n",
              "    }\n",
              "\n",
              "    .dataframe tbody tr th {\n",
              "        vertical-align: top;\n",
              "    }\n",
              "\n",
              "    .dataframe thead th {\n",
              "        text-align: right;\n",
              "    }\n",
              "</style>\n",
              "<table border=\"1\" class=\"dataframe\">\n",
              "  <thead>\n",
              "    <tr style=\"text-align: right;\">\n",
              "      <th></th>\n",
              "      <th>id</th>\n",
              "      <th>title</th>\n",
              "      <th>genre</th>\n",
              "      <th>description</th>\n",
              "      <th>tokenized</th>\n",
              "    </tr>\n",
              "  </thead>\n",
              "  <tbody>\n",
              "    <tr>\n",
              "      <th>0</th>\n",
              "      <td>1</td>\n",
              "      <td>Oscar et la dame rose (2009)</td>\n",
              "      <td>drama</td>\n",
              "      <td>listening in to a conversation between his do...</td>\n",
              "      <td>[listening, in, to, a, conversation, between, ...</td>\n",
              "    </tr>\n",
              "    <tr>\n",
              "      <th>1</th>\n",
              "      <td>2</td>\n",
              "      <td>Cupid (1997)</td>\n",
              "      <td>thriller</td>\n",
              "      <td>a brother and sister with a past incestuous r...</td>\n",
              "      <td>[a, brother, and, sister, with, a, past, inces...</td>\n",
              "    </tr>\n",
              "    <tr>\n",
              "      <th>2</th>\n",
              "      <td>3</td>\n",
              "      <td>Young, Wild and Wonderful (1980)</td>\n",
              "      <td>adult</td>\n",
              "      <td>as the bus empties the students for their fie...</td>\n",
              "      <td>[as, the, bus, empties, the, students, for, th...</td>\n",
              "    </tr>\n",
              "    <tr>\n",
              "      <th>3</th>\n",
              "      <td>4</td>\n",
              "      <td>The Secret Sin (1915)</td>\n",
              "      <td>drama</td>\n",
              "      <td>to help their unemployed father make ends mee...</td>\n",
              "      <td>[to, help, their, unemployed, father, make, en...</td>\n",
              "    </tr>\n",
              "    <tr>\n",
              "      <th>4</th>\n",
              "      <td>5</td>\n",
              "      <td>The Unrecovered (2007)</td>\n",
              "      <td>drama</td>\n",
              "      <td>the films title refers not only to the unreco...</td>\n",
              "      <td>[the, films, title, refers, not, only, to, the...</td>\n",
              "    </tr>\n",
              "    <tr>\n",
              "      <th>...</th>\n",
              "      <td>...</td>\n",
              "      <td>...</td>\n",
              "      <td>...</td>\n",
              "      <td>...</td>\n",
              "      <td>...</td>\n",
              "    </tr>\n",
              "    <tr>\n",
              "      <th>9995</th>\n",
              "      <td>9996</td>\n",
              "      <td>\"Friday Night Cranks\" (2007/I)</td>\n",
              "      <td>reality-tv</td>\n",
              "      <td>the show began with jared and kristen in kris...</td>\n",
              "      <td>[the, show, began, with, jared, and, kristen, ...</td>\n",
              "    </tr>\n",
              "    <tr>\n",
              "      <th>9996</th>\n",
              "      <td>9997</td>\n",
              "      <td>Donkey in the City: 3D Animation Film (????)</td>\n",
              "      <td>animation</td>\n",
              "      <td>the center characters of the film are two kid...</td>\n",
              "      <td>[the, center, characters, of, the, film, are, ...</td>\n",
              "    </tr>\n",
              "    <tr>\n",
              "      <th>9997</th>\n",
              "      <td>9998</td>\n",
              "      <td>Ashland (2007)</td>\n",
              "      <td>drama</td>\n",
              "      <td>ashland is the story of ash slavin a lonely a...</td>\n",
              "      <td>[ashland, is, the, story, of, ash, slavin, a, ...</td>\n",
              "    </tr>\n",
              "    <tr>\n",
              "      <th>9998</th>\n",
              "      <td>9999</td>\n",
              "      <td>Whispering Smith (1926)</td>\n",
              "      <td>western</td>\n",
              "      <td>railroad foreman murray sinclair is dismissed...</td>\n",
              "      <td>[railroad, foreman, murray, sinclair, is, dism...</td>\n",
              "    </tr>\n",
              "    <tr>\n",
              "      <th>9999</th>\n",
              "      <td>10000</td>\n",
              "      <td>GHR: The Great Airspace Chase (2017)</td>\n",
              "      <td>adventure</td>\n",
              "      <td>cruise the radio airwaves to assist the ghr g...</td>\n",
              "      <td>[cruise, the, radio, airwaves, to, assist, the...</td>\n",
              "    </tr>\n",
              "  </tbody>\n",
              "</table>\n",
              "<p>10000 rows × 5 columns</p>\n",
              "</div>"
            ],
            "text/plain": [
              "         id  ...                                          tokenized\n",
              "0         1  ...  [listening, in, to, a, conversation, between, ...\n",
              "1         2  ...  [a, brother, and, sister, with, a, past, inces...\n",
              "2         3  ...  [as, the, bus, empties, the, students, for, th...\n",
              "3         4  ...  [to, help, their, unemployed, father, make, en...\n",
              "4         5  ...  [the, films, title, refers, not, only, to, the...\n",
              "...     ...  ...                                                ...\n",
              "9995   9996  ...  [the, show, began, with, jared, and, kristen, ...\n",
              "9996   9997  ...  [the, center, characters, of, the, film, are, ...\n",
              "9997   9998  ...  [ashland, is, the, story, of, ash, slavin, a, ...\n",
              "9998   9999  ...  [railroad, foreman, murray, sinclair, is, dism...\n",
              "9999  10000  ...  [cruise, the, radio, airwaves, to, assist, the...\n",
              "\n",
              "[10000 rows x 5 columns]"
            ]
          },
          "metadata": {},
          "execution_count": 10
        }
      ]
    },
    {
      "cell_type": "code",
      "metadata": {
        "id": "nnvj9eNTP20W"
      },
      "source": [
        "def freq_words(x, terms = 50):\n",
        "  all_words = ' '.join([description for description in x])\n",
        "  all_words = all_words.split()\n",
        "\n",
        "  fdist = nltk.FreqDist(all_words)\n",
        "  words_df = pd.DataFrame({'word':list(fdist.keys()), 'count':list(fdist.values())})\n",
        "\n",
        "  d = words_df.nlargest(columns=\"count\", n = terms)\n",
        "  plt.figure(figsize=(8,12))\n",
        "  ax = sns.barplot(data=d, x=\"count\", y = \"word\", color='skyblue')\n",
        "  ax.set(ylabel='word')\n",
        "  plt.show()"
      ],
      "execution_count": 11,
      "outputs": []
    },
    {
      "cell_type": "code",
      "metadata": {
        "id": "k6K7T6CVROx9",
        "colab": {
          "base_uri": "https://localhost:8080/",
          "height": 714
        },
        "outputId": "a16d789d-b45d-4130-e46d-3ef7371d57c0"
      },
      "source": [
        "freq_words(df['description'], 10)"
      ],
      "execution_count": 12,
      "outputs": [
        {
          "output_type": "display_data",
          "data": {
            "image/png": "[encoded data removed]",
            "text/plain": [
              "<Figure size 576x864 with 1 Axes>"
            ]
          },
          "metadata": {
            "needs_background": "light"
          }
        }
      ]
    },
    {
      "cell_type": "markdown",
      "metadata": {
        "id": "tMT_-wUoYo4Y"
      },
      "source": [
        "###### Questão 3\n",
        "Aplique os seguintes passos de pré-processamento aos textos processados na questão anterior:\n",
        "\n",
        "* Remova stopwords;\n",
        "* Realize rotulação de POS;\n",
        "* Realize stemização;\n",
        "\n",
        "Exiba os resultados em alguns textos. Verifique quais são as palavras mais\n",
        "frequentes e compare com as palavras mais frequentes da questão anterior."
      ]
    },
    {
      "cell_type": "code",
      "metadata": {
        "id": "KJYxOg8yyXQd"
      },
      "source": [
        "# Remove stopwords\n",
        "stop_words = set(nltk.corpus.stopwords.words('english'))\n",
        "def tokenize_text(raw_text: str):\n",
        "    tokenized_str = nltk.word_tokenize(raw_text)\n",
        "    tokens = [i.lower() for i in tokenized_str if (i not in string.punctuation) and (i not in stop_words)]\n",
        "    return tokens\n",
        "\n",
        "# Rotulação de POS\n",
        "def pos_text(sentence):\n",
        "  #print('sentence', sentence)\n",
        "  words = str(sentence).split(' ')\n",
        "  #print('words', words)\n",
        "  return nltk.pos_tag(sentence)\n",
        "\n",
        "# Stemização\n",
        "snowball_stemmer = nltk.stem.snowball.SnowballStemmer('english')\n",
        "def stem_snowball(words):\n",
        "  return ' '.join([snowball_stemmer.stem(word[0]) for word in words])"
      ],
      "execution_count": 13,
      "outputs": []
    },
    {
      "cell_type": "code",
      "metadata": {
        "id": "gg__3TtJiQII"
      },
      "source": [
        "df['tokenized2'] = df.description.apply(tokenize_text)\n",
        "\n",
        "df['tokenized2'] = df.tokenized2.apply(pos_text)\n",
        "\n",
        "df['tokenized2'] = df.tokenized2.apply(stem_snowball)"
      ],
      "execution_count": 14,
      "outputs": []
    },
    {
      "cell_type": "code",
      "metadata": {
        "id": "2RLSGiiUyccU",
        "colab": {
          "base_uri": "https://localhost:8080/",
          "height": 419
        },
        "outputId": "7b23b4cd-ef9b-4790-b100-f7efe4bc1c85"
      },
      "source": [
        "df[['tokenized', 'tokenized2']]"
      ],
      "execution_count": 15,
      "outputs": [
        {
          "output_type": "execute_result",
          "data": {
            "text/html": [
              "<div>\n",
              "<style scoped>\n",
              "    .dataframe tbody tr th:only-of-type {\n",
              "        vertical-align: middle;\n",
              "    }\n",
              "\n",
              "    .dataframe tbody tr th {\n",
              "        vertical-align: top;\n",
              "    }\n",
              "\n",
              "    .dataframe thead th {\n",
              "        text-align: right;\n",
              "    }\n",
              "</style>\n",
              "<table border=\"1\" class=\"dataframe\">\n",
              "  <thead>\n",
              "    <tr style=\"text-align: right;\">\n",
              "      <th></th>\n",
              "      <th>tokenized</th>\n",
              "      <th>tokenized2</th>\n",
              "    </tr>\n",
              "  </thead>\n",
              "  <tbody>\n",
              "    <tr>\n",
              "      <th>0</th>\n",
              "      <td>[listening, in, to, a, conversation, between, ...</td>\n",
              "      <td>listen convers doctor parent yearold oscar lea...</td>\n",
              "    </tr>\n",
              "    <tr>\n",
              "      <th>1</th>\n",
              "      <td>[a, brother, and, sister, with, a, past, inces...</td>\n",
              "      <td>brother sister past incestu relationship curre...</td>\n",
              "    </tr>\n",
              "    <tr>\n",
              "      <th>2</th>\n",
              "      <td>[as, the, bus, empties, the, students, for, th...</td>\n",
              "      <td>bus empti student field trip museum natur hist...</td>\n",
              "    </tr>\n",
              "    <tr>\n",
              "      <th>3</th>\n",
              "      <td>[to, help, their, unemployed, father, make, en...</td>\n",
              "      <td>help unemploy father make end meet edith twin ...</td>\n",
              "    </tr>\n",
              "    <tr>\n",
              "      <th>4</th>\n",
              "      <td>[the, films, title, refers, not, only, to, the...</td>\n",
              "      <td>film titl refer unrecov bodi ground zero also ...</td>\n",
              "    </tr>\n",
              "    <tr>\n",
              "      <th>...</th>\n",
              "      <td>...</td>\n",
              "      <td>...</td>\n",
              "    </tr>\n",
              "    <tr>\n",
              "      <th>9995</th>\n",
              "      <td>[the, show, began, with, jared, and, kristen, ...</td>\n",
              "      <td>show began jare kristen kristen eventu left sh...</td>\n",
              "    </tr>\n",
              "    <tr>\n",
              "      <th>9996</th>\n",
              "      <td>[the, center, characters, of, the, film, are, ...</td>\n",
              "      <td>center charact film two kidsa boy girl donkey ...</td>\n",
              "    </tr>\n",
              "    <tr>\n",
              "      <th>9997</th>\n",
              "      <td>[ashland, is, the, story, of, ash, slavin, a, ...</td>\n",
              "      <td>ashland stori ash slavin lone depress teen sec...</td>\n",
              "    </tr>\n",
              "    <tr>\n",
              "      <th>9998</th>\n",
              "      <td>[railroad, foreman, murray, sinclair, is, dism...</td>\n",
              "      <td>railroad foreman murray sinclair dismiss georg...</td>\n",
              "    </tr>\n",
              "    <tr>\n",
              "      <th>9999</th>\n",
              "      <td>[cruise, the, radio, airwaves, to, assist, the...</td>\n",
              "      <td>cruis radio airwav assist ghr grindhous radio ...</td>\n",
              "    </tr>\n",
              "  </tbody>\n",
              "</table>\n",
              "<p>10000 rows × 2 columns</p>\n",
              "</div>"
            ],
            "text/plain": [
              "                                              tokenized                                         tokenized2\n",
              "0     [listening, in, to, a, conversation, between, ...  listen convers doctor parent yearold oscar lea...\n",
              "1     [a, brother, and, sister, with, a, past, inces...  brother sister past incestu relationship curre...\n",
              "2     [as, the, bus, empties, the, students, for, th...  bus empti student field trip museum natur hist...\n",
              "3     [to, help, their, unemployed, father, make, en...  help unemploy father make end meet edith twin ...\n",
              "4     [the, films, title, refers, not, only, to, the...  film titl refer unrecov bodi ground zero also ...\n",
              "...                                                 ...                                                ...\n",
              "9995  [the, show, began, with, jared, and, kristen, ...  show began jare kristen kristen eventu left sh...\n",
              "9996  [the, center, characters, of, the, film, are, ...  center charact film two kidsa boy girl donkey ...\n",
              "9997  [ashland, is, the, story, of, ash, slavin, a, ...  ashland stori ash slavin lone depress teen sec...\n",
              "9998  [railroad, foreman, murray, sinclair, is, dism...  railroad foreman murray sinclair dismiss georg...\n",
              "9999  [cruise, the, radio, airwaves, to, assist, the...  cruis radio airwav assist ghr grindhous radio ...\n",
              "\n",
              "[10000 rows x 2 columns]"
            ]
          },
          "metadata": {},
          "execution_count": 15
        }
      ]
    },
    {
      "cell_type": "code",
      "metadata": {
        "colab": {
          "base_uri": "https://localhost:8080/",
          "height": 1000
        },
        "id": "ERkmarfPH2u0",
        "outputId": "0292febf-9010-4bea-a3cb-dd88056700da"
      },
      "source": [
        "freq_words(df['tokenized2'], 10)\n",
        "freq_words(df['description'], 10)"
      ],
      "execution_count": 16,
      "outputs": [
        {
          "output_type": "display_data",
          "data": {
            "image/png": "[encoded data removed]",
            "text/plain": [
              "<Figure size 576x864 with 1 Axes>"
            ]
          },
          "metadata": {
            "needs_background": "light"
          }
        },
        {
          "output_type": "display_data",
          "data": {
            "image/png": "[encoded data removed]",
            "text/plain": [
              "<Figure size 576x864 with 1 Axes>"
            ]
          },
          "metadata": {
            "needs_background": "light"
          }
        }
      ]
    },
    {
      "cell_type": "markdown",
      "metadata": {
        "id": "5Vl4cQSbSl88"
      },
      "source": [
        "**Referências**\n",
        "\n",
        "[NLTK HOWTO](https://www.nltk.org/howto/portuguese_en.html)\n"
      ]
    }
  ]
}