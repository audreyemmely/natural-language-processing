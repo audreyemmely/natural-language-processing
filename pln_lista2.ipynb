{
  "nbformat": 4,
  "nbformat_minor": 0,
  "metadata": {
    "colab": {
      "name": "pln_lista2.ipynb",
      "provenance": [],
      "collapsed_sections": [],
      "include_colab_link": true
    },
    "kernelspec": {
      "name": "python3",
      "display_name": "Python 3"
    },
    "language_info": {
      "name": "python"
    }
  },
  "cells": [
    {
      "cell_type": "markdown",
      "metadata": {
        "id": "view-in-github",
        "colab_type": "text"
      },
      "source": [
        "<a href=\"https://colab.research.google.com/github/audreyemmely/pln/blob/main/pln_lista2.ipynb\" target=\"_parent\"><img src=\"https://colab.research.google.com/assets/colab-badge.svg\" alt=\"Open In Colab\"/></a>"
      ]
    },
    {
      "cell_type": "markdown",
      "metadata": {
        "id": "UsfPoqEzXtXr"
      },
      "source": [
        "# **Resolução Lista 2**\n",
        "\n",
        "---\n",
        "\n",
        "Audrey Emmely Rodrigues Vasconcelos\n",
        "\n",
        "Karen Nayara Gomes da Silva"
      ]
    },
    {
      "cell_type": "code",
      "metadata": {
        "id": "f_ON3wqWKihq"
      },
      "source": [
        "import pandas as pd\n",
        "import re\n",
        "import nltk\n",
        "import string"
      ],
      "execution_count": 1,
      "outputs": []
    },
    {
      "cell_type": "code",
      "metadata": {
        "colab": {
          "base_uri": "https://localhost:8080/"
        },
        "id": "cu4Y8wFsLN8_",
        "outputId": "0400b253-c5b8-496e-c148-c7e89e5ff493"
      },
      "source": [
        "nltk.download('stopwords')\n",
        "nltk.download('punkt')"
      ],
      "execution_count": 2,
      "outputs": [
        {
          "output_type": "stream",
          "name": "stdout",
          "text": [
            "[nltk_data] Downloading package stopwords to /root/nltk_data...\n",
            "[nltk_data]   Package stopwords is already up-to-date!\n",
            "[nltk_data] Downloading package punkt to /root/nltk_data...\n",
            "[nltk_data]   Package punkt is already up-to-date!\n"
          ]
        },
        {
          "output_type": "execute_result",
          "data": {
            "text/plain": [
              "True"
            ]
          },
          "metadata": {},
          "execution_count": 2
        }
      ]
    },
    {
      "cell_type": "code",
      "metadata": {
        "id": "SqVDI05sKj2p"
      },
      "source": [
        "df = pd.read_csv('train_data.txt', sep =':::', header = None, engine = 'python', nrows = 10000)\n",
        "df.columns = ['id', 'title', 'genre', 'description']"
      ],
      "execution_count": 3,
      "outputs": []
    },
    {
      "cell_type": "markdown",
      "metadata": {
        "id": "FEPD5HWjYXta"
      },
      "source": [
        "###### Questão 1\n",
        "Determine a distribuição de comprimentos dos textos (em quantidade de caracteres), listando estas quantidades e plotando um histograma. "
      ]
    },
    {
      "cell_type": "code",
      "metadata": {
        "id": "dnWo9X5zXpiI"
      },
      "source": [
        ""
      ],
      "execution_count": 3,
      "outputs": []
    },
    {
      "cell_type": "markdown",
      "metadata": {
        "id": "AbGJgNOGYkhx"
      },
      "source": [
        "###### Questão 2\n",
        "Aplique os seguintes passos de pré-processamento aos textos: \n",
        "* Remova todas as palavras que contêm números; \n",
        "* Converta as palavras para minúsculas; \n",
        "* Remova pontuação; \n",
        "* Tokenize os textos em palavras, gerando um dicionário único com *n* tokens e convertendo cada texto em um vetor de dimensão *n* com a respectiva contagem de palavras. \n",
        "\n",
        "Em seguida, encontre as palavras mais frequentes da base de textos. \n"
      ]
    },
    {
      "cell_type": "code",
      "metadata": {
        "id": "tftatdfHYk4p"
      },
      "source": [
        "def preprocess(description):\n",
        "  description = re.sub(r'\\w*\\d\\w*', '', description) #remove todas as palavras que contêm números\n",
        "  return re.sub(r'\\s+', ' ', description) #retira espaços repetidos"
      ],
      "execution_count": 4,
      "outputs": []
    },
    {
      "cell_type": "code",
      "metadata": {
        "id": "ngpEYuj7RMfO",
        "colab": {
          "base_uri": "https://localhost:8080/"
        },
        "outputId": "66144468-0aff-4d35-b4eb-16c37ebf815a"
      },
      "source": [
        "df.description = df.description.apply(preprocess)\n",
        "df.description"
      ],
      "execution_count": 5,
      "outputs": [
        {
          "output_type": "execute_result",
          "data": {
            "text/plain": [
              "0        Listening in to a conversation between his do...\n",
              "1        A brother and sister with a past incestuous r...\n",
              "2        As the bus empties the students for their fie...\n",
              "3        To help their unemployed father make ends mee...\n",
              "4        The film's title refers not only to the un-re...\n",
              "                              ...                        \n",
              "9995     The show began with Jared and Kristen in . Kr...\n",
              "9996     The center characters of the film are two kid...\n",
              "9997     Ashland is the story of Ash Slavin, a lonely ...\n",
              "9998     Railroad foreman Murray Sinclair is dismissed...\n",
              "9999     Cruise the radio airwaves to assist the GHR (...\n",
              "Name: description, Length: 10000, dtype: object"
            ]
          },
          "metadata": {},
          "execution_count": 5
        }
      ]
    },
    {
      "cell_type": "code",
      "metadata": {
        "id": "qe6_tTZexmd-"
      },
      "source": [
        "def tokenize_text(raw_text: str):\n",
        "    tokenized_str = nltk.word_tokenize(raw_text)\n",
        "    tokens = [i.lower() for i in tokenized_str if i not in string.punctuation]\n",
        "    return tokens\n",
        "\n",
        "df['tokenized'] = df.description.apply(tokenize_text)"
      ],
      "execution_count": 6,
      "outputs": []
    },
    {
      "cell_type": "code",
      "metadata": {
        "colab": {
          "base_uri": "https://localhost:8080/",
          "height": 419
        },
        "id": "jBccvVMeybfq",
        "outputId": "4408b9df-e6e5-425f-f27a-de9420182cf2"
      },
      "source": [
        "df"
      ],
      "execution_count": 7,
      "outputs": [
        {
          "output_type": "execute_result",
          "data": {
            "text/html": [
              "<div>\n",
              "<style scoped>\n",
              "    .dataframe tbody tr th:only-of-type {\n",
              "        vertical-align: middle;\n",
              "    }\n",
              "\n",
              "    .dataframe tbody tr th {\n",
              "        vertical-align: top;\n",
              "    }\n",
              "\n",
              "    .dataframe thead th {\n",
              "        text-align: right;\n",
              "    }\n",
              "</style>\n",
              "<table border=\"1\" class=\"dataframe\">\n",
              "  <thead>\n",
              "    <tr style=\"text-align: right;\">\n",
              "      <th></th>\n",
              "      <th>id</th>\n",
              "      <th>title</th>\n",
              "      <th>genre</th>\n",
              "      <th>description</th>\n",
              "      <th>tokenized</th>\n",
              "    </tr>\n",
              "  </thead>\n",
              "  <tbody>\n",
              "    <tr>\n",
              "      <th>0</th>\n",
              "      <td>1</td>\n",
              "      <td>Oscar et la dame rose (2009)</td>\n",
              "      <td>drama</td>\n",
              "      <td>Listening in to a conversation between his do...</td>\n",
              "      <td>[listening, in, to, a, conversation, between, ...</td>\n",
              "    </tr>\n",
              "    <tr>\n",
              "      <th>1</th>\n",
              "      <td>2</td>\n",
              "      <td>Cupid (1997)</td>\n",
              "      <td>thriller</td>\n",
              "      <td>A brother and sister with a past incestuous r...</td>\n",
              "      <td>[a, brother, and, sister, with, a, past, inces...</td>\n",
              "    </tr>\n",
              "    <tr>\n",
              "      <th>2</th>\n",
              "      <td>3</td>\n",
              "      <td>Young, Wild and Wonderful (1980)</td>\n",
              "      <td>adult</td>\n",
              "      <td>As the bus empties the students for their fie...</td>\n",
              "      <td>[as, the, bus, empties, the, students, for, th...</td>\n",
              "    </tr>\n",
              "    <tr>\n",
              "      <th>3</th>\n",
              "      <td>4</td>\n",
              "      <td>The Secret Sin (1915)</td>\n",
              "      <td>drama</td>\n",
              "      <td>To help their unemployed father make ends mee...</td>\n",
              "      <td>[to, help, their, unemployed, father, make, en...</td>\n",
              "    </tr>\n",
              "    <tr>\n",
              "      <th>4</th>\n",
              "      <td>5</td>\n",
              "      <td>The Unrecovered (2007)</td>\n",
              "      <td>drama</td>\n",
              "      <td>The film's title refers not only to the un-re...</td>\n",
              "      <td>[the, film, 's, title, refers, not, only, to, ...</td>\n",
              "    </tr>\n",
              "    <tr>\n",
              "      <th>...</th>\n",
              "      <td>...</td>\n",
              "      <td>...</td>\n",
              "      <td>...</td>\n",
              "      <td>...</td>\n",
              "      <td>...</td>\n",
              "    </tr>\n",
              "    <tr>\n",
              "      <th>9995</th>\n",
              "      <td>9996</td>\n",
              "      <td>\"Friday Night Cranks\" (2007/I)</td>\n",
              "      <td>reality-tv</td>\n",
              "      <td>The show began with Jared and Kristen in . Kr...</td>\n",
              "      <td>[the, show, began, with, jared, and, kristen, ...</td>\n",
              "    </tr>\n",
              "    <tr>\n",
              "      <th>9996</th>\n",
              "      <td>9997</td>\n",
              "      <td>Donkey in the City: 3D Animation Film (????)</td>\n",
              "      <td>animation</td>\n",
              "      <td>The center characters of the film are two kid...</td>\n",
              "      <td>[the, center, characters, of, the, film, are, ...</td>\n",
              "    </tr>\n",
              "    <tr>\n",
              "      <th>9997</th>\n",
              "      <td>9998</td>\n",
              "      <td>Ashland (2007)</td>\n",
              "      <td>drama</td>\n",
              "      <td>Ashland is the story of Ash Slavin, a lonely ...</td>\n",
              "      <td>[ashland, is, the, story, of, ash, slavin, a, ...</td>\n",
              "    </tr>\n",
              "    <tr>\n",
              "      <th>9998</th>\n",
              "      <td>9999</td>\n",
              "      <td>Whispering Smith (1926)</td>\n",
              "      <td>western</td>\n",
              "      <td>Railroad foreman Murray Sinclair is dismissed...</td>\n",
              "      <td>[railroad, foreman, murray, sinclair, is, dism...</td>\n",
              "    </tr>\n",
              "    <tr>\n",
              "      <th>9999</th>\n",
              "      <td>10000</td>\n",
              "      <td>GHR: The Great Airspace Chase (2017)</td>\n",
              "      <td>adventure</td>\n",
              "      <td>Cruise the radio airwaves to assist the GHR (...</td>\n",
              "      <td>[cruise, the, radio, airwaves, to, assist, the...</td>\n",
              "    </tr>\n",
              "  </tbody>\n",
              "</table>\n",
              "<p>10000 rows × 5 columns</p>\n",
              "</div>"
            ],
            "text/plain": [
              "         id  ...                                          tokenized\n",
              "0         1  ...  [listening, in, to, a, conversation, between, ...\n",
              "1         2  ...  [a, brother, and, sister, with, a, past, inces...\n",
              "2         3  ...  [as, the, bus, empties, the, students, for, th...\n",
              "3         4  ...  [to, help, their, unemployed, father, make, en...\n",
              "4         5  ...  [the, film, 's, title, refers, not, only, to, ...\n",
              "...     ...  ...                                                ...\n",
              "9995   9996  ...  [the, show, began, with, jared, and, kristen, ...\n",
              "9996   9997  ...  [the, center, characters, of, the, film, are, ...\n",
              "9997   9998  ...  [ashland, is, the, story, of, ash, slavin, a, ...\n",
              "9998   9999  ...  [railroad, foreman, murray, sinclair, is, dism...\n",
              "9999  10000  ...  [cruise, the, radio, airwaves, to, assist, the...\n",
              "\n",
              "[10000 rows x 5 columns]"
            ]
          },
          "metadata": {},
          "execution_count": 7
        }
      ]
    },
    {
      "cell_type": "markdown",
      "metadata": {
        "id": "tMT_-wUoYo4Y"
      },
      "source": [
        "###### Questão 3\n",
        "Aplique os seguintes passos de pré-processamento aos textos processados na questão anterior:\n",
        "\n",
        "* Remova stopwords;\n",
        "* Realize rotulação de POS;\n",
        "* Realize stemização;\n",
        "\n",
        "Exiba os resultados em alguns textos. Verifique quais são as palavras mais\n",
        "frequentes e compare com as palavras mais frequentes da questão anterior."
      ]
    },
    {
      "cell_type": "code",
      "metadata": {
        "id": "KJYxOg8yyXQd"
      },
      "source": [
        "stop_words = set(nltk.corpus.stopwords.words('english'))\n",
        "def tokenize_text(raw_text: str):\n",
        "    tokenized_str = nltk.word_tokenize(raw_text)\n",
        "    tokens = [i.lower() for i in tokenized_str if (i not in string.punctuation) and (i not in stop_words)]\n",
        "    return tokens\n",
        "\n",
        "df['tokenized2'] = df.description.apply(tokenize_text)"
      ],
      "execution_count": 8,
      "outputs": []
    },
    {
      "cell_type": "code",
      "metadata": {
        "colab": {
          "base_uri": "https://localhost:8080/",
          "height": 419
        },
        "id": "2RLSGiiUyccU",
        "outputId": "f4f4938f-0498-4d6c-ffff-e80ebd0f0f23"
      },
      "source": [
        "df"
      ],
      "execution_count": 9,
      "outputs": [
        {
          "output_type": "execute_result",
          "data": {
            "text/html": [
              "<div>\n",
              "<style scoped>\n",
              "    .dataframe tbody tr th:only-of-type {\n",
              "        vertical-align: middle;\n",
              "    }\n",
              "\n",
              "    .dataframe tbody tr th {\n",
              "        vertical-align: top;\n",
              "    }\n",
              "\n",
              "    .dataframe thead th {\n",
              "        text-align: right;\n",
              "    }\n",
              "</style>\n",
              "<table border=\"1\" class=\"dataframe\">\n",
              "  <thead>\n",
              "    <tr style=\"text-align: right;\">\n",
              "      <th></th>\n",
              "      <th>id</th>\n",
              "      <th>title</th>\n",
              "      <th>genre</th>\n",
              "      <th>description</th>\n",
              "      <th>tokenized</th>\n",
              "      <th>tokenized2</th>\n",
              "    </tr>\n",
              "  </thead>\n",
              "  <tbody>\n",
              "    <tr>\n",
              "      <th>0</th>\n",
              "      <td>1</td>\n",
              "      <td>Oscar et la dame rose (2009)</td>\n",
              "      <td>drama</td>\n",
              "      <td>Listening in to a conversation between his do...</td>\n",
              "      <td>[listening, in, to, a, conversation, between, ...</td>\n",
              "      <td>[listening, conversation, doctor, parents, -ye...</td>\n",
              "    </tr>\n",
              "    <tr>\n",
              "      <th>1</th>\n",
              "      <td>2</td>\n",
              "      <td>Cupid (1997)</td>\n",
              "      <td>thriller</td>\n",
              "      <td>A brother and sister with a past incestuous r...</td>\n",
              "      <td>[a, brother, and, sister, with, a, past, inces...</td>\n",
              "      <td>[a, brother, sister, past, incestuous, relatio...</td>\n",
              "    </tr>\n",
              "    <tr>\n",
              "      <th>2</th>\n",
              "      <td>3</td>\n",
              "      <td>Young, Wild and Wonderful (1980)</td>\n",
              "      <td>adult</td>\n",
              "      <td>As the bus empties the students for their fie...</td>\n",
              "      <td>[as, the, bus, empties, the, students, for, th...</td>\n",
              "      <td>[as, bus, empties, students, field, trip, muse...</td>\n",
              "    </tr>\n",
              "    <tr>\n",
              "      <th>3</th>\n",
              "      <td>4</td>\n",
              "      <td>The Secret Sin (1915)</td>\n",
              "      <td>drama</td>\n",
              "      <td>To help their unemployed father make ends mee...</td>\n",
              "      <td>[to, help, their, unemployed, father, make, en...</td>\n",
              "      <td>[to, help, unemployed, father, make, ends, mee...</td>\n",
              "    </tr>\n",
              "    <tr>\n",
              "      <th>4</th>\n",
              "      <td>5</td>\n",
              "      <td>The Unrecovered (2007)</td>\n",
              "      <td>drama</td>\n",
              "      <td>The film's title refers not only to the un-re...</td>\n",
              "      <td>[the, film, 's, title, refers, not, only, to, ...</td>\n",
              "      <td>[the, film, 's, title, refers, un-recovered, b...</td>\n",
              "    </tr>\n",
              "    <tr>\n",
              "      <th>...</th>\n",
              "      <td>...</td>\n",
              "      <td>...</td>\n",
              "      <td>...</td>\n",
              "      <td>...</td>\n",
              "      <td>...</td>\n",
              "      <td>...</td>\n",
              "    </tr>\n",
              "    <tr>\n",
              "      <th>9995</th>\n",
              "      <td>9996</td>\n",
              "      <td>\"Friday Night Cranks\" (2007/I)</td>\n",
              "      <td>reality-tv</td>\n",
              "      <td>The show began with Jared and Kristen in . Kr...</td>\n",
              "      <td>[the, show, began, with, jared, and, kristen, ...</td>\n",
              "      <td>[the, show, began, jared, kristen, kristen, ev...</td>\n",
              "    </tr>\n",
              "    <tr>\n",
              "      <th>9996</th>\n",
              "      <td>9997</td>\n",
              "      <td>Donkey in the City: 3D Animation Film (????)</td>\n",
              "      <td>animation</td>\n",
              "      <td>The center characters of the film are two kid...</td>\n",
              "      <td>[the, center, characters, of, the, film, are, ...</td>\n",
              "      <td>[the, center, characters, film, two, kids-a, b...</td>\n",
              "    </tr>\n",
              "    <tr>\n",
              "      <th>9997</th>\n",
              "      <td>9998</td>\n",
              "      <td>Ashland (2007)</td>\n",
              "      <td>drama</td>\n",
              "      <td>Ashland is the story of Ash Slavin, a lonely ...</td>\n",
              "      <td>[ashland, is, the, story, of, ash, slavin, a, ...</td>\n",
              "      <td>[ashland, story, ash, slavin, lonely, depresse...</td>\n",
              "    </tr>\n",
              "    <tr>\n",
              "      <th>9998</th>\n",
              "      <td>9999</td>\n",
              "      <td>Whispering Smith (1926)</td>\n",
              "      <td>western</td>\n",
              "      <td>Railroad foreman Murray Sinclair is dismissed...</td>\n",
              "      <td>[railroad, foreman, murray, sinclair, is, dism...</td>\n",
              "      <td>[railroad, foreman, murray, sinclair, dismisse...</td>\n",
              "    </tr>\n",
              "    <tr>\n",
              "      <th>9999</th>\n",
              "      <td>10000</td>\n",
              "      <td>GHR: The Great Airspace Chase (2017)</td>\n",
              "      <td>adventure</td>\n",
              "      <td>Cruise the radio airwaves to assist the GHR (...</td>\n",
              "      <td>[cruise, the, radio, airwaves, to, assist, the...</td>\n",
              "      <td>[cruise, radio, airwaves, assist, ghr, grindho...</td>\n",
              "    </tr>\n",
              "  </tbody>\n",
              "</table>\n",
              "<p>10000 rows × 6 columns</p>\n",
              "</div>"
            ],
            "text/plain": [
              "         id  ...                                         tokenized2\n",
              "0         1  ...  [listening, conversation, doctor, parents, -ye...\n",
              "1         2  ...  [a, brother, sister, past, incestuous, relatio...\n",
              "2         3  ...  [as, bus, empties, students, field, trip, muse...\n",
              "3         4  ...  [to, help, unemployed, father, make, ends, mee...\n",
              "4         5  ...  [the, film, 's, title, refers, un-recovered, b...\n",
              "...     ...  ...                                                ...\n",
              "9995   9996  ...  [the, show, began, jared, kristen, kristen, ev...\n",
              "9996   9997  ...  [the, center, characters, film, two, kids-a, b...\n",
              "9997   9998  ...  [ashland, story, ash, slavin, lonely, depresse...\n",
              "9998   9999  ...  [railroad, foreman, murray, sinclair, dismisse...\n",
              "9999  10000  ...  [cruise, radio, airwaves, assist, ghr, grindho...\n",
              "\n",
              "[10000 rows x 6 columns]"
            ]
          },
          "metadata": {},
          "execution_count": 9
        }
      ]
    },
    {
      "cell_type": "markdown",
      "metadata": {
        "id": "5Vl4cQSbSl88"
      },
      "source": [
        "**Referências**\n",
        "\n",
        "[NLTK HOWTO](https://www.nltk.org/howto/portuguese_en.html)\n"
      ]
    }
  ]
}