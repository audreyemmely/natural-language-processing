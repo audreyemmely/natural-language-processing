{
  "cells": [
    {
      "cell_type": "markdown",
      "metadata": {
        "id": "view-in-github",
        "colab_type": "text"
      },
      "source": [
        "<a href=\"https://colab.research.google.com/github/audreyemmely/pln/blob/main/pln_lista6.ipynb\" target=\"_parent\"><img src=\"https://colab.research.google.com/assets/colab-badge.svg\" alt=\"Open In Colab\"/></a>"
      ]
    },
    {
      "cell_type": "markdown",
      "metadata": {
        "id": "LdH0ObvpYJhx"
      },
      "source": [
        "# **Resolução Lista 6**\n",
        "\n",
        "---\n",
        "\n",
        "Audrey Emmely Rodrigues Vasconcelos\n",
        "\n",
        "Karen Nayara Gomes da Silva"
      ]
    },
    {
      "cell_type": "code",
      "execution_count": null,
      "metadata": {
        "id": "49fJdXrr7jbZ",
        "colab": {
          "resources": {
            "http://localhost:8080/nbextensions/google.colab/files.js": {
              "data": "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",
              "ok": true,
              "headers": [
                [
                  "content-type",
                  "application/javascript"
                ]
              ],
              "status": 200,
              "status_text": ""
            }
          },
          "base_uri": "https://localhost:8080/",
          "height": 107
        },
        "outputId": "b09959c8-74b6-4596-8986-1de98c24a7b3"
      },
      "outputs": [
        {
          "output_type": "display_data",
          "data": {
            "text/html": [
              "\n",
              "     <input type=\"file\" id=\"files-d0c6d221-1531-48a4-9505-1452383e766f\" name=\"files[]\" multiple disabled\n",
              "        style=\"border:none\" />\n",
              "     <output id=\"result-d0c6d221-1531-48a4-9505-1452383e766f\">\n",
              "      Upload widget is only available when the cell has been executed in the\n",
              "      current browser session. Please rerun this cell to enable.\n",
              "      </output>\n",
              "      <script src=\"/nbextensions/google.colab/files.js\"></script> "
            ],
            "text/plain": [
              "<IPython.core.display.HTML object>"
            ]
          },
          "metadata": {}
        },
        {
          "output_type": "stream",
          "name": "stdout",
          "text": [
            "Saving test_data_solution.txt to test_data_solution.txt\n",
            "Saving train_data.txt to train_data.txt\n"
          ]
        }
      ],
      "source": [
        "#from google.colab import files\n",
        "#uploaded = files.upload()\n",
        "# upando train_data e test_data_solution"
      ]
    },
    {
      "cell_type": "code",
      "execution_count": null,
      "metadata": {
        "id": "H55rLmyDBk81"
      },
      "outputs": [],
      "source": [
        "import pandas as pd\n",
        "import numpy as np\n",
        "import spacy\n",
        "import random\n",
        "import nltk\n",
        "import re\n",
        "from matplotlib import pyplot as plt\n",
        "from tensorflow.keras.preprocessing.text import Tokenizer\n",
        "from tensorflow.keras.preprocessing.sequence import pad_sequences\n",
        "from tensorflow.keras.layers import Conv1D, Dense, Embedding, LSTM\n",
        "from tensorflow.keras.models import Sequential, load_model\n",
        "from tensorflow.keras.utils import to_categorical\n",
        "\n",
        "import warnings\n",
        "warnings.filterwarnings('ignore')"
      ]
    },
    {
      "cell_type": "code",
      "execution_count": null,
      "metadata": {
        "colab": {
          "base_uri": "https://localhost:8080/"
        },
        "id": "vTX97njjFMfF",
        "outputId": "fb548f3e-b7aa-4bb2-b972-2078e99eeca5"
      },
      "outputs": [
        {
          "output_type": "stream",
          "name": "stdout",
          "text": [
            "[nltk_data] Downloading package stopwords to /root/nltk_data...\n",
            "[nltk_data]   Unzipping corpora/stopwords.zip.\n",
            "[nltk_data] Downloading package punkt to /root/nltk_data...\n",
            "[nltk_data]   Unzipping tokenizers/punkt.zip.\n",
            "[nltk_data] Downloading package rslp to /root/nltk_data...\n",
            "[nltk_data]   Unzipping stemmers/rslp.zip.\n"
          ]
        },
        {
          "output_type": "execute_result",
          "data": {
            "text/plain": [
              "True"
            ]
          },
          "metadata": {},
          "execution_count": 3
        }
      ],
      "source": [
        "nltk.download('stopwords')\n",
        "nltk.download('punkt')\n",
        "nltk.download('rslp')"
      ]
    },
    {
      "cell_type": "code",
      "execution_count": null,
      "metadata": {
        "id": "iyLrIxQ7B3tL"
      },
      "outputs": [],
      "source": [
        "df = pd.read_csv('train_data.txt', sep =':::', header = None, engine = 'python', nrows = 10000)\n",
        "df.columns = ['id', 'title', 'genre', 'description']\n",
        "df2 = pd.read_csv('test_data_solution.txt', sep =':::', header = None, engine = 'python', nrows = 10000)\n",
        "df2.columns = ['id', 'title', 'genre', 'description']"
      ]
    },
    {
      "cell_type": "code",
      "execution_count": null,
      "metadata": {
        "id": "eScG0RcwB4Pl"
      },
      "outputs": [],
      "source": [
        "df3 = pd.concat([df, df2], ignore_index=True)\n",
        "df3.drop('id', axis=1, inplace=True)\n",
        "comedy = df3.loc[df3['genre'].str.contains('comedy')]\n",
        "drama = df3.loc[df3['genre'].str.contains('drama')]\n",
        "dataset = pd.concat([comedy, drama], ignore_index=True)"
      ]
    },
    {
      "cell_type": "code",
      "execution_count": null,
      "metadata": {
        "id": "ST8YriXuB-xD"
      },
      "outputs": [],
      "source": [
        "def preprocess(description):\n",
        "  description = re.sub(r'\\w*\\d\\w*', '', description) #remove todas as palavras que contêm números\n",
        "  description = re.sub(r'[^a-zA-Z ]', '', description.lower())\n",
        "  return re.sub(r'\\s+', ' ', description) #retira espaços repetidos"
      ]
    },
    {
      "cell_type": "code",
      "execution_count": null,
      "metadata": {
        "id": "JvOXznpOB_VU"
      },
      "outputs": [],
      "source": [
        "dataset['processed_description'] = dataset.description.apply(preprocess)"
      ]
    },
    {
      "cell_type": "code",
      "execution_count": null,
      "metadata": {
        "id": "GxviXDHPCCec"
      },
      "outputs": [],
      "source": [
        "stop_words = set(nltk.corpus.stopwords.words('english'))\n",
        "\n",
        "def remove_stopwords(description, only_tokenize=False):\n",
        "    tokenized_text = nltk.word_tokenize(description, language='english')\n",
        "    \n",
        "    if only_tokenize:\n",
        "        return ' '.join([token for token in tokenized_text])\n",
        "    return ' '.join([token for token in tokenized_text if token not in stop_words])\n",
        "\n",
        "dataset['processed_description_'] = dataset.processed_description.apply(lambda t: remove_stopwords(t, True)) # Tokeniza o texto e NÃO remove stopwords\n",
        "dataset.processed_description = dataset.processed_description.apply(lambda t: remove_stopwords(t)) # Tokeniza o texto e remove stopwords"
      ]
    },
    {
      "cell_type": "code",
      "execution_count": null,
      "metadata": {
        "id": "tg7JLq5NCEl2"
      },
      "outputs": [],
      "source": [
        "dataset['processed_description'] = dataset.processed_description.apply(remove_stopwords)"
      ]
    },
    {
      "cell_type": "code",
      "execution_count": null,
      "metadata": {
        "colab": {
          "base_uri": "https://localhost:8080/",
          "height": 424
        },
        "id": "eiw7A6WDCGfT",
        "outputId": "3616b8f5-ec39-4ac4-885d-1c1fc942d1ec"
      },
      "outputs": [
        {
          "output_type": "execute_result",
          "data": {
            "text/html": [
              "\n",
              "  <div id=\"df-79182d11-d3fb-4c8d-a0ce-76d29dd5fd75\">\n",
              "    <div class=\"colab-df-container\">\n",
              "      <div>\n",
              "<style scoped>\n",
              "    .dataframe tbody tr th:only-of-type {\n",
              "        vertical-align: middle;\n",
              "    }\n",
              "\n",
              "    .dataframe tbody tr th {\n",
              "        vertical-align: top;\n",
              "    }\n",
              "\n",
              "    .dataframe thead th {\n",
              "        text-align: right;\n",
              "    }\n",
              "</style>\n",
              "<table border=\"1\" class=\"dataframe\">\n",
              "  <thead>\n",
              "    <tr style=\"text-align: right;\">\n",
              "      <th></th>\n",
              "      <th>title</th>\n",
              "      <th>genre</th>\n",
              "      <th>description</th>\n",
              "      <th>processed_description</th>\n",
              "      <th>processed_description_</th>\n",
              "    </tr>\n",
              "  </thead>\n",
              "  <tbody>\n",
              "    <tr>\n",
              "      <th>0</th>\n",
              "      <td>\"Pink Slip\" (2009)</td>\n",
              "      <td>comedy</td>\n",
              "      <td>In tough economic times Max and Joey have all...</td>\n",
              "      <td>tough economic times max joey run ideas discov...</td>\n",
              "      <td>in tough economic times max and joey have all ...</td>\n",
              "    </tr>\n",
              "    <tr>\n",
              "      <th>1</th>\n",
              "      <td>Babylon Vista (2001)</td>\n",
              "      <td>comedy</td>\n",
              "      <td>Frankie Reno was a child star on a TV show. B...</td>\n",
              "      <td>frankie reno child star tv show thirty years a...</td>\n",
              "      <td>frankie reno was a child star on a tv show but...</td>\n",
              "    </tr>\n",
              "    <tr>\n",
              "      <th>2</th>\n",
              "      <td>Söderpojkar (1941)</td>\n",
              "      <td>comedy</td>\n",
              "      <td>A gang of unemployed itinerant musicians play...</td>\n",
              "      <td>gang unemployed itinerant musicians play south...</td>\n",
              "      <td>a gang of unemployed itinerant musicians play ...</td>\n",
              "    </tr>\n",
              "    <tr>\n",
              "      <th>3</th>\n",
              "      <td>Tunnel Vision (1976)</td>\n",
              "      <td>comedy</td>\n",
              "      <td>A committee investigating TV's first uncensor...</td>\n",
              "      <td>committee investigating tvs first uncensored n...</td>\n",
              "      <td>a committee investigating tvs first uncensored...</td>\n",
              "    </tr>\n",
              "    <tr>\n",
              "      <th>4</th>\n",
              "      <td>\"The Young Professionals\" (2015)</td>\n",
              "      <td>comedy</td>\n",
              "      <td>Whether it's blocking up mouse holes, running...</td>\n",
              "      <td>whether blocking mouse holes running landlords...</td>\n",
              "      <td>whether its blocking up mouse holes running fr...</td>\n",
              "    </tr>\n",
              "    <tr>\n",
              "      <th>...</th>\n",
              "      <td>...</td>\n",
              "      <td>...</td>\n",
              "      <td>...</td>\n",
              "      <td>...</td>\n",
              "      <td>...</td>\n",
              "    </tr>\n",
              "    <tr>\n",
              "      <th>7734</th>\n",
              "      <td>Merrick (2017/I)</td>\n",
              "      <td>drama</td>\n",
              "      <td>Ten years after a terrible disease has killed...</td>\n",
              "      <td>ten years terrible disease killed majority hum...</td>\n",
              "      <td>ten years after a terrible disease has killed ...</td>\n",
              "    </tr>\n",
              "    <tr>\n",
              "      <th>7735</th>\n",
              "      <td>Three Windows and a Hanging (2014)</td>\n",
              "      <td>drama</td>\n",
              "      <td>In a traditional village where life is gradua...</td>\n",
              "      <td>traditional village life gradually rebuilt sch...</td>\n",
              "      <td>in a traditional village where life is gradual...</td>\n",
              "    </tr>\n",
              "    <tr>\n",
              "      <th>7736</th>\n",
              "      <td>Placebo (2013/II)</td>\n",
              "      <td>drama</td>\n",
              "      <td>Alfred spent years as a patient in a mental i...</td>\n",
              "      <td>alfred spent years patient mental institution ...</td>\n",
              "      <td>alfred spent years as a patient in a mental in...</td>\n",
              "    </tr>\n",
              "    <tr>\n",
              "      <th>7737</th>\n",
              "      <td>Times Square (????)</td>\n",
              "      <td>drama</td>\n",
              "      <td>Set amidst the transformation of Times Square...</td>\n",
              "      <td>set amidst transformation times square new yor...</td>\n",
              "      <td>set amidst the transformation of times square ...</td>\n",
              "    </tr>\n",
              "    <tr>\n",
              "      <th>7738</th>\n",
              "      <td>The Story of O: Untold Pleasures (2002)</td>\n",
              "      <td>drama</td>\n",
              "      <td>\"O\" is a talented photographer in her late tw...</td>\n",
              "      <td>talented photographer late twenties promising ...</td>\n",
              "      <td>o is a talented photographer in her late twent...</td>\n",
              "    </tr>\n",
              "  </tbody>\n",
              "</table>\n",
              "<p>7739 rows × 5 columns</p>\n",
              "</div>\n",
              "      <button class=\"colab-df-convert\" onclick=\"convertToInteractive('df-79182d11-d3fb-4c8d-a0ce-76d29dd5fd75')\"\n",
              "              title=\"Convert this dataframe to an interactive table.\"\n",
              "              style=\"display:none;\">\n",
              "        \n",
              "  <svg xmlns=\"http://www.w3.org/2000/svg\" height=\"24px\"viewBox=\"0 0 24 24\"\n",
              "       width=\"24px\">\n",
              "    <path d=\"M0 0h24v24H0V0z\" fill=\"none\"/>\n",
              "    <path d=\"M18.56 5.44l.94 2.06.94-2.06 2.06-.94-2.06-.94-.94-2.06-.94 2.06-2.06.94zm-11 1L8.5 8.5l.94-2.06 2.06-.94-2.06-.94L8.5 2.5l-.94 2.06-2.06.94zm10 10l.94 2.06.94-2.06 2.06-.94-2.06-.94-.94-2.06-.94 2.06-2.06.94z\"/><path d=\"M17.41 7.96l-1.37-1.37c-.4-.4-.92-.59-1.43-.59-.52 0-1.04.2-1.43.59L10.3 9.45l-7.72 7.72c-.78.78-.78 2.05 0 2.83L4 21.41c.39.39.9.59 1.41.59.51 0 1.02-.2 1.41-.59l7.78-7.78 2.81-2.81c.8-.78.8-2.07 0-2.86zM5.41 20L4 18.59l7.72-7.72 1.47 1.35L5.41 20z\"/>\n",
              "  </svg>\n",
              "      </button>\n",
              "      \n",
              "  <style>\n",
              "    .colab-df-container {\n",
              "      display:flex;\n",
              "      flex-wrap:wrap;\n",
              "      gap: 12px;\n",
              "    }\n",
              "\n",
              "    .colab-df-convert {\n",
              "      background-color: #E8F0FE;\n",
              "      border: none;\n",
              "      border-radius: 50%;\n",
              "      cursor: pointer;\n",
              "      display: none;\n",
              "      fill: #1967D2;\n",
              "      height: 32px;\n",
              "      padding: 0 0 0 0;\n",
              "      width: 32px;\n",
              "    }\n",
              "\n",
              "    .colab-df-convert:hover {\n",
              "      background-color: #E2EBFA;\n",
              "      box-shadow: 0px 1px 2px rgba(60, 64, 67, 0.3), 0px 1px 3px 1px rgba(60, 64, 67, 0.15);\n",
              "      fill: #174EA6;\n",
              "    }\n",
              "\n",
              "    [theme=dark] .colab-df-convert {\n",
              "      background-color: #3B4455;\n",
              "      fill: #D2E3FC;\n",
              "    }\n",
              "\n",
              "    [theme=dark] .colab-df-convert:hover {\n",
              "      background-color: #434B5C;\n",
              "      box-shadow: 0px 1px 3px 1px rgba(0, 0, 0, 0.15);\n",
              "      filter: drop-shadow(0px 1px 2px rgba(0, 0, 0, 0.3));\n",
              "      fill: #FFFFFF;\n",
              "    }\n",
              "  </style>\n",
              "\n",
              "      <script>\n",
              "        const buttonEl =\n",
              "          document.querySelector('#df-79182d11-d3fb-4c8d-a0ce-76d29dd5fd75 button.colab-df-convert');\n",
              "        buttonEl.style.display =\n",
              "          google.colab.kernel.accessAllowed ? 'block' : 'none';\n",
              "\n",
              "        async function convertToInteractive(key) {\n",
              "          const element = document.querySelector('#df-79182d11-d3fb-4c8d-a0ce-76d29dd5fd75');\n",
              "          const dataTable =\n",
              "            await google.colab.kernel.invokeFunction('convertToInteractive',\n",
              "                                                     [key], {});\n",
              "          if (!dataTable) return;\n",
              "\n",
              "          const docLinkHtml = 'Like what you see? Visit the ' +\n",
              "            '<a target=\"_blank\" href=https://colab.research.google.com/notebooks/data_table.ipynb>data table notebook</a>'\n",
              "            + ' to learn more about interactive tables.';\n",
              "          element.innerHTML = '';\n",
              "          dataTable['output_type'] = 'display_data';\n",
              "          await google.colab.output.renderOutput(dataTable, element);\n",
              "          const docLink = document.createElement('div');\n",
              "          docLink.innerHTML = docLinkHtml;\n",
              "          element.appendChild(docLink);\n",
              "        }\n",
              "      </script>\n",
              "    </div>\n",
              "  </div>\n",
              "  "
            ],
            "text/plain": [
              "                                          title  ...                             processed_description_\n",
              "0                           \"Pink Slip\" (2009)   ...  in tough economic times max and joey have all ...\n",
              "1                         Babylon Vista (2001)   ...  frankie reno was a child star on a tv show but...\n",
              "2                           Söderpojkar (1941)   ...  a gang of unemployed itinerant musicians play ...\n",
              "3                         Tunnel Vision (1976)   ...  a committee investigating tvs first uncensored...\n",
              "4             \"The Young Professionals\" (2015)   ...  whether its blocking up mouse holes running fr...\n",
              "...                                         ...  ...                                                ...\n",
              "7734                          Merrick (2017/I)   ...  ten years after a terrible disease has killed ...\n",
              "7735        Three Windows and a Hanging (2014)   ...  in a traditional village where life is gradual...\n",
              "7736                         Placebo (2013/II)   ...  alfred spent years as a patient in a mental in...\n",
              "7737                       Times Square (????)   ...  set amidst the transformation of times square ...\n",
              "7738   The Story of O: Untold Pleasures (2002)   ...  o is a talented photographer in her late twent...\n",
              "\n",
              "[7739 rows x 5 columns]"
            ]
          },
          "metadata": {},
          "execution_count": 10
        }
      ],
      "source": [
        "dataset"
      ]
    },
    {
      "cell_type": "code",
      "source": [
        "TOKENIZER_NUM_WORDS = 2000\n",
        "\n",
        "tokenizer = Tokenizer(num_words = TOKENIZER_NUM_WORDS)\n",
        "tokenizer.fit_on_texts(dataset.processed_description)"
      ],
      "metadata": {
        "id": "uKrApVsPSGHl"
      },
      "execution_count": null,
      "outputs": []
    },
    {
      "cell_type": "markdown",
      "metadata": {
        "id": "nLrZXVqZ7l5o"
      },
      "source": [
        "## Questão 1\n",
        "Resolva novamente a segunda questão da 3a lista usando pelo menos duas arquiteturas de redes neurais que utilizem camadas Embedding, convolucionais e \n",
        "LSTM. Compare com os resultados obtidos anteriormente nas lista 3 e 5."
      ]
    },
    {
      "cell_type": "code",
      "source": [
        "sequences = tokenizer.texts_to_sequences(dataset.processed_description)\n",
        "sequences = pad_sequences(sequences)"
      ],
      "metadata": {
        "id": "pBrspSb7SEmB"
      },
      "execution_count": null,
      "outputs": []
    },
    {
      "cell_type": "code",
      "source": [
        "lstm = Sequential([\n",
        "                   Embedding(input_dim = TOKENIZER_NUM_WORDS + 1, output_dim=300),\n",
        "                   Conv1D(filters= 32, kernel_size= 3),\n",
        "                   LSTM(units = 100),\n",
        "                   Dense(units = 16),\n",
        "                   Dense(units = 1, activation = 'sigmoid')\n",
        "])\n",
        "\n",
        "print(lstm.summary())"
      ],
      "metadata": {
        "colab": {
          "base_uri": "https://localhost:8080/"
        },
        "id": "olinOrjtS_Ss",
        "outputId": "b5b689d8-61a9-434c-b2cc-98126b982859"
      },
      "execution_count": null,
      "outputs": [
        {
          "output_type": "stream",
          "name": "stdout",
          "text": [
            "Model: \"sequential\"\n",
            "_________________________________________________________________\n",
            " Layer (type)                Output Shape              Param #   \n",
            "=================================================================\n",
            " embedding (Embedding)       (None, None, 300)         600300    \n",
            "                                                                 \n",
            " conv1d (Conv1D)             (None, None, 32)          28832     \n",
            "                                                                 \n",
            " lstm (LSTM)                 (None, 100)               53200     \n",
            "                                                                 \n",
            " dense (Dense)               (None, 16)                1616      \n",
            "                                                                 \n",
            " dense_1 (Dense)             (None, 1)                 17        \n",
            "                                                                 \n",
            "=================================================================\n",
            "Total params: 683,965\n",
            "Trainable params: 683,965\n",
            "Non-trainable params: 0\n",
            "_________________________________________________________________\n",
            "None\n"
          ]
        }
      ]
    },
    {
      "cell_type": "code",
      "source": [
        "#lstm.compile(loss = 'binary_crossentropy', optimizer = 'adam', metrics = ['accuracy'])\n",
        "#lstm.fit(x = sequences,\n",
        "#         y = dataset.genre.apply(lambda label: 0 if label == 'comedy' else 1),\n",
        "#         batch_size = 64,\n",
        "#         validation_split = 0.25,\n",
        "#         epochs = 20)"
      ],
      "metadata": {
        "id": "6XVClbutUDtd"
      },
      "execution_count": null,
      "outputs": []
    },
    {
      "cell_type": "markdown",
      "metadata": {
        "id": "XpXvmJtZ8fAa"
      },
      "source": [
        "## Questão 2\n",
        "Usando sua base de textos:\n",
        "\n",
        "a) Treine uma rede LSTM para gerar texto, que receba uma ou mais palavras\n",
        "de uma frase como entrada. O treinamento deve ser realizado considerando\n",
        "um conjunto supervisionado que gera a próxima palavra de uma sequência\n",
        "de tamanho 4, usando subsequências de sua base.\n",
        "\n",
        "b) Após o treinamento, exiba pelo menos 5 exemplos de textos dados de entrada, e do texto gerado em seguida pela rede treinada. Para cada exemplo, gere pelo menos 10 palavras consecutivamente."
      ]
    },
    {
      "cell_type": "code",
      "source": [
        "desc = dataset.processed_description_[:50]"
      ],
      "metadata": {
        "id": "y6WTfCCiZ7ZM"
      },
      "execution_count": null,
      "outputs": []
    },
    {
      "cell_type": "code",
      "source": [
        "desc"
      ],
      "metadata": {
        "colab": {
          "base_uri": "https://localhost:8080/"
        },
        "id": "S56u2MUyo-Gn",
        "outputId": "0331642c-8102-4d11-ab80-3d6274970906"
      },
      "execution_count": null,
      "outputs": [
        {
          "output_type": "execute_result",
          "data": {
            "text/plain": [
              "0     in tough economic times max and joey have all ...\n",
              "1     frankie reno was a child star on a tv show but...\n",
              "2     a gang of unemployed itinerant musicians play ...\n",
              "3     a committee investigating tvs first uncensored...\n",
              "4     whether its blocking up mouse holes running fr...\n",
              "5     when artie needs money for his daughters conse...\n",
              "6     the queen of clean is back for another soldout...\n",
              "7     if you want to preserve a feeling of relative ...\n",
              "8     argan a rich eccentric hypochondriac will do a...\n",
              "9     edouard is a pianist married with caroline thi...\n",
              "10    piero arrives in paris from luino after having...\n",
              "11    george stoody is a mildmannered bookstore owne...\n",
              "12    summer several tourists have vanished while re...\n",
              "13    there is just one citizen standing in the way ...\n",
              "14    welcome to golden picture studios a cheap prod...\n",
              "15    in this sequel to the hugely successful sanfor...\n",
              "16    the frustrated mohan seeks a eligible groom fo...\n",
              "17    academy awardwinner mary astor the maltese fal...\n",
              "18    donna and owen are sexually frustrated and bei...\n",
              "19    lloyd fellowes is the director of a theatre co...\n",
              "20    written without consent is a new sketch comedy...\n",
              "21    les doesnt have a driving license yet but to i...\n",
              "22    in his first stand up special tom clark conan ...\n",
              "23    a sketch comedy series finding humor in the st...\n",
              "24    tommy fakes his way through the science projec...\n",
              "25    irene a young girl from a small town arrives i...\n",
              "26    a suburban neighborhood is invaded by a team o...\n",
              "27    georg the head of an advertising company finds...\n",
              "28    former lawyer bobby myers recounts his first f...\n",
              "29    the onehour pilot geezers celebrates family va...\n",
              "30    veteran new york city comic dave attell is bac...\n",
              "31    john cooper is in a retirement home there are ...\n",
              "32    john dolen is a wholesome and credulous young ...\n",
              "33    widow abby abbott is having serious money prob...\n",
              "34    il barone fif ha bisogno di un erede per avere...\n",
              "35    lesha and alenare planing their wedding everyt...\n",
              "36    bad boy movie star derrick stone books himself...\n",
              "37    jerry tries to seduce his girlfriend monica vi...\n",
              "38    in napoli nicolino capece a truthful pharmacis...\n",
              "39    jennifer is the single mother of jamel an acti...\n",
              "40    my life worked out is a twohander comedyparody...\n",
              "41    deputy bob is a story about timmy obriens jour...\n",
              "42    three heavy boozers a romanian horatiu malaele...\n",
              "43    cassandra french is a yearold overachiever who...\n",
              "44    in a small village in the heart of catalonia a...\n",
              "45    a common man who happens to look like osama bi...\n",
              "46    beef baloney is a comedy variety show for the ...\n",
              "47    hello everybody now then as some of you might ...\n",
              "48    to save their home from foreclosure two tv pro...\n",
              "49    chestnut records was sitting pretty when rolle...\n",
              "Name: processed_description_, dtype: object"
            ]
          },
          "metadata": {},
          "execution_count": 15
        }
      ]
    },
    {
      "cell_type": "code",
      "source": [
        "tokenizer = Tokenizer()\n",
        "tokenizer.fit_on_texts(desc)\n",
        "\n",
        "vocab_size = len(tokenizer.word_index) + 1"
      ],
      "metadata": {
        "id": "qENjdTbdfxQp"
      },
      "execution_count": null,
      "outputs": []
    },
    {
      "cell_type": "code",
      "source": [
        "sequences = tokenizer.texts_to_sequences(desc)\n",
        "sequences = pad_sequences(sequences, padding='post')"
      ],
      "metadata": {
        "id": "Rg4PG3P8hMzG"
      },
      "execution_count": null,
      "outputs": []
    },
    {
      "cell_type": "code",
      "source": [
        "def gen_subseq(sequence):\n",
        "  seq, tar = [], []\n",
        "  win = [0, 0, 0, sequence[0]]\n",
        "\n",
        "  for i in sequence[1:]:\n",
        "    seq.append(win.copy()); tar.append(i)\n",
        "    for j in range(1, 4):\n",
        "      win[j-1] = win[j]\n",
        "    win[3] = i\n",
        "  \n",
        "  return seq, tar"
      ],
      "metadata": {
        "id": "UmSPTmHphRSR"
      },
      "execution_count": null,
      "outputs": []
    },
    {
      "cell_type": "code",
      "source": [
        "train_sequences, train_targets = [], []\n",
        "\n",
        "for s in sequences:\n",
        "  seq, tar = gen_subseq(s)\n",
        "  train_sequences.append(seq)\n",
        "  train_targets.append(tar)\n",
        "\n",
        "train_sequences = np.array([s for train_seq in train_sequences for s in train_seq])\n",
        "train_targets = to_categorical([t for train_tar in train_targets for t in train_tar])"
      ],
      "metadata": {
        "id": "291_51E4huEY"
      },
      "execution_count": null,
      "outputs": []
    },
    {
      "cell_type": "code",
      "source": [
        "train_sequences.shape"
      ],
      "metadata": {
        "colab": {
          "base_uri": "https://localhost:8080/"
        },
        "id": "Fao-3ZEQi28N",
        "outputId": "856f024c-8e4e-4b1e-aff9-1be3e60d3e6e"
      },
      "execution_count": null,
      "outputs": [
        {
          "output_type": "execute_result",
          "data": {
            "text/plain": [
              "(33050, 4)"
            ]
          },
          "metadata": {},
          "execution_count": 20
        }
      ]
    },
    {
      "cell_type": "code",
      "source": [
        "train_targets.shape"
      ],
      "metadata": {
        "colab": {
          "base_uri": "https://localhost:8080/"
        },
        "id": "kF49dqtLi6GX",
        "outputId": "3a41cf29-6e46-4451-df5c-20c20386e3d3"
      },
      "execution_count": null,
      "outputs": [
        {
          "output_type": "execute_result",
          "data": {
            "text/plain": [
              "(33050, 1949)"
            ]
          },
          "metadata": {},
          "execution_count": 21
        }
      ]
    },
    {
      "cell_type": "code",
      "source": [
        "lstm = Sequential([\n",
        "                   Embedding(input_dim=vocab_size, output_dim = 200, input_length=4),\n",
        "                   LSTM(units = 100, return_sequences=True),\n",
        "                   LSTM(units = 100),\n",
        "                   Dense(units=100, activation = 'relu'),\n",
        "                   Dense(units=vocab_size, activation = 'softmax')\n",
        "])\n",
        "\n",
        "print(lstm.summary())"
      ],
      "metadata": {
        "colab": {
          "base_uri": "https://localhost:8080/"
        },
        "id": "2xhLTuAAi9wZ",
        "outputId": "4ba425e3-fdc4-498f-9385-499228452905"
      },
      "execution_count": null,
      "outputs": [
        {
          "output_type": "stream",
          "name": "stdout",
          "text": [
            "Model: \"sequential_1\"\n",
            "_________________________________________________________________\n",
            " Layer (type)                Output Shape              Param #   \n",
            "=================================================================\n",
            " embedding_1 (Embedding)     (None, 4, 200)            389800    \n",
            "                                                                 \n",
            " lstm_1 (LSTM)               (None, 4, 100)            120400    \n",
            "                                                                 \n",
            " lstm_2 (LSTM)               (None, 100)               80400     \n",
            "                                                                 \n",
            " dense_2 (Dense)             (None, 100)               10100     \n",
            "                                                                 \n",
            " dense_3 (Dense)             (None, 1949)              196849    \n",
            "                                                                 \n",
            "=================================================================\n",
            "Total params: 797,549\n",
            "Trainable params: 797,549\n",
            "Non-trainable params: 0\n",
            "_________________________________________________________________\n",
            "None\n"
          ]
        }
      ]
    },
    {
      "cell_type": "code",
      "source": [
        "lstm.compile(loss = 'categorical_crossentropy', optimizer = 'adam', metrics=['accuracy'])\n",
        "\n",
        "lstm.fit(x = train_sequences,\n",
        "         y = train_targets,\n",
        "         batch_size = 64,\n",
        "         epochs = 1,\n",
        "         verbose = 1)"
      ],
      "metadata": {
        "colab": {
          "base_uri": "https://localhost:8080/"
        },
        "id": "n5l14UeAkN3l",
        "outputId": "09626d02-1af0-4bb0-dc05-211d8612f15b"
      },
      "execution_count": null,
      "outputs": [
        {
          "output_type": "stream",
          "name": "stdout",
          "text": [
            "517/517 [==============================] - 19s 29ms/step - loss: 1.4618 - accuracy: 0.8367\n"
          ]
        },
        {
          "output_type": "execute_result",
          "data": {
            "text/plain": [
              "<keras.callbacks.History at 0x7fbbbad01e50>"
            ]
          },
          "metadata": {},
          "execution_count": 23
        }
      ]
    },
    {
      "cell_type": "code",
      "source": [
        "def gen_sentence(seed, n):\n",
        "  words = seed.split(' ')\n",
        "  words = [tokenizer.word_index[w] for w in words]\n",
        "  predicted_words = []\n",
        "  \n",
        "  for _ in range(n):\n",
        "    predict = np.argmax(lstm.predict([words])[0])\n",
        "    predict_word = tokenizer.index_word[predict]\n",
        "    predicted_words.append(predict_word)\n",
        "    for i in range(1, 3):\n",
        "      words[i] = words[i+1]\n",
        "    words[3] = predict\n",
        "  \n",
        "  return seed + ' ' +  ' '.join(predicted_words)"
      ],
      "metadata": {
        "id": "ZhWwBJlHj_-R"
      },
      "execution_count": null,
      "outputs": []
    },
    {
      "cell_type": "code",
      "source": [
        "gen_sentence(seed= 'to save their home', n= 10)"
      ],
      "metadata": {
        "colab": {
          "base_uri": "https://localhost:8080/",
          "height": 35
        },
        "id": "fMMjb3LioQ9L",
        "outputId": "244b5277-f852-4346-ccfc-8b3b225c23d4"
      },
      "execution_count": null,
      "outputs": [
        {
          "output_type": "execute_result",
          "data": {
            "application/vnd.google.colaboratory.intrinsic+json": {
              "type": "string"
            },
            "text/plain": [
              "'to save their home the the the the the the the the the the'"
            ]
          },
          "metadata": {},
          "execution_count": 25
        }
      ]
    },
    {
      "cell_type": "markdown",
      "source": [
        "## Questão 3\n",
        "Usando sua base de textos e a biblioteca spaCy, realize as seguintes tarefas:\n",
        "\n",
        "a) Extraia as etiquetas gramaticais (POS) de cada token do seu textos.\n",
        "\n",
        "b) Calcule e plote um gráfico com as frequências de cada tipo gramatical.\n",
        "\n",
        "c) Extraia entidades do tipo pessoa e lugar dos seus textos.\n",
        "\n",
        "d) Identifique e liste as pessoas mais frequentes nos seus textos. Você só deve contar cada entidade 1 vez por documento."
      ],
      "metadata": {
        "id": "EU7F2228KdPe"
      }
    },
    {
      "cell_type": "code",
      "source": [
        "nlp = spacy.load(\"en_core_web_sm\")"
      ],
      "metadata": {
        "id": "YtLG_xuW36Iq"
      },
      "execution_count": null,
      "outputs": []
    },
    {
      "cell_type": "code",
      "source": [
        "processed_description_list = list(dataset['processed_description'].values)"
      ],
      "metadata": {
        "id": "7g8GsjbM_JlW"
      },
      "execution_count": null,
      "outputs": []
    },
    {
      "cell_type": "code",
      "source": [
        "token_pos = []\n",
        "\n",
        "for phrase in processed_description_list:\n",
        "    doc = nlp(phrase)\n",
        "\n",
        "    for token in doc:        \n",
        "        token_pos.append(token.pos_)\n",
        "\n",
        "token_pos[:20]"
      ],
      "metadata": {
        "colab": {
          "base_uri": "https://localhost:8080/"
        },
        "id": "Hnn-0E4N_gAN",
        "outputId": "17aef5d6-6a63-45c8-9acc-8c3e04099f64"
      },
      "execution_count": null,
      "outputs": [
        {
          "output_type": "execute_result",
          "data": {
            "text/plain": [
              "['ADJ',\n",
              " 'PROPN',\n",
              " 'NOUN',\n",
              " 'PROPN',\n",
              " 'PROPN',\n",
              " 'PROPN',\n",
              " 'NOUN',\n",
              " 'VERB',\n",
              " 'ADJ',\n",
              " 'NOUN',\n",
              " 'ADJ',\n",
              " 'PROPN',\n",
              " 'NOUN',\n",
              " 'VERB',\n",
              " 'NOUN',\n",
              " 'NUM',\n",
              " 'VERB',\n",
              " 'CCONJ',\n",
              " 'ADJ',\n",
              " 'NOUN']"
            ]
          },
          "metadata": {},
          "execution_count": 52
        }
      ]
    },
    {
      "cell_type": "code",
      "source": [
        "plt.figure(figsize=(24,8))\n",
        "plt.hist(token_pos, bins=16, rwidth=0.5, align='left', color='green')\n",
        "\n",
        "plt.xlabel('Tipo gramatical')\n",
        "plt.ylabel('Quantidade')\n",
        "  \n",
        "plt.title('Frequência de cada tipo gramatical',\n",
        "          fontweight =\"bold\")\n",
        "  \n",
        "plt.show()"
      ],
      "metadata": {
        "colab": {
          "base_uri": "https://localhost:8080/",
          "height": 513
        },
        "id": "pE95g_vQ6Izh",
        "outputId": "ea570665-0a72-4eb0-c310-2280e3cc704a"
      },
      "execution_count": null,
      "outputs": [
        {
          "output_type": "display_data",
          "data": {
            "image/png": "[encoded data removed]",
            "text/plain": [
              "<Figure size 1728x576 with 1 Axes>"
            ]
          },
          "metadata": {
            "needs_background": "light"
          }
        }
      ]
    },
    {
      "cell_type": "code",
      "source": [
        "entities_person_gpe = []\n",
        "persons = {}\n",
        "entities_to_search = ['PERSON', 'GPE']\n",
        "\n",
        "for phrase in processed_description_list:\n",
        "    doc = nlp(phrase)\n",
        "\n",
        "    for entity in doc.ents:\n",
        "      entity_persons_in_doc = []\n",
        "\n",
        "    if entity.label_ in entities_to_search:\n",
        "      entities_person_gpe.append((entity.text, entity.label_))\n",
        "      \n",
        "      if entity.label_ == 'PERSON':\n",
        "          entity_persons_in_doc.append(entity.text)\n",
        "      \n",
        "      unique_persons = list(set(entity_persons_in_doc))\n",
        "      \n",
        "      for unique_person in unique_persons:\n",
        "        if unique_person in persons.keys():\n",
        "          persons[unique_person] += 1\n",
        "        else:\n",
        "          persons[unique_person] = 1"
      ],
      "metadata": {
        "id": "bQGbRbWzDSlI"
      },
      "execution_count": null,
      "outputs": []
    },
    {
      "cell_type": "code",
      "source": [
        "entities_person_gpe[:20]"
      ],
      "metadata": {
        "colab": {
          "base_uri": "https://localhost:8080/"
        },
        "id": "5q-uPX57F9Iy",
        "outputId": "242ebe5a-08ce-4f56-be7e-4b4979f9d79c"
      },
      "execution_count": null,
      "outputs": [
        {
          "output_type": "execute_result",
          "data": {
            "text/plain": [
              "[('hollywood', 'GPE'),\n",
              " ('astrakhan maurice', 'PERSON'),\n",
              " ('las vegas', 'GPE'),\n",
              " ('eve', 'PERSON'),\n",
              " ('herbert marshall', 'PERSON'),\n",
              " ('kenny doug', 'PERSON'),\n",
              " ('theatre company', 'PERSON'),\n",
              " ('standup comedy favorite', 'PERSON'),\n",
              " ('sleepy joe', 'PERSON'),\n",
              " ('mum struggles', 'PERSON'),\n",
              " ('irene falls young ronald', 'PERSON'),\n",
              " ('kim', 'PERSON'),\n",
              " ('hollywood', 'GPE'),\n",
              " ('standup', 'PERSON'),\n",
              " ('john michael', 'PERSON'),\n",
              " ('monte cristo', 'PERSON'),\n",
              " ('susan', 'PERSON'),\n",
              " ('sicilia', 'GPE'),\n",
              " ('sicilia', 'GPE'),\n",
              " ('joe', 'PERSON')]"
            ]
          },
          "metadata": {},
          "execution_count": 80
        }
      ]
    },
    {
      "cell_type": "code",
      "source": [
        "get_entity = list([ent[1] for ent in entities_person_gpe])\n",
        "\n",
        "[(entity, get_entity.count(entity)) for entity in set(get_entity)]"
      ],
      "metadata": {
        "colab": {
          "base_uri": "https://localhost:8080/"
        },
        "id": "YAtkTOezGzZv",
        "outputId": "be6792b7-fe27-46fe-e78d-b28b6239f006"
      },
      "execution_count": null,
      "outputs": [
        {
          "output_type": "execute_result",
          "data": {
            "text/plain": [
              "[('GPE', 833), ('PERSON', 2719)]"
            ]
          },
          "metadata": {},
          "execution_count": 98
        }
      ]
    },
    {
      "cell_type": "code",
      "source": [
        "most_frequent_persons = [(key, value) for key, value in persons.items()]\n",
        "most_frequent_persons.sort(key= lambda person : person[1], reverse=True)\n",
        "most_frequent_persons[:10]"
      ],
      "metadata": {
        "colab": {
          "base_uri": "https://localhost:8080/"
        },
        "id": "abUUExtxJS20",
        "outputId": "c47c1244-7ed8-4ade-f61c-f61498ffd820"
      },
      "execution_count": null,
      "outputs": [
        {
          "output_type": "execute_result",
          "data": {
            "text/plain": [
              "[('joe', 14),\n",
              " ('david', 11),\n",
              " ('tom', 11),\n",
              " ('sam', 9),\n",
              " ('jane', 9),\n",
              " ('steve', 9),\n",
              " ('thomas', 8),\n",
              " ('dick', 8),\n",
              " ('maria', 8),\n",
              " ('sarah', 8)]"
            ]
          },
          "metadata": {},
          "execution_count": 110
        }
      ]
    },
    {
      "cell_type": "markdown",
      "source": [
        "## Questão 4\n",
        "Estude o tutorial *Character-level recurrent sequence-to-sequence model* disponível em https://keras.io/examples/nlp/lstm_seq2seq/.\n",
        "\n",
        "a) Treine um outro modelo de tradução entre línguas distintas e exiba 5 exemplos de tradução de frases curtas. Você pode encontrar conjuntos de treinamento em http://www.manythings.org/anki/.\n",
        "\n",
        "b) BONUS: Adapte o código para realizar tradução com uma rede *word-level*.\n"
      ],
      "metadata": {
        "id": "Qen9foNaKfnq"
      }
    },
    {
      "cell_type": "markdown",
      "metadata": {
        "id": "SkZ2rKF1CnNO"
      },
      "source": [
        "**Referências**"
      ]
    }
  ],
  "metadata": {
    "colab": {
      "collapsed_sections": [],
      "name": "pln_lista6.ipynb",
      "provenance": [],
      "include_colab_link": true
    },
    "kernelspec": {
      "display_name": "Python 3",
      "name": "python3"
    },
    "language_info": {
      "name": "python"
    }
  },
  "nbformat": 4,
  "nbformat_minor": 0
}