{
  "nbformat": 4,
  "nbformat_minor": 0,
  "metadata": {
    "colab": {
      "name": "pln_lista3.ipynb",
      "provenance": [],
      "collapsed_sections": [],
      "include_colab_link": true
    },
    "kernelspec": {
      "display_name": "Python 3",
      "name": "python3"
    },
    "language_info": {
      "name": "python"
    }
  },
  "cells": [
    {
      "cell_type": "markdown",
      "metadata": {
        "id": "view-in-github",
        "colab_type": "text"
      },
      "source": [
        "<a href=\"https://colab.research.google.com/github/audreyemmely/pln/blob/main/pln_lista3.ipynb\" target=\"_parent\"><img src=\"https://colab.research.google.com/assets/colab-badge.svg\" alt=\"Open In Colab\"/></a>"
      ]
    },
    {
      "cell_type": "markdown",
      "metadata": {
        "id": "UsfPoqEzXtXr"
      },
      "source": [
        "# **Resolução Lista 3**\n",
        "\n",
        "---\n",
        "\n",
        "Audrey Emmely Rodrigues Vasconcelos\n",
        "\n",
        "Karen Nayara Gomes da Silva"
      ]
    },
    {
      "cell_type": "code",
      "metadata": {
        "id": "xfcuzC_Sff5N"
      },
      "source": [
        "#from google.colab import files\n",
        "#uploaded = files.upload()\n",
        "#upando train_data e test_data"
      ],
      "execution_count": 1,
      "outputs": []
    },
    {
      "cell_type": "markdown",
      "metadata": {
        "id": "FEPD5HWjYXta"
      },
      "source": [
        "###### Questão 1\n",
        "Escolha 10 documentos da base, e determine seu documento mais parecido\n",
        "(que não pode ser ele mesmo), usando:\n",
        "\n",
        "a) Representação vetorial CountVectorizer com similaridade do cosseno;\n",
        "\n",
        "b) Representação vetorial TF-IDF com similaridade do cosseno.\n",
        "\n",
        "Mostre pelo menos um trecho de cada par de documentos parecidos que justifique\n",
        "essa semelhança."
      ]
    },
    {
      "cell_type": "code",
      "metadata": {
        "id": "hX6qfB9JyX4m"
      },
      "source": [
        "import pandas as pd\n",
        "import numpy as np\n",
        "import random\n",
        "import re\n",
        "import nltk\n",
        "from IPython.core.display import display, HTML\n",
        "from sklearn.metrics.pairwise import cosine_similarity\n",
        "from sklearn.feature_extraction.text import CountVectorizer, TfidfVectorizer"
      ],
      "execution_count": 2,
      "outputs": []
    },
    {
      "cell_type": "code",
      "metadata": {
        "colab": {
          "base_uri": "https://localhost:8080/"
        },
        "id": "pCLz9pKLyeN8",
        "outputId": "14481408-47ca-4bbb-e0f9-d7234123debf"
      },
      "source": [
        "nltk.download('stopwords')\n",
        "nltk.download('punkt')"
      ],
      "execution_count": 3,
      "outputs": [
        {
          "output_type": "stream",
          "name": "stdout",
          "text": [
            "[nltk_data] Downloading package stopwords to /root/nltk_data...\n",
            "[nltk_data]   Package stopwords is already up-to-date!\n",
            "[nltk_data] Downloading package punkt to /root/nltk_data...\n",
            "[nltk_data]   Package punkt is already up-to-date!\n"
          ]
        },
        {
          "output_type": "execute_result",
          "data": {
            "text/plain": [
              "True"
            ]
          },
          "metadata": {},
          "execution_count": 3
        }
      ]
    },
    {
      "cell_type": "code",
      "metadata": {
        "id": "j-YAOw3Oyi1f"
      },
      "source": [
        "df_train = pd.read_csv('train_data.txt', sep =':::', header = None, engine = 'python', nrows = 10000)\n",
        "df_train.columns = ['id', 'title', 'genre', 'description']\n",
        "df_train['label'] = 'train'\n",
        "df_test = pd.read_csv('test_data.txt', sep =':::', header = None, engine = 'python', nrows = 10000)\n",
        "df_test.columns = ['id', 'title', 'description']\n",
        "df_test['label'] = 'test'"
      ],
      "execution_count": 4,
      "outputs": []
    },
    {
      "cell_type": "code",
      "metadata": {
        "id": "RJCzzipb2i62"
      },
      "source": [
        "df_train.drop(['id', 'genre'], axis=1, inplace=True)"
      ],
      "execution_count": 5,
      "outputs": []
    },
    {
      "cell_type": "code",
      "metadata": {
        "id": "85Lz_oLE2gie"
      },
      "source": [
        "df_test.drop('id', axis=1, inplace=True)"
      ],
      "execution_count": 6,
      "outputs": []
    },
    {
      "cell_type": "code",
      "metadata": {
        "id": "PeEwFJSl4OZ6"
      },
      "source": [
        "dataset = pd.concat([df_train, df_test], ignore_index=True)"
      ],
      "execution_count": 7,
      "outputs": []
    },
    {
      "cell_type": "code",
      "metadata": {
        "id": "-GOxiN5tzCQ1"
      },
      "source": [
        "def preprocess(description):\n",
        "  description = re.sub(r'\\w*\\d\\w*', '', description) #remove todas as palavras que contêm números\n",
        "  description = re.sub(r'[^a-zA-Z ]', '', description.lower())\n",
        "  return re.sub(r'\\s+', ' ', description) #retira espaços repetidos"
      ],
      "execution_count": 8,
      "outputs": []
    },
    {
      "cell_type": "code",
      "metadata": {
        "id": "JcjMcK1pzC3e"
      },
      "source": [
        "dataset.description = dataset.description.apply(preprocess)"
      ],
      "execution_count": 9,
      "outputs": []
    },
    {
      "cell_type": "code",
      "metadata": {
        "id": "ho9Fk87_ziAo"
      },
      "source": [
        "stop_words = set(nltk.corpus.stopwords.words('english'))\n",
        "def remove_stopwords(description):\n",
        "    tokenized_text = nltk.word_tokenize(description, language='english')\n",
        "    return \" \".join([token for token in tokenized_text if token not in stop_words])"
      ],
      "execution_count": 10,
      "outputs": []
    },
    {
      "cell_type": "code",
      "metadata": {
        "id": "XPrZnVNrzimH"
      },
      "source": [
        "dataset['description'] = dataset.description.apply(remove_stopwords)"
      ],
      "execution_count": 11,
      "outputs": []
    },
    {
      "cell_type": "code",
      "metadata": {
        "colab": {
          "base_uri": "https://localhost:8080/",
          "height": 424
        },
        "id": "9UMF7pwC4AJb",
        "outputId": "35567f91-0016-48b3-f72d-a3deb941625a"
      },
      "source": [
        "dataset"
      ],
      "execution_count": 12,
      "outputs": [
        {
          "output_type": "execute_result",
          "data": {
            "text/html": [
              "<div>\n",
              "<style scoped>\n",
              "    .dataframe tbody tr th:only-of-type {\n",
              "        vertical-align: middle;\n",
              "    }\n",
              "\n",
              "    .dataframe tbody tr th {\n",
              "        vertical-align: top;\n",
              "    }\n",
              "\n",
              "    .dataframe thead th {\n",
              "        text-align: right;\n",
              "    }\n",
              "</style>\n",
              "<table border=\"1\" class=\"dataframe\">\n",
              "  <thead>\n",
              "    <tr style=\"text-align: right;\">\n",
              "      <th></th>\n",
              "      <th>title</th>\n",
              "      <th>description</th>\n",
              "      <th>label</th>\n",
              "    </tr>\n",
              "  </thead>\n",
              "  <tbody>\n",
              "    <tr>\n",
              "      <th>0</th>\n",
              "      <td>Oscar et la dame rose (2009)</td>\n",
              "      <td>listening conversation doctor parents yearold ...</td>\n",
              "      <td>train</td>\n",
              "    </tr>\n",
              "    <tr>\n",
              "      <th>1</th>\n",
              "      <td>Cupid (1997)</td>\n",
              "      <td>brother sister past incestuous relationship cu...</td>\n",
              "      <td>train</td>\n",
              "    </tr>\n",
              "    <tr>\n",
              "      <th>2</th>\n",
              "      <td>Young, Wild and Wonderful (1980)</td>\n",
              "      <td>bus empties students field trip museum natural...</td>\n",
              "      <td>train</td>\n",
              "    </tr>\n",
              "    <tr>\n",
              "      <th>3</th>\n",
              "      <td>The Secret Sin (1915)</td>\n",
              "      <td>help unemployed father make ends meet edith tw...</td>\n",
              "      <td>train</td>\n",
              "    </tr>\n",
              "    <tr>\n",
              "      <th>4</th>\n",
              "      <td>The Unrecovered (2007)</td>\n",
              "      <td>films title refers unrecovered bodies ground z...</td>\n",
              "      <td>train</td>\n",
              "    </tr>\n",
              "    <tr>\n",
              "      <th>...</th>\n",
              "      <td>...</td>\n",
              "      <td>...</td>\n",
              "      <td>...</td>\n",
              "    </tr>\n",
              "    <tr>\n",
              "      <th>19995</th>\n",
              "      <td>9/11: Millionaire Widows (2008)</td>\n",
              "      <td>wake events nearly families slated receive nea...</td>\n",
              "      <td>test</td>\n",
              "    </tr>\n",
              "    <tr>\n",
              "      <th>19996</th>\n",
              "      <td>Gangsters of the Frontier (1944)</td>\n",
              "      <td>tex put kern gang away returned reinforcements...</td>\n",
              "      <td>test</td>\n",
              "    </tr>\n",
              "    <tr>\n",
              "      <th>19997</th>\n",
              "      <td>Saheb Bahadur (1977)</td>\n",
              "      <td>small town situated picturesque indian valley ...</td>\n",
              "      <td>test</td>\n",
              "    </tr>\n",
              "    <tr>\n",
              "      <th>19998</th>\n",
              "      <td>Sitting in Limbo (1997)</td>\n",
              "      <td>easter sunday sunday school classroom argument...</td>\n",
              "      <td>test</td>\n",
              "    </tr>\n",
              "    <tr>\n",
              "      <th>19999</th>\n",
              "      <td>\"FilmSnobbery Live!\" (2009)</td>\n",
              "      <td>filmsnobbery live web broadcast live interview...</td>\n",
              "      <td>test</td>\n",
              "    </tr>\n",
              "  </tbody>\n",
              "</table>\n",
              "<p>20000 rows × 3 columns</p>\n",
              "</div>"
            ],
            "text/plain": [
              "                                    title  ...  label\n",
              "0           Oscar et la dame rose (2009)   ...  train\n",
              "1                           Cupid (1997)   ...  train\n",
              "2       Young, Wild and Wonderful (1980)   ...  train\n",
              "3                  The Secret Sin (1915)   ...  train\n",
              "4                 The Unrecovered (2007)   ...  train\n",
              "...                                   ...  ...    ...\n",
              "19995    9/11: Millionaire Widows (2008)   ...   test\n",
              "19996   Gangsters of the Frontier (1944)   ...   test\n",
              "19997               Saheb Bahadur (1977)   ...   test\n",
              "19998            Sitting in Limbo (1997)   ...   test\n",
              "19999        \"FilmSnobbery Live!\" (2009)   ...   test\n",
              "\n",
              "[20000 rows x 3 columns]"
            ]
          },
          "metadata": {},
          "execution_count": 12
        }
      ]
    },
    {
      "cell_type": "code",
      "metadata": {
        "id": "w9n4Jev74wEB"
      },
      "source": [
        "tfidf_X = TfidfVectorizer().fit_transform(dataset.description)\n",
        "count_X = CountVectorizer().fit_transform(dataset.description)\n",
        "\n",
        "tfidf_similarity_matrix = cosine_similarity(tfidf_X)\n",
        "count_similarity_matrix = cosine_similarity(count_X)"
      ],
      "execution_count": 13,
      "outputs": []
    },
    {
      "cell_type": "code",
      "metadata": {
        "id": "Io22gbvC5vVC"
      },
      "source": [
        "np.fill_diagonal(tfidf_similarity_matrix, 0.0)\n",
        "np.fill_diagonal(count_similarity_matrix, 0.0)\n",
        "\n",
        "result = [\n",
        "    {\n",
        "        'doc': dataset.iloc[i],\n",
        "        'tfidf_similar_doc': dataset.iloc[tfidf_similarity_matrix[i, :].argmax()],\n",
        "        'tfidf_similarity': tfidf_similarity_matrix[i, :].max(),\n",
        "        'count_similar_doc': dataset.iloc[count_similarity_matrix[i, :].argmax()],\n",
        "        'count_similarity': count_similarity_matrix[i, :].max(),\n",
        "    }\n",
        "    for i in [random.randint(0, len(dataset)) for _ in range(10)]\n",
        "]    "
      ],
      "execution_count": 28,
      "outputs": []
    },
    {
      "cell_type": "code",
      "metadata": {
        "colab": {
          "base_uri": "https://localhost:8080/",
          "height": 17
        },
        "id": "_P4Anovz6NkO",
        "outputId": "e9b7987b-d48a-4fd8-e735-9104f5fa3194"
      },
      "source": [
        "%%html\n",
        "<style>\n",
        "    code {\n",
        "        padding: 2px;\n",
        "        color: blue;\n",
        "    }\n",
        "    .w-half {\n",
        "        width: 50%;\n",
        "    }\n",
        "    .left {\n",
        "        float: left;\n",
        "    }\n",
        "    .right {\n",
        "        float: right;\n",
        "    }\n",
        "    .col {\n",
        "        height: 100%;\n",
        "        padding-left: 16px;\n",
        "        padding-right: 16px;\n",
        "        padding-top: 8px;\n",
        "        padding-bottom: 8px;\n",
        "\n",
        "    }\n",
        "    .better {\n",
        "        color: white;\n",
        "        background-color: #5cb85c;\n",
        "    }\n",
        "    .worse {\n",
        "        color: black;\n",
        "        background-color: ;\n",
        "    }\n",
        "</style>"
      ],
      "execution_count": 29,
      "outputs": [
        {
          "output_type": "display_data",
          "data": {
            "text/html": [
              "<style>\n",
              "    code {\n",
              "        padding: 2px;\n",
              "        color: blue;\n",
              "    }\n",
              "    .w-half {\n",
              "        width: 50%;\n",
              "    }\n",
              "    .left {\n",
              "        float: left;\n",
              "    }\n",
              "    .right {\n",
              "        float: right;\n",
              "    }\n",
              "    .col {\n",
              "        height: 100%;\n",
              "        padding-left: 16px;\n",
              "        padding-right: 16px;\n",
              "        padding-top: 8px;\n",
              "        padding-bottom: 8px;\n",
              "\n",
              "    }\n",
              "    .better {\n",
              "        color: white;\n",
              "        background-color: #5cb85c;\n",
              "    }\n",
              "    .worse {\n",
              "        color: black;\n",
              "        background-color: ;\n",
              "    }\n",
              "</style>"
            ],
            "text/plain": [
              "<IPython.core.display.HTML object>"
            ]
          },
          "metadata": {}
        }
      ]
    },
    {
      "cell_type": "code",
      "metadata": {
        "colab": {
          "base_uri": "https://localhost:8080/",
          "height": 1000
        },
        "id": "dlT8lm3w6sMJ",
        "outputId": "55d5317e-e92b-4aa2-acac-ff454deb1110"
      },
      "source": [
        "for r in result:\n",
        "    title = r['doc'].title if r['doc'].title != '' else r['doc'].description[:140] + '...'\n",
        "    movie = '<span>%(title)s</span> <span>%(description)s</span>'\n",
        "    result_class = lambda vectorizer, r: 'better' if r[vectorizer + '_similarity'] > r[('tfidf' if vectorizer == 'count' else 'count') + '_similarity'] else 'worse' \n",
        "    desc_length = 280\n",
        "    \n",
        "    tfidf_content = movie % ({\n",
        "        'title': r['tfidf_similar_doc'].title,\n",
        "        'description': r['tfidf_similar_doc'].description[:desc_length] + '...',\n",
        "    })\n",
        "    count_content = movie % ({ \n",
        "        'title': r['count_similar_doc'].title,\n",
        "        'description': r['count_similar_doc'].description[:desc_length] + '...',\n",
        "    })\n",
        "    \n",
        "    display(HTML('''\n",
        "    <div style=\"margin: 8px; border: 1px solid lightgray\">\n",
        "        <div style=\"text-align: center;background-color: whitesmoke;padding: 8px\"><p r['doc'].title>''' + title + '''</p></div></div>\n",
        "        <div>\n",
        "            <div class=\"left w-half\">\n",
        "                <div class=\"col ''' + result_class('tfidf', r) + '''\">\n",
        "                    <div><strong>TF-IDF Vectorizer: </strong>''' + str(r['tfidf_similarity'])[:6] + '''</div>\n",
        "                    <div>''' + tfidf_content + '''</div>\n",
        "                </div>\n",
        "            </div>\n",
        "            <div class=\"right w-half\">\n",
        "                <div class=\"col ''' + result_class('count', r) + '''\">\n",
        "                <div><strong>Count Vectorizer: </strong>''' + str(r['count_similarity'])[:6] + '''</div>\n",
        "                <div>''' + count_content + '''</div>\n",
        "                </div>\n",
        "            </div>\n",
        "        </div>\n",
        "    </div>\n",
        "    '''))"
      ],
      "execution_count": 31,
      "outputs": [
        {
          "output_type": "display_data",
          "data": {
            "text/html": [
              "\n",
              "    <div style=\"margin: 8px; border: 1px solid lightgray\">\n",
              "        <div style=\"text-align: center;background-color: whitesmoke;padding: 8px\"><p r['doc'].title> Right to Risk: A 15 Day Journey Through Arizona's Grand Canyon (2006) </p></div></div>\n",
              "        <div>\n",
              "            <div class=\"left w-half\">\n",
              "                <div class=\"col better\">\n",
              "                    <div><strong>TF-IDF Vectorizer: </strong>0.1990</div>\n",
              "                    <div><span> Untold Desires (1994) </span> <span>documentary provides insight sexuality australians variety disabilities worked americans disabilities almost years pleasantly surprised progressive australia two decades ago film released interviewees use wheelchairs spoke would difficult engage sex another wheelchair user mobili...</span></div>\n",
              "                </div>\n",
              "            </div>\n",
              "            <div class=\"right w-half\">\n",
              "                <div class=\"col worse\">\n",
              "                <div><strong>Count Vectorizer: </strong>0.1785</div>\n",
              "                <div><span> \"Divorce the Talk Show\" (????) </span> <span>today ever large population americans men women face issues divorce show simple look divorce men face divorce turn bright light men face divorce challenges men speak peace air laundry dirty tell women go theyve show helps men tell truth feelings gives viewers glimpse lost passion...</span></div>\n",
              "                </div>\n",
              "            </div>\n",
              "        </div>\n",
              "    </div>\n",
              "    "
            ],
            "text/plain": [
              "<IPython.core.display.HTML object>"
            ]
          },
          "metadata": {}
        },
        {
          "output_type": "display_data",
          "data": {
            "text/html": [
              "\n",
              "    <div style=\"margin: 8px; border: 1px solid lightgray\">\n",
              "        <div style=\"text-align: center;background-color: whitesmoke;padding: 8px\"><p r['doc'].title> \"Kody Kapow\" (2017) </p></div></div>\n",
              "        <div>\n",
              "            <div class=\"left w-half\">\n",
              "                <div class=\"col worse\">\n",
              "                    <div><strong>TF-IDF Vectorizer: </strong>0.1240</div>\n",
              "                    <div><span> Makdach Lagin (2014) </span> <span>film based village story two village hero heroin studying collage sue village people allowed get married planned monkey marriage every one gets excited started preparation buy finally pranan jero heroin get happily married village problems gets sort dis film based two village sto...</span></div>\n",
              "                </div>\n",
              "            </div>\n",
              "            <div class=\"right w-half\">\n",
              "                <div class=\"col better\">\n",
              "                <div><strong>Count Vectorizer: </strong>0.1852</div>\n",
              "                <div><span> Makdach Lagin (2014) </span> <span>film based village story two village hero heroin studying collage sue village people allowed get married planned monkey marriage every one gets excited started preparation buy finally pranan jero heroin get happily married village problems gets sort dis film based two village sto...</span></div>\n",
              "                </div>\n",
              "            </div>\n",
              "        </div>\n",
              "    </div>\n",
              "    "
            ],
            "text/plain": [
              "<IPython.core.display.HTML object>"
            ]
          },
          "metadata": {}
        },
        {
          "output_type": "display_data",
          "data": {
            "text/html": [
              "\n",
              "    <div style=\"margin: 8px; border: 1px solid lightgray\">\n",
              "        <div style=\"text-align: center;background-color: whitesmoke;padding: 8px\"><p r['doc'].title> Voices of Chile (2011) </p></div></div>\n",
              "        <div>\n",
              "            <div class=\"left w-half\">\n",
              "                <div class=\"col worse\">\n",
              "                    <div><strong>TF-IDF Vectorizer: </strong>0.1897</div>\n",
              "                    <div><span> El botón de nácar (2015) </span> <span>ocean contains history humanity sea holds voices earth come outer space water receives impetus stars transmits living creatures water longest border chile also holds secret two mysterious buttons found ocean floor chile miles coastline largest archipelago world presents supernatu...</span></div>\n",
              "                </div>\n",
              "            </div>\n",
              "            <div class=\"right w-half\">\n",
              "                <div class=\"col better\">\n",
              "                <div><strong>Count Vectorizer: </strong>0.2290</div>\n",
              "                <div><span> Joyce at 34 (1972) </span> <span>film stars chopra examines affect pregnancy film making career documentary received american film festival blue ribbon award film considered important film feminist film scholars film explores issues surrounding women pursuing creation family also creating professional career...</span></div>\n",
              "                </div>\n",
              "            </div>\n",
              "        </div>\n",
              "    </div>\n",
              "    "
            ],
            "text/plain": [
              "<IPython.core.display.HTML object>"
            ]
          },
          "metadata": {}
        },
        {
          "output_type": "display_data",
          "data": {
            "text/html": [
              "\n",
              "    <div style=\"margin: 8px; border: 1px solid lightgray\">\n",
              "        <div style=\"text-align: center;background-color: whitesmoke;padding: 8px\"><p r['doc'].title> JUNE 6 (2013) </p></div></div>\n",
              "        <div>\n",
              "            <div class=\"left w-half\">\n",
              "                <div class=\"col worse\">\n",
              "                    <div><strong>TF-IDF Vectorizer: </strong>0.1429</div>\n",
              "                    <div><span> Forgotten Tragedy: The Story of the St. Francis Dam (2018) </span> <span>forgotten tragedy story st francis dam tells tale largest manmade disaster century tragedy largely lost history movie journey early history los angeles citys water needs ever growing demand led larger larger projects eventually tragedy film discusses history tragedy roll william ...</span></div>\n",
              "                </div>\n",
              "            </div>\n",
              "            <div class=\"right w-half\">\n",
              "                <div class=\"col better\">\n",
              "                <div><strong>Count Vectorizer: </strong>0.2099</div>\n",
              "                <div><span> Forgotten Tragedy: The Story of the St. Francis Dam (2018) </span> <span>forgotten tragedy story st francis dam tells tale largest manmade disaster century tragedy largely lost history movie journey early history los angeles citys water needs ever growing demand led larger larger projects eventually tragedy film discusses history tragedy roll william ...</span></div>\n",
              "                </div>\n",
              "            </div>\n",
              "        </div>\n",
              "    </div>\n",
              "    "
            ],
            "text/plain": [
              "<IPython.core.display.HTML object>"
            ]
          },
          "metadata": {}
        },
        {
          "output_type": "display_data",
          "data": {
            "text/html": [
              "\n",
              "    <div style=\"margin: 8px; border: 1px solid lightgray\">\n",
              "        <div style=\"text-align: center;background-color: whitesmoke;padding: 8px\"><p r['doc'].title> Supertramps (2004) </p></div></div>\n",
              "        <div>\n",
              "            <div class=\"left w-half\">\n",
              "                <div class=\"col worse\">\n",
              "                    <div><strong>TF-IDF Vectorizer: </strong>0.1287</div>\n",
              "                    <div><span> Cat Nation: A Film About Japan's Crazy Cat Culture (2017) </span> <span>cat fanatics everywhere rejoice cat nation takes viewers journey unique often bizarre world japanese cat culture follow british youtube personality chris broad treks across land rising sun document numerous unusual catcentric activities cat themed cafes bars temples even entire c...</span></div>\n",
              "                </div>\n",
              "            </div>\n",
              "            <div class=\"right w-half\">\n",
              "                <div class=\"col better\">\n",
              "                <div><strong>Count Vectorizer: </strong>0.1440</div>\n",
              "                <div><span> Cat Nation: A Film About Japan's Crazy Cat Culture (2017) </span> <span>cat fanatics everywhere rejoice cat nation takes viewers journey unique often bizarre world japanese cat culture follow british youtube personality chris broad treks across land rising sun document numerous unusual catcentric activities cat themed cafes bars temples even entire c...</span></div>\n",
              "                </div>\n",
              "            </div>\n",
              "        </div>\n",
              "    </div>\n",
              "    "
            ],
            "text/plain": [
              "<IPython.core.display.HTML object>"
            ]
          },
          "metadata": {}
        },
        {
          "output_type": "display_data",
          "data": {
            "text/html": [
              "\n",
              "    <div style=\"margin: 8px; border: 1px solid lightgray\">\n",
              "        <div style=\"text-align: center;background-color: whitesmoke;padding: 8px\"><p r['doc'].title> Friendship Hotel (2006) </p></div></div>\n",
              "        <div>\n",
              "            <div class=\"left w-half\">\n",
              "                <div class=\"col worse\">\n",
              "                    <div><strong>TF-IDF Vectorizer: </strong>0.2609</div>\n",
              "                    <div><span> Hotel (1967) </span> <span>story clocklike movements giant big city new orleans hotel ambitious yet loyal manager wrestles roundtheclock drama guests brazen sneak thief nightly relieves guests property chased though underground passages hotel big business power play control thrilling crash elevator add exc...</span></div>\n",
              "                </div>\n",
              "            </div>\n",
              "            <div class=\"right w-half\">\n",
              "                <div class=\"col better\">\n",
              "                <div><strong>Count Vectorizer: </strong>0.2935</div>\n",
              "                <div><span> Hotel (1967) </span> <span>story clocklike movements giant big city new orleans hotel ambitious yet loyal manager wrestles roundtheclock drama guests brazen sneak thief nightly relieves guests property chased though underground passages hotel big business power play control thrilling crash elevator add exc...</span></div>\n",
              "                </div>\n",
              "            </div>\n",
              "        </div>\n",
              "    </div>\n",
              "    "
            ],
            "text/plain": [
              "<IPython.core.display.HTML object>"
            ]
          },
          "metadata": {}
        },
        {
          "output_type": "display_data",
          "data": {
            "text/html": [
              "\n",
              "    <div style=\"margin: 8px; border: 1px solid lightgray\">\n",
              "        <div style=\"text-align: center;background-color: whitesmoke;padding: 8px\"><p r['doc'].title> Great White Serial Killer (2013) </p></div></div>\n",
              "        <div>\n",
              "            <div class=\"left w-half\">\n",
              "                <div class=\"col worse\">\n",
              "                    <div><strong>TF-IDF Vectorizer: </strong>0.2438</div>\n",
              "                    <div><span> Shark Island: Shark Week (2015) </span> <span>remote corner indian ocean reunion island become dangerous place planet shark attacks deaths years locals scientists race time find answers another fatal encounter...</span></div>\n",
              "                </div>\n",
              "            </div>\n",
              "            <div class=\"right w-half\">\n",
              "                <div class=\"col better\">\n",
              "                <div><strong>Count Vectorizer: </strong>0.2671</div>\n",
              "                <div><span> Great White Lies (2015) </span> <span>focusing western australian governments decision january hunt kill protected great white shark filmmaker skyler thomas visits australia south africa new zealand learn shark culling practices locations interviewing scientists politicians surfers activists great white lies thorough...</span></div>\n",
              "                </div>\n",
              "            </div>\n",
              "        </div>\n",
              "    </div>\n",
              "    "
            ],
            "text/plain": [
              "<IPython.core.display.HTML object>"
            ]
          },
          "metadata": {}
        },
        {
          "output_type": "display_data",
          "data": {
            "text/html": [
              "\n",
              "    <div style=\"margin: 8px; border: 1px solid lightgray\">\n",
              "        <div style=\"text-align: center;background-color: whitesmoke;padding: 8px\"><p r['doc'].title> Domingo de Gre-Nal (1979) </p></div></div>\n",
              "        <div>\n",
              "            <div class=\"left w-half\">\n",
              "                <div class=\"col worse\">\n",
              "                    <div><strong>TF-IDF Vectorizer: </strong>0.1877</div>\n",
              "                    <div><span> Alternative Election Night (2010) </span> <span>charlie brooker qv jimmy carr ii qv lauren laverne qv david mitchell vi qv respond irreverently election results unfold includes special electionthemed editions come dine qv fonejacker qv watching qv...</span></div>\n",
              "                </div>\n",
              "            </div>\n",
              "            <div class=\"right w-half\">\n",
              "                <div class=\"col better\">\n",
              "                <div><strong>Count Vectorizer: </strong>0.2684</div>\n",
              "                <div><span> Alternative Election Night (2010) </span> <span>charlie brooker qv jimmy carr ii qv lauren laverne qv david mitchell vi qv respond irreverently election results unfold includes special electionthemed editions come dine qv fonejacker qv watching qv...</span></div>\n",
              "                </div>\n",
              "            </div>\n",
              "        </div>\n",
              "    </div>\n",
              "    "
            ],
            "text/plain": [
              "<IPython.core.display.HTML object>"
            ]
          },
          "metadata": {}
        },
        {
          "output_type": "display_data",
          "data": {
            "text/html": [
              "\n",
              "    <div style=\"margin: 8px; border: 1px solid lightgray\">\n",
              "        <div style=\"text-align: center;background-color: whitesmoke;padding: 8px\"><p r['doc'].title> \"NWA: Total Nonstop Action\" (2002) </p></div></div>\n",
              "        <div>\n",
              "            <div class=\"left w-half\">\n",
              "                <div class=\"col worse\">\n",
              "                    <div><strong>TF-IDF Vectorizer: </strong>0.1607</div>\n",
              "                    <div><span> WWE Great Balls of Fire (2017) </span> <span>wwe great balls fire professional wrestling pay per view event consisting wwe wrestlers raw brand taketook place american airlines center dallas texas july match card follows neville c vs akira tozawa titus oneil singles match wwe cruiserweight championship brock lesnar c paul he...</span></div>\n",
              "                </div>\n",
              "            </div>\n",
              "            <div class=\"right w-half\">\n",
              "                <div class=\"col better\">\n",
              "                <div><strong>Count Vectorizer: </strong>0.2762</div>\n",
              "                <div><span> Airborne (1998) </span> <span>bill mcneil heads black ops team called mach called retrieve cannister deadly viral agent stolen government arms dealer team retrieve weapon team setup bill knows traitor behind things gang thieves break top secret government research centre steal deadly virus mach top secret spe...</span></div>\n",
              "                </div>\n",
              "            </div>\n",
              "        </div>\n",
              "    </div>\n",
              "    "
            ],
            "text/plain": [
              "<IPython.core.display.HTML object>"
            ]
          },
          "metadata": {}
        },
        {
          "output_type": "display_data",
          "data": {
            "text/html": [
              "\n",
              "    <div style=\"margin: 8px; border: 1px solid lightgray\">\n",
              "        <div style=\"text-align: center;background-color: whitesmoke;padding: 8px\"><p r['doc'].title> \"The Easter Experience\" (2007) </p></div></div>\n",
              "        <div>\n",
              "            <div class=\"left w-half\">\n",
              "                <div class=\"col worse\">\n",
              "                    <div><strong>TF-IDF Vectorizer: </strong>0.3108</div>\n",
              "                    <div><span> Ubiytsa (1995) </span> <span>tragic accident happens shooting movie jesus christ actor plays jesus killed director movie believes guilty death...</span></div>\n",
              "                </div>\n",
              "            </div>\n",
              "            <div class=\"right w-half\">\n",
              "                <div class=\"col better\">\n",
              "                <div><strong>Count Vectorizer: </strong>0.3667</div>\n",
              "                <div><span> Sticks & Stones (2008/II) </span> <span>documentary takes journey life homeless exploring life one man faced harsh reality street life many years despite extreme conditions life goes winnipeg man survive odds journey reminder fragility life challenge might believe truth...</span></div>\n",
              "                </div>\n",
              "            </div>\n",
              "        </div>\n",
              "    </div>\n",
              "    "
            ],
            "text/plain": [
              "<IPython.core.display.HTML object>"
            ]
          },
          "metadata": {}
        }
      ]
    },
    {
      "cell_type": "markdown",
      "metadata": {
        "id": "AbGJgNOGYkhx"
      },
      "source": [
        "###### Questão 2\n",
        "Elabore um problema de classificação binária de textos coerente com sua\n",
        "base.\n",
        "\n",
        "a) Determine o rótulo dos documentos (separando os documentos em classes\n",
        "bem definidas).\n",
        "\n",
        "b) Extraia as representações vetoriais com CountVectorizer e TF-IDF.\n",
        "\n",
        "c) Treine um classificador baseado em cada uma das duas representações vetoriais e Regressão Logística usando validação cruzada com 70% das amostras selecionadas para treino e 30% para teste. Exiba as matrizes de confusão,\n",
        "métricas de acurácia, precisão, recall e F1 score.\n",
        "\n",
        "d) Faça o mesmo para o classificador Naive-Bayes.\n",
        "\n",
        "e) Faça o mesmo para um outro classificador de sua preferência (pesquise na\n",
        "biblioteca Scikit-learn).\n",
        "\n",
        "f) Compare os 6 resultados.\n"
      ]
    },
    {
      "cell_type": "markdown",
      "metadata": {
        "id": "5Vl4cQSbSl88"
      },
      "source": [
        "**Referências**\n",
        "\n"
      ]
    }
  ]
}