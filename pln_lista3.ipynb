{
  "nbformat": 4,
  "nbformat_minor": 0,
  "metadata": {
    "colab": {
      "name": "pln_lista3.ipynb",
      "provenance": [],
      "collapsed_sections": [],
      "include_colab_link": true
    },
    "kernelspec": {
      "display_name": "Python 3",
      "name": "python3"
    },
    "language_info": {
      "name": "python"
    }
  },
  "cells": [
    {
      "cell_type": "markdown",
      "metadata": {
        "id": "view-in-github",
        "colab_type": "text"
      },
      "source": [
        "<a href=\"https://colab.research.google.com/github/audreyemmely/pln/blob/main/pln_lista3.ipynb\" target=\"_parent\"><img src=\"https://colab.research.google.com/assets/colab-badge.svg\" alt=\"Open In Colab\"/></a>"
      ]
    },
    {
      "cell_type": "markdown",
      "metadata": {
        "id": "UsfPoqEzXtXr"
      },
      "source": [
        "# **Resolução Lista 3**\n",
        "\n",
        "---\n",
        "\n",
        "Audrey Emmely Rodrigues Vasconcelos\n",
        "\n",
        "Karen Nayara Gomes da Silva"
      ]
    },
    {
      "cell_type": "code",
      "metadata": {
        "id": "xfcuzC_Sff5N"
      },
      "source": [
        "#from google.colab import files\n",
        "#uploaded = files.upload()\n",
        "# upando train_data e test_data_solution"
      ],
      "execution_count": 1,
      "outputs": []
    },
    {
      "cell_type": "markdown",
      "metadata": {
        "id": "FEPD5HWjYXta"
      },
      "source": [
        "## Questão 1\n",
        "Escolha 10 documentos da base, e determine seu documento mais parecido\n",
        "(que não pode ser ele mesmo), usando:\n",
        "\n",
        "a) Representação vetorial CountVectorizer com similaridade do cosseno;\n",
        "\n",
        "b) Representação vetorial TF-IDF com similaridade do cosseno.\n",
        "\n",
        "Mostre pelo menos um trecho de cada par de documentos parecidos que justifique\n",
        "essa semelhança."
      ]
    },
    {
      "cell_type": "code",
      "metadata": {
        "id": "hX6qfB9JyX4m"
      },
      "source": [
        "import pandas as pd\n",
        "import numpy as np\n",
        "import random\n",
        "import re\n",
        "import nltk\n",
        "from IPython.core.display import display, HTML\n",
        "from sklearn.metrics.pairwise import cosine_similarity\n",
        "from sklearn.feature_extraction.text import CountVectorizer, TfidfVectorizer\n",
        "from sklearn.model_selection import train_test_split\n",
        "from sklearn.linear_model import LogisticRegression\n",
        "from sklearn.naive_bayes import MultinomialNB\n",
        "from sklearn.svm import LinearSVC\n",
        "from matplotlib import pyplot as plt\n",
        "from sklearn.metrics import plot_confusion_matrix\n",
        "from sklearn.metrics import accuracy_score, precision_score, recall_score, f1_score"
      ],
      "execution_count": 2,
      "outputs": []
    },
    {
      "cell_type": "code",
      "metadata": {
        "id": "mlebZotrFMfc"
      },
      "source": [
        "import warnings\n",
        "warnings.filterwarnings('ignore')"
      ],
      "execution_count": 3,
      "outputs": []
    },
    {
      "cell_type": "code",
      "metadata": {
        "colab": {
          "base_uri": "https://localhost:8080/"
        },
        "id": "pCLz9pKLyeN8",
        "outputId": "cc68ebd3-4221-488f-d91a-7dc36a854503"
      },
      "source": [
        "nltk.download('stopwords')\n",
        "nltk.download('punkt')"
      ],
      "execution_count": 4,
      "outputs": [
        {
          "output_type": "stream",
          "name": "stdout",
          "text": [
            "[nltk_data] Downloading package stopwords to /root/nltk_data...\n",
            "[nltk_data]   Package stopwords is already up-to-date!\n",
            "[nltk_data] Downloading package punkt to /root/nltk_data...\n",
            "[nltk_data]   Package punkt is already up-to-date!\n"
          ]
        },
        {
          "output_type": "execute_result",
          "data": {
            "text/plain": [
              "True"
            ]
          },
          "metadata": {},
          "execution_count": 4
        }
      ]
    },
    {
      "cell_type": "code",
      "metadata": {
        "id": "j-YAOw3Oyi1f"
      },
      "source": [
        "df = pd.read_csv('train_data.txt', sep =':::', header = None, engine = 'python', nrows = 6000)\n",
        "df.columns = ['id', 'title', 'genre', 'description']\n",
        "df2 = pd.read_csv('test_data_solution.txt', sep =':::', header = None, engine = 'python', nrows = 6000)\n",
        "df2.columns = ['id', 'title', 'genre', 'description']"
      ],
      "execution_count": 5,
      "outputs": []
    },
    {
      "cell_type": "code",
      "metadata": {
        "id": "PeEwFJSl4OZ6"
      },
      "source": [
        "df3 = pd.concat([df, df2], ignore_index=True)\n",
        "df3.drop('id', axis=1, inplace=True)\n",
        "comedy = df3.loc[df3['genre'].str.contains('comedy')]\n",
        "drama = df3.loc[df3['genre'].str.contains('drama')]\n",
        "dataset = pd.concat([comedy, drama], ignore_index=True)"
      ],
      "execution_count": 6,
      "outputs": []
    },
    {
      "cell_type": "code",
      "metadata": {
        "id": "-GOxiN5tzCQ1"
      },
      "source": [
        "def preprocess(description):\n",
        "  description = re.sub(r'\\w*\\d\\w*', '', description) #remove todas as palavras que contêm números\n",
        "  description = re.sub(r'[^a-zA-Z ]', '', description.lower())\n",
        "  return re.sub(r'\\s+', ' ', description) #retira espaços repetidos"
      ],
      "execution_count": 7,
      "outputs": []
    },
    {
      "cell_type": "code",
      "metadata": {
        "id": "JcjMcK1pzC3e"
      },
      "source": [
        "dataset['description'] = dataset.description.apply(preprocess)"
      ],
      "execution_count": 8,
      "outputs": []
    },
    {
      "cell_type": "code",
      "metadata": {
        "id": "ho9Fk87_ziAo"
      },
      "source": [
        "stop_words = set(nltk.corpus.stopwords.words('english'))\n",
        "def remove_stopwords(description):\n",
        "    tokenized_text = nltk.word_tokenize(description, language='english')\n",
        "    return \" \".join([token for token in tokenized_text if token not in stop_words])"
      ],
      "execution_count": 9,
      "outputs": []
    },
    {
      "cell_type": "code",
      "metadata": {
        "id": "XPrZnVNrzimH"
      },
      "source": [
        "dataset['description'] = dataset.description.apply(remove_stopwords)"
      ],
      "execution_count": 10,
      "outputs": []
    },
    {
      "cell_type": "code",
      "metadata": {
        "colab": {
          "base_uri": "https://localhost:8080/",
          "height": 424
        },
        "id": "Arg6dzzL-Ms1",
        "outputId": "f401043a-e467-4b05-c699-e2a8c8eae144"
      },
      "source": [
        "dataset"
      ],
      "execution_count": 11,
      "outputs": [
        {
          "output_type": "execute_result",
          "data": {
            "text/html": [
              "<div>\n",
              "<style scoped>\n",
              "    .dataframe tbody tr th:only-of-type {\n",
              "        vertical-align: middle;\n",
              "    }\n",
              "\n",
              "    .dataframe tbody tr th {\n",
              "        vertical-align: top;\n",
              "    }\n",
              "\n",
              "    .dataframe thead th {\n",
              "        text-align: right;\n",
              "    }\n",
              "</style>\n",
              "<table border=\"1\" class=\"dataframe\">\n",
              "  <thead>\n",
              "    <tr style=\"text-align: right;\">\n",
              "      <th></th>\n",
              "      <th>title</th>\n",
              "      <th>genre</th>\n",
              "      <th>description</th>\n",
              "    </tr>\n",
              "  </thead>\n",
              "  <tbody>\n",
              "    <tr>\n",
              "      <th>0</th>\n",
              "      <td>\"Pink Slip\" (2009)</td>\n",
              "      <td>comedy</td>\n",
              "      <td>tough economic times max joey run ideas discov...</td>\n",
              "    </tr>\n",
              "    <tr>\n",
              "      <th>1</th>\n",
              "      <td>Babylon Vista (2001)</td>\n",
              "      <td>comedy</td>\n",
              "      <td>frankie reno child star tv show thirty years a...</td>\n",
              "    </tr>\n",
              "    <tr>\n",
              "      <th>2</th>\n",
              "      <td>Söderpojkar (1941)</td>\n",
              "      <td>comedy</td>\n",
              "      <td>gang unemployed itinerant musicians play south...</td>\n",
              "    </tr>\n",
              "    <tr>\n",
              "      <th>3</th>\n",
              "      <td>Tunnel Vision (1976)</td>\n",
              "      <td>comedy</td>\n",
              "      <td>committee investigating tvs first uncensored n...</td>\n",
              "    </tr>\n",
              "    <tr>\n",
              "      <th>4</th>\n",
              "      <td>\"The Young Professionals\" (2015)</td>\n",
              "      <td>comedy</td>\n",
              "      <td>whether blocking mouse holes running landlords...</td>\n",
              "    </tr>\n",
              "    <tr>\n",
              "      <th>...</th>\n",
              "      <td>...</td>\n",
              "      <td>...</td>\n",
              "      <td>...</td>\n",
              "    </tr>\n",
              "    <tr>\n",
              "      <th>4664</th>\n",
              "      <td>Hello &amp; Goodbye (????)</td>\n",
              "      <td>drama</td>\n",
              "      <td>wounds still open recent end year relationship...</td>\n",
              "    </tr>\n",
              "    <tr>\n",
              "      <th>4665</th>\n",
              "      <td>Nyab Siab Zoo (2009)</td>\n",
              "      <td>drama</td>\n",
              "      <td>death lady va chas husband two sons returns no...</td>\n",
              "    </tr>\n",
              "    <tr>\n",
              "      <th>4666</th>\n",
              "      <td>Saving the Lives of Children (2008)</td>\n",
              "      <td>drama</td>\n",
              "      <td>series monologues tell tales underground schoo...</td>\n",
              "    </tr>\n",
              "    <tr>\n",
              "      <th>4667</th>\n",
              "      <td>Charachar (1994)</td>\n",
              "      <td>drama</td>\n",
              "      <td>lakha comes family bird catchers questions val...</td>\n",
              "    </tr>\n",
              "    <tr>\n",
              "      <th>4668</th>\n",
              "      <td>Juliane (2000)</td>\n",
              "      <td>drama</td>\n",
              "      <td>strong willed independent juliane jensen marri...</td>\n",
              "    </tr>\n",
              "  </tbody>\n",
              "</table>\n",
              "<p>4669 rows × 3 columns</p>\n",
              "</div>"
            ],
            "text/plain": [
              "                                      title  ...                                        description\n",
              "0                       \"Pink Slip\" (2009)   ...  tough economic times max joey run ideas discov...\n",
              "1                     Babylon Vista (2001)   ...  frankie reno child star tv show thirty years a...\n",
              "2                       Söderpojkar (1941)   ...  gang unemployed itinerant musicians play south...\n",
              "3                     Tunnel Vision (1976)   ...  committee investigating tvs first uncensored n...\n",
              "4         \"The Young Professionals\" (2015)   ...  whether blocking mouse holes running landlords...\n",
              "...                                     ...  ...                                                ...\n",
              "4664                Hello & Goodbye (????)   ...  wounds still open recent end year relationship...\n",
              "4665                  Nyab Siab Zoo (2009)   ...  death lady va chas husband two sons returns no...\n",
              "4666   Saving the Lives of Children (2008)   ...  series monologues tell tales underground schoo...\n",
              "4667                      Charachar (1994)   ...  lakha comes family bird catchers questions val...\n",
              "4668                        Juliane (2000)   ...  strong willed independent juliane jensen marri...\n",
              "\n",
              "[4669 rows x 3 columns]"
            ]
          },
          "metadata": {},
          "execution_count": 11
        }
      ]
    },
    {
      "cell_type": "code",
      "metadata": {
        "id": "w9n4Jev74wEB"
      },
      "source": [
        "tfidf_X = TfidfVectorizer().fit_transform(dataset.description)\n",
        "count_X = CountVectorizer().fit_transform(dataset.description)\n",
        "\n",
        "tfidf_similarity_matrix = cosine_similarity(tfidf_X)\n",
        "count_similarity_matrix = cosine_similarity(count_X)"
      ],
      "execution_count": 12,
      "outputs": []
    },
    {
      "cell_type": "code",
      "metadata": {
        "id": "Io22gbvC5vVC"
      },
      "source": [
        "np.fill_diagonal(tfidf_similarity_matrix, 0.0)\n",
        "np.fill_diagonal(count_similarity_matrix, 0.0)\n",
        "\n",
        "result = [\n",
        "    {\n",
        "        'doc': dataset.iloc[i],\n",
        "        'tfidf_similar_doc': dataset.iloc[tfidf_similarity_matrix[i, :].argmax()],\n",
        "        'tfidf_similarity': tfidf_similarity_matrix[i, :].max(),\n",
        "        'count_similar_doc': dataset.iloc[count_similarity_matrix[i, :].argmax()],\n",
        "        'count_similarity': count_similarity_matrix[i, :].max(),\n",
        "    }\n",
        "    for i in [random.randint(0, len(dataset)) for _ in range(10)]\n",
        "]    "
      ],
      "execution_count": 13,
      "outputs": []
    },
    {
      "cell_type": "code",
      "metadata": {
        "colab": {
          "base_uri": "https://localhost:8080/",
          "height": 17
        },
        "id": "_P4Anovz6NkO",
        "outputId": "1b27694d-5830-4a6b-e1df-645a02f72281"
      },
      "source": [
        "%%html\n",
        "<style>\n",
        "    .col {\n",
        "        height: 100%;\n",
        "        padding-left: 16px;\n",
        "        padding-right: 16px;\n",
        "        padding-top: 8px;\n",
        "        padding-bottom: 8px;\n",
        "    }\n",
        "</style>"
      ],
      "execution_count": 14,
      "outputs": [
        {
          "output_type": "display_data",
          "data": {
            "text/html": [
              "<style>\n",
              "    .col {\n",
              "        height: 100%;\n",
              "        padding-left: 16px;\n",
              "        padding-right: 16px;\n",
              "        padding-top: 8px;\n",
              "        padding-bottom: 8px;\n",
              "    }\n",
              "</style>"
            ],
            "text/plain": [
              "<IPython.core.display.HTML object>"
            ]
          },
          "metadata": {}
        }
      ]
    },
    {
      "cell_type": "markdown",
      "metadata": {
        "id": "uMYoAz3-gvZK"
      },
      "source": [
        "### 1.a) Representação vetorial CountVectorizer com similaridade do cosseno;\n",
        "\n",
        "### 1.b) Representação vetorial TF-IDF com similaridade do cosseno."
      ]
    },
    {
      "cell_type": "code",
      "metadata": {
        "colab": {
          "base_uri": "https://localhost:8080/",
          "height": 1000
        },
        "id": "dlT8lm3w6sMJ",
        "outputId": "ee1661f6-5bc4-4cce-ea5b-69f4f2434a23"
      },
      "source": [
        "for r in result:\n",
        "    title = r['doc'].title if r['doc'].title != '' else r['doc'].description[:150] + '...'\n",
        "    movie = '<span>%(title)s</span> <span>%(description)s</span>' \n",
        "    desc_length = 300\n",
        "    \n",
        "    tfidf_content = movie % ({\n",
        "        'title': r['tfidf_similar_doc'].title,\n",
        "        'description': r['tfidf_similar_doc'].description[:desc_length] + '...',\n",
        "    })\n",
        "    count_content = movie % ({ \n",
        "        'title': r['count_similar_doc'].title,\n",
        "        'description': r['count_similar_doc'].description[:desc_length] + '...',\n",
        "    })\n",
        "    \n",
        "    display(HTML('''\n",
        "    <div style=\"margin: 8px; border: 1px solid lightgray\">\n",
        "        <div style=\"text-align: center;background-color: whitesmoke;padding: 8px\"><u r['doc'].title >''' + title + '''</u></div>\n",
        "        <div>\n",
        "            <div>\n",
        "                <div class=\"col\">\n",
        "                    <div><strong>TfidfVectorizer: </strong>''' + str(r['tfidf_similarity'])[:6] + '''</div>\n",
        "                    <div>''' + tfidf_content + '''</div>\n",
        "                </div>\n",
        "            </div>\n",
        "            <div>\n",
        "                <div class=\"col\">\n",
        "                <div><strong>CountVectorizer: </strong>''' + str(r['count_similarity'])[:6] + '''</div>\n",
        "                <div>''' + count_content + '''</div>\n",
        "                </div>\n",
        "            </div>\n",
        "        </div>\n",
        "    </div>\n",
        "    '''))"
      ],
      "execution_count": 15,
      "outputs": [
        {
          "output_type": "display_data",
          "data": {
            "text/html": [
              "\n",
              "    <div style=\"margin: 8px; border: 1px solid lightgray\">\n",
              "        <div style=\"text-align: center;background-color: whitesmoke;padding: 8px\"><u r['doc'].title > Tokal (2016) </u></div>\n",
              "        <div>\n",
              "            <div>\n",
              "                <div class=\"col\">\n",
              "                    <div><strong>TfidfVectorizer: </strong>0.0875</div>\n",
              "                    <div><span> Kondo wa aisaika (2009) </span> <span>heart wrenching love story married couple jobless husband cheats wife love wife wants go trip get pregnant mismatched husband wife may find sympathy among lovers due excellent performance yakushimaru hiroko main character famous kadokawa movies toyokawa etsushi well known role love letter halfway fi...</span></div>\n",
              "                </div>\n",
              "            </div>\n",
              "            <div>\n",
              "                <div class=\"col\">\n",
              "                <div><strong>CountVectorizer: </strong>0.1856</div>\n",
              "                <div><span> Kondo wa aisaika (2009) </span> <span>heart wrenching love story married couple jobless husband cheats wife love wife wants go trip get pregnant mismatched husband wife may find sympathy among lovers due excellent performance yakushimaru hiroko main character famous kadokawa movies toyokawa etsushi well known role love letter halfway fi...</span></div>\n",
              "                </div>\n",
              "            </div>\n",
              "        </div>\n",
              "    </div>\n",
              "    "
            ],
            "text/plain": [
              "<IPython.core.display.HTML object>"
            ]
          },
          "metadata": {}
        },
        {
          "output_type": "display_data",
          "data": {
            "text/html": [
              "\n",
              "    <div style=\"margin: 8px; border: 1px solid lightgray\">\n",
              "        <div style=\"text-align: center;background-color: whitesmoke;padding: 8px\"><u r['doc'].title > Zehirli hayat (1966/II) </u></div>\n",
              "        <div>\n",
              "            <div>\n",
              "                <div class=\"col\">\n",
              "                    <div><strong>TfidfVectorizer: </strong>0.0522</div>\n",
              "                    <div><span> Stolen from the Heart (2000) </span> <span>former prostitute kidnaps baby boy birth satisfy drugdealing husband told going divorce put streets produce son obviously real mother becomes emotionally wrought determined get baby back barbara mandrell gets thrown mess mothers mother happens beset heart problems...</span></div>\n",
              "                </div>\n",
              "            </div>\n",
              "            <div>\n",
              "                <div class=\"col\">\n",
              "                <div><strong>CountVectorizer: </strong>0.1527</div>\n",
              "                <div><span> A Dot Com Mom (2016) </span> <span>dot com mom story simple middle class mother small town like indian house wife works hard raise son smart son goes usa becomes super rich successful invites parents visit wife share success mother manages go usa son excited wants show whole country simple mother cope modern ways new country gets tro...</span></div>\n",
              "                </div>\n",
              "            </div>\n",
              "        </div>\n",
              "    </div>\n",
              "    "
            ],
            "text/plain": [
              "<IPython.core.display.HTML object>"
            ]
          },
          "metadata": {}
        },
        {
          "output_type": "display_data",
          "data": {
            "text/html": [
              "\n",
              "    <div style=\"margin: 8px; border: 1px solid lightgray\">\n",
              "        <div style=\"text-align: center;background-color: whitesmoke;padding: 8px\"><u r['doc'].title > The Maestros of Sperlonga (????) </u></div>\n",
              "        <div>\n",
              "            <div>\n",
              "                <div class=\"col\">\n",
              "                    <div><strong>TfidfVectorizer: </strong>0.1215</div>\n",
              "                    <div><span> Crack Baby (????) </span> <span>privileged student filmmaker teams acclaimed documentary filmmaker learn valuable life lesson human condition...</span></div>\n",
              "                </div>\n",
              "            </div>\n",
              "            <div>\n",
              "                <div class=\"col\">\n",
              "                <div><strong>CountVectorizer: </strong>0.1391</div>\n",
              "                <div><span> Crack Baby (????) </span> <span>privileged student filmmaker teams acclaimed documentary filmmaker learn valuable life lesson human condition...</span></div>\n",
              "                </div>\n",
              "            </div>\n",
              "        </div>\n",
              "    </div>\n",
              "    "
            ],
            "text/plain": [
              "<IPython.core.display.HTML object>"
            ]
          },
          "metadata": {}
        },
        {
          "output_type": "display_data",
          "data": {
            "text/html": [
              "\n",
              "    <div style=\"margin: 8px; border: 1px solid lightgray\">\n",
              "        <div style=\"text-align: center;background-color: whitesmoke;padding: 8px\"><u r['doc'].title > Phuchai Lalla (2010) </u></div>\n",
              "        <div>\n",
              "            <div>\n",
              "                <div class=\"col\">\n",
              "                    <div><strong>TfidfVectorizer: </strong>0.2581</div>\n",
              "                    <div><span> Usted puede ser un asesino (1961) </span> <span>two friends plan weekend partying two ladies easy virtue sending wives mountain chalet everything complicated corpse another began appear living room house also wives forget keys house come back pick...</span></div>\n",
              "                </div>\n",
              "            </div>\n",
              "            <div>\n",
              "                <div class=\"col\">\n",
              "                <div><strong>CountVectorizer: </strong>0.2130</div>\n",
              "                <div><span> Usted puede ser un asesino (1961) </span> <span>two friends plan weekend partying two ladies easy virtue sending wives mountain chalet everything complicated corpse another began appear living room house also wives forget keys house come back pick...</span></div>\n",
              "                </div>\n",
              "            </div>\n",
              "        </div>\n",
              "    </div>\n",
              "    "
            ],
            "text/plain": [
              "<IPython.core.display.HTML object>"
            ]
          },
          "metadata": {}
        },
        {
          "output_type": "display_data",
          "data": {
            "text/html": [
              "\n",
              "    <div style=\"margin: 8px; border: 1px solid lightgray\">\n",
              "        <div style=\"text-align: center;background-color: whitesmoke;padding: 8px\"><u r['doc'].title > Counseling Day (2003) </u></div>\n",
              "        <div>\n",
              "            <div>\n",
              "                <div class=\"col\">\n",
              "                    <div><strong>TfidfVectorizer: </strong>0.1736</div>\n",
              "                    <div><span> The UnGodly Pastor (2017) </span> <span>controversy liberty spring baptist church pastor charles benefield ungodly pastor south held matters pimping gambling drug distributing drug using running club whip crme strip club south dirt entwines place worship church members likely disinterested whether pastor believes god one day truth unfolds...</span></div>\n",
              "                </div>\n",
              "            </div>\n",
              "            <div>\n",
              "                <div class=\"col\">\n",
              "                <div><strong>CountVectorizer: </strong>0.1973</div>\n",
              "                <div><span> The James Gibson Story (2018) </span> <span>james gibson excon spent life prison one day life turns around settles meets love life child unforeseeable tragedy strikes life never...</span></div>\n",
              "                </div>\n",
              "            </div>\n",
              "        </div>\n",
              "    </div>\n",
              "    "
            ],
            "text/plain": [
              "<IPython.core.display.HTML object>"
            ]
          },
          "metadata": {}
        },
        {
          "output_type": "display_data",
          "data": {
            "text/html": [
              "\n",
              "    <div style=\"margin: 8px; border: 1px solid lightgray\">\n",
              "        <div style=\"text-align: center;background-color: whitesmoke;padding: 8px\"><u r['doc'].title > Stepping High (2013) </u></div>\n",
              "        <div>\n",
              "            <div>\n",
              "                <div class=\"col\">\n",
              "                    <div><strong>TfidfVectorizer: </strong>0.1585</div>\n",
              "                    <div><span> The Flash Move (????) </span> <span>innercity teenager gets trouble school forced serve detention ballroom dance club surprise discovers loves dance must overcome family tragedy ridicule friends bring rhythms street ballroom express unique style like latino billy elliot set high school...</span></div>\n",
              "                </div>\n",
              "            </div>\n",
              "            <div>\n",
              "                <div class=\"col\">\n",
              "                <div><strong>CountVectorizer: </strong>0.1869</div>\n",
              "                <div><span> The Flash Move (????) </span> <span>innercity teenager gets trouble school forced serve detention ballroom dance club surprise discovers loves dance must overcome family tragedy ridicule friends bring rhythms street ballroom express unique style like latino billy elliot set high school...</span></div>\n",
              "                </div>\n",
              "            </div>\n",
              "        </div>\n",
              "    </div>\n",
              "    "
            ],
            "text/plain": [
              "<IPython.core.display.HTML object>"
            ]
          },
          "metadata": {}
        },
        {
          "output_type": "display_data",
          "data": {
            "text/html": [
              "\n",
              "    <div style=\"margin: 8px; border: 1px solid lightgray\">\n",
              "        <div style=\"text-align: center;background-color: whitesmoke;padding: 8px\"><u r['doc'].title > Le chanteur de minuit (1937) </u></div>\n",
              "        <div>\n",
              "            <div>\n",
              "                <div class=\"col\">\n",
              "                    <div><strong>TfidfVectorizer: </strong>0.3049</div>\n",
              "                    <div><span> Coup de chance (1992) </span> <span>kaplan rich reckless chairman fell roof terrace heaven argues suicide proove given task rescuing one employee jean jean wants take life back body must persuade jean jean life wonderful jean jean jaded life people abandonned baby sister jeanne jean st jean monastery saint jeans day well know ended na...</span></div>\n",
              "                </div>\n",
              "            </div>\n",
              "            <div>\n",
              "                <div class=\"col\">\n",
              "                <div><strong>CountVectorizer: </strong>0.3154</div>\n",
              "                <div><span> Coup de chance (1992) </span> <span>kaplan rich reckless chairman fell roof terrace heaven argues suicide proove given task rescuing one employee jean jean wants take life back body must persuade jean jean life wonderful jean jean jaded life people abandonned baby sister jeanne jean st jean monastery saint jeans day well know ended na...</span></div>\n",
              "                </div>\n",
              "            </div>\n",
              "        </div>\n",
              "    </div>\n",
              "    "
            ],
            "text/plain": [
              "<IPython.core.display.HTML object>"
            ]
          },
          "metadata": {}
        },
        {
          "output_type": "display_data",
          "data": {
            "text/html": [
              "\n",
              "    <div style=\"margin: 8px; border: 1px solid lightgray\">\n",
              "        <div style=\"text-align: center;background-color: whitesmoke;padding: 8px\"><u r['doc'].title > All the Wrong Places (2012) </u></div>\n",
              "        <div>\n",
              "            <div>\n",
              "                <div class=\"col\">\n",
              "                    <div><strong>TfidfVectorizer: </strong>0.1237</div>\n",
              "                    <div><span> \"Everything in Blue\" (2017) </span> <span>three friends search love truth astoria ny devastating break camillo hopes find footing int dating world help friends ashna charlie though hopes find way accept flourish single life...</span></div>\n",
              "                </div>\n",
              "            </div>\n",
              "            <div>\n",
              "                <div class=\"col\">\n",
              "                <div><strong>CountVectorizer: </strong>0.2333</div>\n",
              "                <div><span> \"Everything in Blue\" (2017) </span> <span>three friends search love truth astoria ny devastating break camillo hopes find footing int dating world help friends ashna charlie though hopes find way accept flourish single life...</span></div>\n",
              "                </div>\n",
              "            </div>\n",
              "        </div>\n",
              "    </div>\n",
              "    "
            ],
            "text/plain": [
              "<IPython.core.display.HTML object>"
            ]
          },
          "metadata": {}
        },
        {
          "output_type": "display_data",
          "data": {
            "text/html": [
              "\n",
              "    <div style=\"margin: 8px; border: 1px solid lightgray\">\n",
              "        <div style=\"text-align: center;background-color: whitesmoke;padding: 8px\"><u r['doc'].title > 30 Miles (2004/I) </u></div>\n",
              "        <div>\n",
              "            <div>\n",
              "                <div class=\"col\">\n",
              "                    <div><strong>TfidfVectorizer: </strong>0.1523</div>\n",
              "                    <div><span> 5 Doors (2018) </span> <span>story follows drifter finds journey life death waking backseat lincoln town car driver car mysterious old man tells owes debt way pay debt go doors drifter guided doors man red black suit named lu charming enigma takes interest drifters journey goes doors drifter meets individuals offer different pe...</span></div>\n",
              "                </div>\n",
              "            </div>\n",
              "            <div>\n",
              "                <div class=\"col\">\n",
              "                <div><strong>CountVectorizer: </strong>0.2122</div>\n",
              "                <div><span> A Day in Black and White (2001) </span> <span>two men identified black man white man start film discussion speech race given school next day escalates argument differences races moving along cultural lines finding mutual fears concerns...</span></div>\n",
              "                </div>\n",
              "            </div>\n",
              "        </div>\n",
              "    </div>\n",
              "    "
            ],
            "text/plain": [
              "<IPython.core.display.HTML object>"
            ]
          },
          "metadata": {}
        },
        {
          "output_type": "display_data",
          "data": {
            "text/html": [
              "\n",
              "    <div style=\"margin: 8px; border: 1px solid lightgray\">\n",
              "        <div style=\"text-align: center;background-color: whitesmoke;padding: 8px\"><u r['doc'].title > Neko Râmen Taishô (2008) </u></div>\n",
              "        <div>\n",
              "            <div>\n",
              "                <div class=\"col\">\n",
              "                    <div><strong>TfidfVectorizer: </strong>0.1329</div>\n",
              "                    <div><span> Behind the News (1940) </span> <span>school graduate jeff flavins first day job cub reporter enquirer boss archer places jeff stu woodrow lazying reporter stu detests cubs treating jeff badly jeff saves drunken stus job covering convicted racketeer housemans escape prison jeff goes housemans sister scoop witnesses murder houseman innoc...</span></div>\n",
              "                </div>\n",
              "            </div>\n",
              "            <div>\n",
              "                <div class=\"col\">\n",
              "                <div><strong>CountVectorizer: </strong>0.1803</div>\n",
              "                <div><span> Korogare! Tamako (2006) </span> <span>tamako lives mom runs beauty shop young brother high school student young dad moved house playing hide seek since distrusts people withdrew world whenever steps home wears iron helmet neighbors call princess iron helmet sweet buns thats tamako loves grown sweet buns old man making bake shop lying be...</span></div>\n",
              "                </div>\n",
              "            </div>\n",
              "        </div>\n",
              "    </div>\n",
              "    "
            ],
            "text/plain": [
              "<IPython.core.display.HTML object>"
            ]
          },
          "metadata": {}
        }
      ]
    },
    {
      "cell_type": "markdown",
      "metadata": {
        "id": "AbGJgNOGYkhx"
      },
      "source": [
        "## Questão 2\n",
        "Elabore um problema de classificação binária de textos coerente com sua\n",
        "base.\n",
        "\n",
        "a) Determine o rótulo dos documentos (separando os documentos em classes\n",
        "bem definidas).\n",
        "\n",
        "b) Extraia as representações vetoriais com CountVectorizer e TF-IDF.\n",
        "\n",
        "c) Treine um classificador baseado em cada uma das duas representações vetoriais e Regressão Logística usando validação cruzada com 70% das amostras selecionadas para treino e 30% para teste. Exiba as matrizes de confusão,\n",
        "métricas de acurácia, precisão, recall e F1 score.\n",
        "\n",
        "d) Faça o mesmo para o classificador Naive-Bayes.\n",
        "\n",
        "e) Faça o mesmo para um outro classificador de sua preferência (pesquise na\n",
        "biblioteca Scikit-learn).\n",
        "\n",
        "f) Compare os 6 resultados.\n"
      ]
    },
    {
      "cell_type": "markdown",
      "metadata": {
        "id": "9pDAsdmSgZtS"
      },
      "source": [
        "### 2.a) Determine o rótulo dos documentos (separando os documentos em classes bem definidas)."
      ]
    },
    {
      "cell_type": "code",
      "metadata": {
        "id": "CSmzR2NPDlkp"
      },
      "source": [
        "lbl_to_ind = {\n",
        "    ' comedy ': 0, ' drama ': 1, \n",
        "}\n",
        "y = [lbl_to_ind[l] for l in dataset.genre.values[:4669]]"
      ],
      "execution_count": 16,
      "outputs": []
    },
    {
      "cell_type": "markdown",
      "metadata": {
        "id": "rX5skqocgOly"
      },
      "source": [
        "### 2.b) Extraia as representações vetoriais com CountVectorizer e TF-IDF."
      ]
    },
    {
      "cell_type": "code",
      "metadata": {
        "id": "4Fv_gdNDD0Hh"
      },
      "source": [
        "tfidf_X_train, tfidf_X_test, tfidf_y_train, tfidf_y_test = train_test_split(tfidf_X, y, test_size=0.3)\n",
        "count_X_train, count_X_test, count_y_train, count_y_test = train_test_split(count_X, y, test_size=0.3)"
      ],
      "execution_count": 17,
      "outputs": []
    },
    {
      "cell_type": "markdown",
      "metadata": {
        "id": "UT6_rRMlgJgJ"
      },
      "source": [
        "### 2.c) Treine um classificador baseado em cada uma das duas representações vetoriais e Regressão Logística usando validação cruzada com 70% das amostras selecionadas para treino e 30% para teste. Exiba as matrizes de confusão, métricas de acurácia, precisão, recall e F1 score."
      ]
    },
    {
      "cell_type": "code",
      "metadata": {
        "id": "9VCyqBIZD9y9"
      },
      "source": [
        "# Regressão Logística com tfidf\n",
        "cl = LogisticRegression().fit(tfidf_X_train.toarray(), tfidf_y_train)\n",
        "tfidf_y_pred = cl.predict(tfidf_X_test.toarray())"
      ],
      "execution_count": 18,
      "outputs": []
    },
    {
      "cell_type": "code",
      "metadata": {
        "colab": {
          "base_uri": "https://localhost:8080/",
          "height": 279
        },
        "id": "oURkIw-DEvEE",
        "outputId": "e261baec-e265-4af0-dfca-a9381708d3db"
      },
      "source": [
        "plot_confusion_matrix(cl, tfidf_X_test.toarray(), tfidf_y_test)\n",
        "plt.show()"
      ],
      "execution_count": 19,
      "outputs": [
        {
          "output_type": "display_data",
          "data": {
            "image/png": "[encoded data removed]",
            "text/plain": [
              "<Figure size 432x288 with 2 Axes>"
            ]
          },
          "metadata": {
            "needs_background": "light"
          }
        }
      ]
    },
    {
      "cell_type": "code",
      "metadata": {
        "colab": {
          "base_uri": "https://localhost:8080/"
        },
        "id": "TpDZhm5TFeRz",
        "outputId": "efedb38e-ca4f-4aa1-8f2b-bb6d22d57dbf"
      },
      "source": [
        "accuracy_lr_tfidf = accuracy_score(tfidf_y_test, tfidf_y_pred)\n",
        "precision_lr_tfidf = precision_score(tfidf_y_test, tfidf_y_pred)\n",
        "recall_lr_tfidf = recall_score(tfidf_y_test, tfidf_y_pred)\n",
        "f1_lr_tfidf = f1_score(tfidf_y_test, tfidf_y_pred)\n",
        "\n",
        "print(\"Regressão Logísitca e TF-IDF\\nAcurácia: {}\\nPrecisão: {}\\nRecall: {}\\nF1 Score: {}\\n\".format(accuracy_lr_tfidf, precision_lr_tfidf, recall_lr_tfidf, f1_lr_tfidf))"
      ],
      "execution_count": 20,
      "outputs": [
        {
          "output_type": "stream",
          "name": "stdout",
          "text": [
            "Regressão Logísitca e TF-IDF\n",
            "Acurácia: 0.7416131334760885\n",
            "Precisão: 0.7229013854930725\n",
            "Recall: 0.9757975797579758\n",
            "F1 Score: 0.8305243445692884\n",
            "\n"
          ]
        }
      ]
    },
    {
      "cell_type": "code",
      "metadata": {
        "id": "4zy5PcQ0IbdY"
      },
      "source": [
        "# Regressão Logística com countvectorizer\n",
        "cl = LogisticRegression().fit(count_X_train.toarray(), count_y_train)\n",
        "count_y_pred = cl.predict(count_X_test.toarray())"
      ],
      "execution_count": 21,
      "outputs": []
    },
    {
      "cell_type": "code",
      "metadata": {
        "colab": {
          "base_uri": "https://localhost:8080/",
          "height": 279
        },
        "id": "E1d7zEBzI5T4",
        "outputId": "544428fc-fc3d-41cf-ed88-40eb87f81df7"
      },
      "source": [
        "plot_confusion_matrix(cl, count_X_test.toarray(), count_y_test)\n",
        "plt.show()"
      ],
      "execution_count": 22,
      "outputs": [
        {
          "output_type": "display_data",
          "data": {
            "image/png": "[encoded data removed]",
            "text/plain": [
              "<Figure size 432x288 with 2 Axes>"
            ]
          },
          "metadata": {
            "needs_background": "light"
          }
        }
      ]
    },
    {
      "cell_type": "code",
      "metadata": {
        "colab": {
          "base_uri": "https://localhost:8080/"
        },
        "id": "Cz2ysz-_KMWk",
        "outputId": "6f2e4c06-5fca-4e39-abf3-92deafc00e0d"
      },
      "source": [
        "accuracy_lr_count = accuracy_score(count_y_test, count_y_pred)\n",
        "precision_lr_count = precision_score(count_y_test, count_y_pred)\n",
        "recall_lr_count = recall_score(count_y_test, count_y_pred)\n",
        "f1_lr_count = f1_score(count_y_test, count_y_pred)\n",
        "\n",
        "print(\"Regressão Logísitca e CountVectorizer\\nAcurácia: {}\\nPrecisão: {}\\nRecall: {}\\nF1 Score: {}\\n\".format(accuracy_lr_count, precision_lr_count, recall_lr_count, f1_lr_count))"
      ],
      "execution_count": 23,
      "outputs": [
        {
          "output_type": "stream",
          "name": "stdout",
          "text": [
            "Regressão Logísitca e CountVectorizer\n",
            "Acurácia: 0.7844396859386152\n",
            "Precisão: 0.8004094165813715\n",
            "Recall: 0.8796400449943758\n",
            "F1 Score: 0.8381564844587354\n",
            "\n"
          ]
        }
      ]
    },
    {
      "cell_type": "markdown",
      "metadata": {
        "id": "Ej714gNuf-oH"
      },
      "source": [
        "### 2.d) Faça o mesmo para o classificador Naive-Bayes."
      ]
    },
    {
      "cell_type": "code",
      "metadata": {
        "id": "hOtIHNELwoc8"
      },
      "source": [
        "# Naive Bayes com tfidf\n",
        "\n",
        "cl_nb = MultinomialNB().fit(tfidf_X_train.toarray(), tfidf_y_train)\n",
        "tfidf_y_pred_nb = cl_nb.predict(tfidf_X_test.toarray())"
      ],
      "execution_count": 24,
      "outputs": []
    },
    {
      "cell_type": "code",
      "metadata": {
        "colab": {
          "base_uri": "https://localhost:8080/",
          "height": 279
        },
        "id": "XgpzZgS00v_w",
        "outputId": "67884d2d-ae46-485b-fbd0-d9f2932cafcf"
      },
      "source": [
        "plot_confusion_matrix(cl_nb, tfidf_X_test.toarray(), tfidf_y_test)\n",
        "plt.show()"
      ],
      "execution_count": 25,
      "outputs": [
        {
          "output_type": "display_data",
          "data": {
            "image/png": "[encoded data removed]",
            "text/plain": [
              "<Figure size 432x288 with 2 Axes>"
            ]
          },
          "metadata": {
            "needs_background": "light"
          }
        }
      ]
    },
    {
      "cell_type": "code",
      "metadata": {
        "colab": {
          "base_uri": "https://localhost:8080/"
        },
        "id": "sSQJ5K_H0zCn",
        "outputId": "b2a88d51-eff1-4107-e2bb-03e464e5ee74"
      },
      "source": [
        "accuracy_nb_tfidf = accuracy_score(tfidf_y_test, tfidf_y_pred_nb)\n",
        "precision_nb_tfidf = precision_score(tfidf_y_test, tfidf_y_pred_nb)\n",
        "recall_nb_tfidf = recall_score(tfidf_y_test, tfidf_y_pred_nb)\n",
        "f1_nb_tfidf = f1_score(tfidf_y_test, tfidf_y_pred_nb)\n",
        "\n",
        "print(\"Naive Bayes e TF-IDF\\nAcurácia: {}\\nPrecisão: {}\\nRecall: {}\\nF1 Score: {}\\n\".format(accuracy_nb_tfidf, precision_nb_tfidf, recall_nb_tfidf, f1_nb_tfidf))"
      ],
      "execution_count": 26,
      "outputs": [
        {
          "output_type": "stream",
          "name": "stdout",
          "text": [
            "Naive Bayes e TF-IDF\n",
            "Acurácia: 0.6573875802997858\n",
            "Precisão: 0.6548736462093863\n",
            "Recall: 0.9977997799779978\n",
            "F1 Score: 0.7907585004359198\n",
            "\n"
          ]
        }
      ]
    },
    {
      "cell_type": "code",
      "metadata": {
        "id": "AVpKiAFX070z"
      },
      "source": [
        "# Naive Bayes com countvectorizer\n",
        "\n",
        "cl_nb = MultinomialNB().fit(count_X_train.toarray(), count_y_train)\n",
        "count_y_pred_nb = cl_nb.predict(count_X_test.toarray())"
      ],
      "execution_count": 27,
      "outputs": []
    },
    {
      "cell_type": "code",
      "metadata": {
        "colab": {
          "base_uri": "https://localhost:8080/",
          "height": 279
        },
        "id": "UvHKXdg90-MS",
        "outputId": "49824290-c869-41ca-b878-fe0ecb17cbf4"
      },
      "source": [
        "plot_confusion_matrix(cl_nb, count_X_test.toarray(), count_y_test)\n",
        "plt.show()"
      ],
      "execution_count": 28,
      "outputs": [
        {
          "output_type": "display_data",
          "data": {
            "image/png": "[encoded data removed]",
            "text/plain": [
              "<Figure size 432x288 with 2 Axes>"
            ]
          },
          "metadata": {
            "needs_background": "light"
          }
        }
      ]
    },
    {
      "cell_type": "code",
      "metadata": {
        "colab": {
          "base_uri": "https://localhost:8080/"
        },
        "id": "ggHZvIcR1EDk",
        "outputId": "620d45cc-d8f2-41e3-b8e2-90e25797fcf5"
      },
      "source": [
        "accuracy_nb_count = accuracy_score(count_y_test, count_y_pred_nb)\n",
        "precision_nb_count = precision_score(count_y_test, count_y_pred_nb)\n",
        "recall_nb_count = recall_score(count_y_test, count_y_pred_nb)\n",
        "f1_nb_count = f1_score(count_y_test, count_y_pred_nb)\n",
        "\n",
        "print(\"Naive Bayes e CountVectorizer\\nAcurácia: {}\\nPrecisão: {}\\nRecall: {}\\nF1 Score: {}\\n\".format(accuracy_nb_count, precision_nb_count, recall_nb_count, f1_nb_count))"
      ],
      "execution_count": 29,
      "outputs": [
        {
          "output_type": "stream",
          "name": "stdout",
          "text": [
            "Naive Bayes e CountVectorizer\n",
            "Acurácia: 0.793718772305496\n",
            "Precisão: 0.7824858757062146\n",
            "Recall: 0.9347581552305961\n",
            "F1 Score: 0.8518708354689901\n",
            "\n"
          ]
        }
      ]
    },
    {
      "cell_type": "markdown",
      "metadata": {
        "id": "sKteYFZSfhxH"
      },
      "source": [
        "### 2.e) Faça o mesmo para um outro classificador de sua preferência (pesquise na biblioteca Scikit-learn)."
      ]
    },
    {
      "cell_type": "code",
      "metadata": {
        "id": "d8_6K6Hj2NOR"
      },
      "source": [
        "# SVM com tfidf\n",
        "\n",
        "cl_svm = LinearSVC().fit(tfidf_X_train.toarray(), tfidf_y_train)\n",
        "tfidf_y_pred_svm = cl_svm.predict(tfidf_X_test.toarray())"
      ],
      "execution_count": 30,
      "outputs": []
    },
    {
      "cell_type": "code",
      "metadata": {
        "colab": {
          "base_uri": "https://localhost:8080/",
          "height": 279
        },
        "id": "Jo5uUef43aHa",
        "outputId": "9763db5f-e44e-4660-d230-8e826da372c4"
      },
      "source": [
        "plot_confusion_matrix(cl_svm, tfidf_X_test.toarray(), tfidf_y_test)\n",
        "plt.show()"
      ],
      "execution_count": 31,
      "outputs": [
        {
          "output_type": "display_data",
          "data": {
            "image/png": "[encoded data removed]",
            "text/plain": [
              "<Figure size 432x288 with 2 Axes>"
            ]
          },
          "metadata": {
            "needs_background": "light"
          }
        }
      ]
    },
    {
      "cell_type": "code",
      "metadata": {
        "colab": {
          "base_uri": "https://localhost:8080/"
        },
        "id": "jvOIZPKS3h6g",
        "outputId": "aa817bd6-9967-4c33-b327-057df8c25368"
      },
      "source": [
        "accuracy_svm_tfidf = accuracy_score(tfidf_y_test, tfidf_y_pred_svm)\n",
        "precision_svm_tfidf = precision_score(tfidf_y_test, tfidf_y_pred_svm)\n",
        "recall_svm_tfidf = recall_score(tfidf_y_test, tfidf_y_pred_svm)\n",
        "f1_svm_tfidf = f1_score(tfidf_y_test, tfidf_y_pred_svm)\n",
        "\n",
        "print(\"SVM e TF-IDF\\nAcurácia: {}\\nPrecisão: {}\\nRecall: {}\\nF1 Score: {}\\n\".format(accuracy_svm_tfidf, precision_svm_tfidf, recall_svm_tfidf, f1_svm_tfidf))"
      ],
      "execution_count": 32,
      "outputs": [
        {
          "output_type": "stream",
          "name": "stdout",
          "text": [
            "SVM e TF-IDF\n",
            "Acurácia: 0.7858672376873662\n",
            "Precisão: 0.792507204610951\n",
            "Recall: 0.9075907590759076\n",
            "F1 Score: 0.846153846153846\n",
            "\n"
          ]
        }
      ]
    },
    {
      "cell_type": "code",
      "metadata": {
        "id": "P_uV6RyH31Yl"
      },
      "source": [
        "# SVM com countvectorizer\n",
        "\n",
        "cl_svm = LinearSVC().fit(count_X_train.toarray(), count_y_train)\n",
        "count_y_pred_svm = cl_svm.predict(count_X_test.toarray())"
      ],
      "execution_count": 33,
      "outputs": []
    },
    {
      "cell_type": "code",
      "metadata": {
        "colab": {
          "base_uri": "https://localhost:8080/",
          "height": 279
        },
        "id": "2aqnYzkM39DM",
        "outputId": "102c3605-7515-41dd-94da-55ce7dfdd50d"
      },
      "source": [
        "plot_confusion_matrix(cl_svm, count_X_test.toarray(), count_y_test)\n",
        "plt.show()"
      ],
      "execution_count": 34,
      "outputs": [
        {
          "output_type": "display_data",
          "data": {
            "image/png": "[encoded data removed]",
            "text/plain": [
              "<Figure size 432x288 with 2 Axes>"
            ]
          },
          "metadata": {
            "needs_background": "light"
          }
        }
      ]
    },
    {
      "cell_type": "code",
      "metadata": {
        "colab": {
          "base_uri": "https://localhost:8080/"
        },
        "id": "SaD7NX3j4B-6",
        "outputId": "c6acaf0b-8e72-4e8a-ac5b-6449158f9101"
      },
      "source": [
        "accuracy_svm_count = accuracy_score(count_y_test, count_y_pred_svm)\n",
        "precision_svm_count = precision_score(count_y_test, count_y_pred_svm)\n",
        "recall_svm_count = recall_score(count_y_test, count_y_pred_svm)\n",
        "f1_svm_count = f1_score(count_y_test, count_y_pred_svm)\n",
        "\n",
        "print(\"SVM e CountVectorizer\\nAcurácia: {}\\nPrecisão: {}\\nRecall: {}\\nF1 Score: {}\\n\".format(accuracy_svm_count, precision_svm_count, recall_svm_count, f1_svm_count))"
      ],
      "execution_count": 35,
      "outputs": [
        {
          "output_type": "stream",
          "name": "stdout",
          "text": [
            "SVM e CountVectorizer\n",
            "Acurácia: 0.7630264097073519\n",
            "Precisão: 0.7953340402969247\n",
            "Recall: 0.843644544431946\n",
            "F1 Score: 0.8187772925764192\n",
            "\n"
          ]
        }
      ]
    },
    {
      "cell_type": "markdown",
      "metadata": {
        "id": "9LK1LPoafaNm"
      },
      "source": [
        "### 2.f) Compare os 6 resultados"
      ]
    },
    {
      "cell_type": "code",
      "metadata": {
        "id": "Njq2pthUOnJN",
        "colab": {
          "base_uri": "https://localhost:8080/"
        },
        "outputId": "0644e115-d4a3-4ca3-80ce-822e77567570"
      },
      "source": [
        "accuracy_results = [accuracy_lr_count, accuracy_lr_tfidf, accuracy_nb_count, accuracy_nb_tfidf, accuracy_svm_count, accuracy_svm_tfidf]\n",
        "precision_results = [precision_lr_count, precision_lr_tfidf, precision_nb_count, precision_nb_tfidf, precision_svm_count, precision_svm_tfidf]\n",
        "recall_results = [recall_lr_count, recall_lr_tfidf, recall_nb_count, recall_nb_tfidf, recall_svm_count, recall_svm_tfidf]\n",
        "f1_results = [f1_lr_count, f1_lr_tfidf, f1_nb_count, f1_nb_tfidf, f1_svm_count, f1_svm_tfidf]\n",
        "\n",
        "data_results = {\n",
        "    'accuracy': accuracy_results,\n",
        "    'precision': precision_results,\n",
        "    'recall': recall_results,\n",
        "    'f1': f1_results\n",
        "}\n",
        "\n",
        "index_values = ['Regression with Count','Regression with TF-IDF','Naive Bayes with Count','Naive Bayes with TF-IDF','SVM with Count', 'SVM with TF-IDF']\n",
        "\n",
        "df_results = pd.DataFrame(data_results, index=index_values)\n",
        "\n",
        "print (df_results)\n"
      ],
      "execution_count": 36,
      "outputs": [
        {
          "output_type": "stream",
          "name": "stdout",
          "text": [
            "                         accuracy  precision    recall        f1\n",
            "Regression with Count    0.784440   0.800409  0.879640  0.838156\n",
            "Regression with TF-IDF   0.741613   0.722901  0.975798  0.830524\n",
            "Naive Bayes with Count   0.793719   0.782486  0.934758  0.851871\n",
            "Naive Bayes with TF-IDF  0.657388   0.654874  0.997800  0.790759\n",
            "SVM with Count           0.763026   0.795334  0.843645  0.818777\n",
            "SVM with TF-IDF          0.785867   0.792507  0.907591  0.846154\n"
          ]
        }
      ]
    },
    {
      "cell_type": "code",
      "metadata": {
        "colab": {
          "base_uri": "https://localhost:8080/",
          "height": 376
        },
        "id": "QLH_AtmPiICF",
        "outputId": "17a30c95-5256-408f-df66-8a0a46972553"
      },
      "source": [
        "df_results.plot()\n",
        "plt.xticks(rotation=90)\n",
        "plt.show()"
      ],
      "execution_count": 37,
      "outputs": [
        {
          "output_type": "display_data",
          "data": {
            "image/png": "[encoded data removed]",
            "text/plain": [
              "<Figure size 432x288 with 1 Axes>"
            ]
          },
          "metadata": {
            "needs_background": "light"
          }
        }
      ]
    },
    {
      "cell_type": "code",
      "metadata": {
        "colab": {
          "base_uri": "https://localhost:8080/"
        },
        "id": "3pYWXo8djRTA",
        "outputId": "9350d726-8dea-42ea-a89e-62b637dd78a1"
      },
      "source": [
        "lr_count_results = [accuracy_lr_count, precision_lr_count, recall_lr_count, f1_lr_count]\n",
        "lr_tfidf_results = [accuracy_lr_tfidf, precision_lr_tfidf, recall_lr_tfidf, f1_lr_tfidf]\n",
        "nb_count_results = [accuracy_nb_count,precision_nb_count, recall_nb_count,f1_nb_count]\n",
        "nb_tfidf_results = [accuracy_nb_tfidf, precision_nb_tfidf,recall_nb_tfidf, f1_nb_tfidf]\n",
        "svm_count_results = [accuracy_svm_count,precision_svm_count, recall_svm_count,f1_svm_count]\n",
        "svm_tfidf_results = [accuracy_svm_tfidf,precision_svm_tfidf, recall_svm_tfidf,f1_svm_tfidf]\n",
        "\n",
        "data_results2 = {\n",
        "    'Regression with Count': lr_count_results,\n",
        "    'Regression with TF-IDF': lr_tfidf_results,\n",
        "    'Naive Bayes with Count': nb_count_results,\n",
        "    'Naive Bayes with TF-IDF': nb_tfidf_results,\n",
        "    'SVM with Count': svm_count_results,\n",
        "    'SVM with TF-IDF': svm_tfidf_results,\n",
        "}\n",
        "\n",
        "index_values2 = ['accuracy', 'precision', 'recall', 'f1']\n",
        "pd.set_option('display.max_columns', None)\n",
        "\n",
        "df_results2 = pd.DataFrame(data_results2, index=index_values2)\n",
        "\n",
        "df_results2"
      ],
      "execution_count": 38,
      "outputs": [
        {
          "output_type": "stream",
          "name": "stdout",
          "text": [
            "           Regression with Count  Regression with TF-IDF  \\\n",
            "accuracy                0.784440                0.741613   \n",
            "precision               0.800409                0.722901   \n",
            "recall                  0.879640                0.975798   \n",
            "f1                      0.838156                0.830524   \n",
            "\n",
            "           Naive Bayes with Count  Naive Bayes with TF-IDF  SVM with Count  \\\n",
            "accuracy                 0.793719                 0.657388        0.763026   \n",
            "precision                0.782486                 0.654874        0.795334   \n",
            "recall                   0.934758                 0.997800        0.843645   \n",
            "f1                       0.851871                 0.790759        0.818777   \n",
            "\n",
            "           SVM with TF-IDF  \n",
            "accuracy          0.785867  \n",
            "precision         0.792507  \n",
            "recall            0.907591  \n",
            "f1                0.846154  \n"
          ]
        }
      ]
    },
    {
      "cell_type": "code",
      "metadata": {
        "colab": {
          "base_uri": "https://localhost:8080/",
          "height": 265
        },
        "id": "fzYB8tnOlH7y",
        "outputId": "00e63abc-179e-4a8c-bb5f-d53732ca9357"
      },
      "source": [
        "df_results2.plot()\n",
        "plt.show()"
      ],
      "execution_count": 39,
      "outputs": [
        {
          "output_type": "display_data",
          "data": {
            "image/png": "[encoded data removed]",
            "text/plain": [
              "<Figure size 432x288 with 1 Axes>"
            ]
          },
          "metadata": {
            "needs_background": "light"
          }
        }
      ]
    },
    {
      "cell_type": "markdown",
      "metadata": {
        "id": "kNgGw7lVdLR_"
      },
      "source": [
        "Podemos analisar que obtivemos a **maior acurácia** quando utilizamos o **Naive Bayes com CountVectorizer**, **precisão mais alta** utilizando **Regressão Logística com CountVectorizer**, **maior recall** utilizando **Naive Bayes com TF-IDF** e **maior F1** utilizando **Naive Bayes com CountVectorizer**."
      ]
    },
    {
      "cell_type": "markdown",
      "metadata": {
        "id": "5Vl4cQSbSl88"
      },
      "source": [
        "**Referências**\n",
        "\n",
        "[Basics of CountVectorizer](https://towardsdatascience.com/basics-of-countvectorizer-e26677900f9c)\n",
        "\n",
        "[TF-IDF Vectorizer scikit-learn](https://medium.com/@cmukesh8688/tf-idf-vectorizer-scikit-learn-dbc0244a911a)\n",
        "\n",
        "[Cosine Similarity – Understanding the math and how it works (with python codes)](https://www.machinelearningplus.com/nlp/cosine-similarity/)\n",
        "\n",
        "[Split Your Dataset With scikit-learn's train_test_split()](https://realpython.com/train-test-split-python-data/)"
      ]
    }
  ]
}