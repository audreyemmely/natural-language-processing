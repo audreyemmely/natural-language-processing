{
  "nbformat": 4,
  "nbformat_minor": 0,
  "metadata": {
    "colab": {
      "name": "pln_lista3.ipynb",
      "provenance": [],
      "collapsed_sections": [],
      "include_colab_link": true
    },
    "kernelspec": {
      "display_name": "Python 3",
      "name": "python3"
    },
    "language_info": {
      "name": "python"
    }
  },
  "cells": [
    {
      "cell_type": "markdown",
      "metadata": {
        "id": "view-in-github",
        "colab_type": "text"
      },
      "source": [
        "<a href=\"https://colab.research.google.com/github/audreyemmely/pln/blob/main/pln_lista3.ipynb\" target=\"_parent\"><img src=\"https://colab.research.google.com/assets/colab-badge.svg\" alt=\"Open In Colab\"/></a>"
      ]
    },
    {
      "cell_type": "markdown",
      "metadata": {
        "id": "UsfPoqEzXtXr"
      },
      "source": [
        "# **Resolução Lista 3**\n",
        "\n",
        "---\n",
        "\n",
        "Audrey Emmely Rodrigues Vasconcelos\n",
        "\n",
        "Karen Nayara Gomes da Silva"
      ]
    },
    {
      "cell_type": "code",
      "metadata": {
        "id": "xfcuzC_Sff5N"
      },
      "source": [
        "#from google.colab import files\n",
        "#uploaded = files.upload()"
      ],
      "execution_count": null,
      "outputs": []
    },
    {
      "cell_type": "markdown",
      "metadata": {
        "id": "FEPD5HWjYXta"
      },
      "source": [
        "###### Questão 1\n",
        "Escolha 10 documentos da base, e determine seu documento mais parecido\n",
        "(que não pode ser ele mesmo), usando:\n",
        "\n",
        "a) Representação vetorial CountVectorizer com similaridade do cosseno;\n",
        "\n",
        "b) Representação vetorial TF-IDF com similaridade do cosseno.\n",
        "\n",
        "Mostre pelo menos um trecho de cada par de documentos parecidos que justifique\n",
        "essa semelhança."
      ]
    },
    {
      "cell_type": "markdown",
      "metadata": {
        "id": "AbGJgNOGYkhx"
      },
      "source": [
        "###### Questão 2\n",
        "Elabore um problema de classificação binária de textos coerente com sua\n",
        "base.\n",
        "\n",
        "a) Determine o rótulo dos documentos (separando os documentos em classes\n",
        "bem definidas).\n",
        "\n",
        "b) Extraia as representações vetoriais com CountVectorizer e TF-IDF.\n",
        "\n",
        "c) Treine um classificador baseado em cada uma das duas representações vetoriais e Regressão Logística usando validação cruzada com 70% das amostras selecionadas para treino e 30% para teste. Exiba as matrizes de confusão,\n",
        "métricas de acurácia, precisão, recall e F1 score.\n",
        "\n",
        "d) Faça o mesmo para o classificador Naive-Bayes.\n",
        "\n",
        "e) Faça o mesmo para um outro classificador de sua preferência (pesquise na\n",
        "biblioteca Scikit-learn).\n",
        "\n",
        "f) Compare os 6 resultados.\n"
      ]
    },
    {
      "cell_type": "markdown",
      "metadata": {
        "id": "5Vl4cQSbSl88"
      },
      "source": [
        "**Referências**\n",
        "\n"
      ]
    }
  ]
}