{
  "nbformat": 4,
  "nbformat_minor": 0,
  "metadata": {
    "colab": {
      "name": "pln_lista3.ipynb",
      "provenance": [],
      "collapsed_sections": [],
      "include_colab_link": true
    },
    "kernelspec": {
      "display_name": "Python 3",
      "name": "python3"
    },
    "language_info": {
      "name": "python"
    }
  },
  "cells": [
    {
      "cell_type": "markdown",
      "metadata": {
        "id": "view-in-github",
        "colab_type": "text"
      },
      "source": [
        "<a href=\"https://colab.research.google.com/github/audreyemmely/pln/blob/main/pln_lista3.ipynb\" target=\"_parent\"><img src=\"https://colab.research.google.com/assets/colab-badge.svg\" alt=\"Open In Colab\"/></a>"
      ]
    },
    {
      "cell_type": "markdown",
      "metadata": {
        "id": "UsfPoqEzXtXr"
      },
      "source": [
        "# **Resolução Lista 3**\n",
        "\n",
        "---\n",
        "\n",
        "Audrey Emmely Rodrigues Vasconcelos\n",
        "\n",
        "Karen Nayara Gomes da Silva"
      ]
    },
    {
      "cell_type": "code",
      "metadata": {
        "id": "xfcuzC_Sff5N"
      },
      "source": [
        "#from google.colab import files\n",
        "#uploaded = files.upload()\n",
        "#upando train_data e test_data_solution"
      ],
      "execution_count": 1,
      "outputs": []
    },
    {
      "cell_type": "markdown",
      "metadata": {
        "id": "FEPD5HWjYXta"
      },
      "source": [
        "###### Questão 1\n",
        "Escolha 10 documentos da base, e determine seu documento mais parecido\n",
        "(que não pode ser ele mesmo), usando:\n",
        "\n",
        "a) Representação vetorial CountVectorizer com similaridade do cosseno;\n",
        "\n",
        "b) Representação vetorial TF-IDF com similaridade do cosseno.\n",
        "\n",
        "Mostre pelo menos um trecho de cada par de documentos parecidos que justifique\n",
        "essa semelhança."
      ]
    },
    {
      "cell_type": "code",
      "metadata": {
        "id": "hX6qfB9JyX4m"
      },
      "source": [
        "import pandas as pd\n",
        "import numpy as np\n",
        "import random\n",
        "import re\n",
        "import nltk\n",
        "from IPython.core.display import display, HTML\n",
        "from sklearn.metrics.pairwise import cosine_similarity\n",
        "from sklearn.feature_extraction.text import CountVectorizer, TfidfVectorizer\n",
        "from sklearn.model_selection import train_test_split\n",
        "from sklearn.linear_model import LogisticRegression\n",
        "from matplotlib import pyplot as plt\n",
        "from sklearn.metrics import plot_confusion_matrix\n",
        "from sklearn.metrics import accuracy_score, precision_score, recall_score, f1_score"
      ],
      "execution_count": 2,
      "outputs": []
    },
    {
      "cell_type": "code",
      "metadata": {
        "id": "mlebZotrFMfc"
      },
      "source": [
        "import warnings\n",
        "warnings.filterwarnings('ignore')"
      ],
      "execution_count": 3,
      "outputs": []
    },
    {
      "cell_type": "code",
      "metadata": {
        "colab": {
          "base_uri": "https://localhost:8080/"
        },
        "id": "pCLz9pKLyeN8",
        "outputId": "dfc9c068-e875-4889-8db1-84355e34c379"
      },
      "source": [
        "nltk.download('stopwords')\n",
        "nltk.download('punkt')"
      ],
      "execution_count": 4,
      "outputs": [
        {
          "output_type": "stream",
          "name": "stdout",
          "text": [
            "[nltk_data] Downloading package stopwords to /root/nltk_data...\n",
            "[nltk_data]   Package stopwords is already up-to-date!\n",
            "[nltk_data] Downloading package punkt to /root/nltk_data...\n",
            "[nltk_data]   Package punkt is already up-to-date!\n"
          ]
        },
        {
          "output_type": "execute_result",
          "data": {
            "text/plain": [
              "True"
            ]
          },
          "metadata": {},
          "execution_count": 4
        }
      ]
    },
    {
      "cell_type": "code",
      "metadata": {
        "id": "j-YAOw3Oyi1f"
      },
      "source": [
        "df = pd.read_csv('train_data.txt', sep =':::', header = None, engine = 'python', nrows = 6000)\n",
        "df.columns = ['id', 'title', 'genre', 'description']\n",
        "df2 = pd.read_csv('test_data_solution.txt', sep =':::', header = None, engine = 'python', nrows = 6000)\n",
        "df2.columns = ['id', 'title', 'genre', 'description']"
      ],
      "execution_count": 5,
      "outputs": []
    },
    {
      "cell_type": "code",
      "metadata": {
        "id": "PeEwFJSl4OZ6"
      },
      "source": [
        "df3 = pd.concat([df, df2], ignore_index=True)\n",
        "df3.drop('id', axis=1, inplace=True)\n",
        "comedy = df3.loc[df3['genre'].str.contains('comedy')]\n",
        "drama = df3.loc[df3['genre'].str.contains('drama')]\n",
        "dataset = pd.concat([comedy, drama], ignore_index=True)"
      ],
      "execution_count": 6,
      "outputs": []
    },
    {
      "cell_type": "code",
      "metadata": {
        "id": "-GOxiN5tzCQ1"
      },
      "source": [
        "def preprocess(description):\n",
        "  description = re.sub(r'\\w*\\d\\w*', '', description) #remove todas as palavras que contêm números\n",
        "  description = re.sub(r'[^a-zA-Z ]', '', description.lower())\n",
        "  return re.sub(r'\\s+', ' ', description) #retira espaços repetidos"
      ],
      "execution_count": 7,
      "outputs": []
    },
    {
      "cell_type": "code",
      "metadata": {
        "id": "JcjMcK1pzC3e"
      },
      "source": [
        "dataset['description'] = dataset.description.apply(preprocess)"
      ],
      "execution_count": 8,
      "outputs": []
    },
    {
      "cell_type": "code",
      "metadata": {
        "id": "ho9Fk87_ziAo"
      },
      "source": [
        "stop_words = set(nltk.corpus.stopwords.words('english'))\n",
        "def remove_stopwords(description):\n",
        "    tokenized_text = nltk.word_tokenize(description, language='english')\n",
        "    return \" \".join([token for token in tokenized_text if token not in stop_words])"
      ],
      "execution_count": 9,
      "outputs": []
    },
    {
      "cell_type": "code",
      "metadata": {
        "id": "XPrZnVNrzimH"
      },
      "source": [
        "dataset['description'] = dataset.description.apply(remove_stopwords)"
      ],
      "execution_count": 10,
      "outputs": []
    },
    {
      "cell_type": "code",
      "metadata": {
        "colab": {
          "base_uri": "https://localhost:8080/",
          "height": 424
        },
        "id": "Arg6dzzL-Ms1",
        "outputId": "ad54f47a-cdf5-4aef-f236-ed859149cc18"
      },
      "source": [
        "dataset"
      ],
      "execution_count": 11,
      "outputs": [
        {
          "output_type": "execute_result",
          "data": {
            "text/html": [
              "<div>\n",
              "<style scoped>\n",
              "    .dataframe tbody tr th:only-of-type {\n",
              "        vertical-align: middle;\n",
              "    }\n",
              "\n",
              "    .dataframe tbody tr th {\n",
              "        vertical-align: top;\n",
              "    }\n",
              "\n",
              "    .dataframe thead th {\n",
              "        text-align: right;\n",
              "    }\n",
              "</style>\n",
              "<table border=\"1\" class=\"dataframe\">\n",
              "  <thead>\n",
              "    <tr style=\"text-align: right;\">\n",
              "      <th></th>\n",
              "      <th>title</th>\n",
              "      <th>genre</th>\n",
              "      <th>description</th>\n",
              "    </tr>\n",
              "  </thead>\n",
              "  <tbody>\n",
              "    <tr>\n",
              "      <th>0</th>\n",
              "      <td>\"Pink Slip\" (2009)</td>\n",
              "      <td>comedy</td>\n",
              "      <td>tough economic times max joey run ideas discov...</td>\n",
              "    </tr>\n",
              "    <tr>\n",
              "      <th>1</th>\n",
              "      <td>Babylon Vista (2001)</td>\n",
              "      <td>comedy</td>\n",
              "      <td>frankie reno child star tv show thirty years a...</td>\n",
              "    </tr>\n",
              "    <tr>\n",
              "      <th>2</th>\n",
              "      <td>Söderpojkar (1941)</td>\n",
              "      <td>comedy</td>\n",
              "      <td>gang unemployed itinerant musicians play south...</td>\n",
              "    </tr>\n",
              "    <tr>\n",
              "      <th>3</th>\n",
              "      <td>Tunnel Vision (1976)</td>\n",
              "      <td>comedy</td>\n",
              "      <td>committee investigating tvs first uncensored n...</td>\n",
              "    </tr>\n",
              "    <tr>\n",
              "      <th>4</th>\n",
              "      <td>\"The Young Professionals\" (2015)</td>\n",
              "      <td>comedy</td>\n",
              "      <td>whether blocking mouse holes running landlords...</td>\n",
              "    </tr>\n",
              "    <tr>\n",
              "      <th>...</th>\n",
              "      <td>...</td>\n",
              "      <td>...</td>\n",
              "      <td>...</td>\n",
              "    </tr>\n",
              "    <tr>\n",
              "      <th>4664</th>\n",
              "      <td>Hello &amp; Goodbye (????)</td>\n",
              "      <td>drama</td>\n",
              "      <td>wounds still open recent end year relationship...</td>\n",
              "    </tr>\n",
              "    <tr>\n",
              "      <th>4665</th>\n",
              "      <td>Nyab Siab Zoo (2009)</td>\n",
              "      <td>drama</td>\n",
              "      <td>death lady va chas husband two sons returns no...</td>\n",
              "    </tr>\n",
              "    <tr>\n",
              "      <th>4666</th>\n",
              "      <td>Saving the Lives of Children (2008)</td>\n",
              "      <td>drama</td>\n",
              "      <td>series monologues tell tales underground schoo...</td>\n",
              "    </tr>\n",
              "    <tr>\n",
              "      <th>4667</th>\n",
              "      <td>Charachar (1994)</td>\n",
              "      <td>drama</td>\n",
              "      <td>lakha comes family bird catchers questions val...</td>\n",
              "    </tr>\n",
              "    <tr>\n",
              "      <th>4668</th>\n",
              "      <td>Juliane (2000)</td>\n",
              "      <td>drama</td>\n",
              "      <td>strong willed independent juliane jensen marri...</td>\n",
              "    </tr>\n",
              "  </tbody>\n",
              "</table>\n",
              "<p>4669 rows × 3 columns</p>\n",
              "</div>"
            ],
            "text/plain": [
              "                                      title  ...                                        description\n",
              "0                       \"Pink Slip\" (2009)   ...  tough economic times max joey run ideas discov...\n",
              "1                     Babylon Vista (2001)   ...  frankie reno child star tv show thirty years a...\n",
              "2                       Söderpojkar (1941)   ...  gang unemployed itinerant musicians play south...\n",
              "3                     Tunnel Vision (1976)   ...  committee investigating tvs first uncensored n...\n",
              "4         \"The Young Professionals\" (2015)   ...  whether blocking mouse holes running landlords...\n",
              "...                                     ...  ...                                                ...\n",
              "4664                Hello & Goodbye (????)   ...  wounds still open recent end year relationship...\n",
              "4665                  Nyab Siab Zoo (2009)   ...  death lady va chas husband two sons returns no...\n",
              "4666   Saving the Lives of Children (2008)   ...  series monologues tell tales underground schoo...\n",
              "4667                      Charachar (1994)   ...  lakha comes family bird catchers questions val...\n",
              "4668                        Juliane (2000)   ...  strong willed independent juliane jensen marri...\n",
              "\n",
              "[4669 rows x 3 columns]"
            ]
          },
          "metadata": {},
          "execution_count": 11
        }
      ]
    },
    {
      "cell_type": "code",
      "metadata": {
        "id": "w9n4Jev74wEB"
      },
      "source": [
        "tfidf_X = TfidfVectorizer().fit_transform(dataset.description)\n",
        "count_X = CountVectorizer().fit_transform(dataset.description)\n",
        "\n",
        "tfidf_similarity_matrix = cosine_similarity(tfidf_X)\n",
        "count_similarity_matrix = cosine_similarity(count_X)"
      ],
      "execution_count": 12,
      "outputs": []
    },
    {
      "cell_type": "code",
      "metadata": {
        "id": "Io22gbvC5vVC"
      },
      "source": [
        "np.fill_diagonal(tfidf_similarity_matrix, 0.0)\n",
        "np.fill_diagonal(count_similarity_matrix, 0.0)\n",
        "\n",
        "result = [\n",
        "    {\n",
        "        'doc': dataset.iloc[i],\n",
        "        'tfidf_similar_doc': dataset.iloc[tfidf_similarity_matrix[i, :].argmax()],\n",
        "        'tfidf_similarity': tfidf_similarity_matrix[i, :].max(),\n",
        "        'count_similar_doc': dataset.iloc[count_similarity_matrix[i, :].argmax()],\n",
        "        'count_similarity': count_similarity_matrix[i, :].max(),\n",
        "    }\n",
        "    for i in [random.randint(0, len(dataset)) for _ in range(10)]\n",
        "]    "
      ],
      "execution_count": 13,
      "outputs": []
    },
    {
      "cell_type": "code",
      "metadata": {
        "colab": {
          "base_uri": "https://localhost:8080/",
          "height": 17
        },
        "id": "_P4Anovz6NkO",
        "outputId": "0a39bc3a-7d8d-426b-cfe5-536d01038ae5"
      },
      "source": [
        "%%html\n",
        "<style>\n",
        "    .col {\n",
        "        height: 100%;\n",
        "        padding-left: 16px;\n",
        "        padding-right: 16px;\n",
        "        padding-top: 8px;\n",
        "        padding-bottom: 8px;\n",
        "    }\n",
        "</style>"
      ],
      "execution_count": 14,
      "outputs": [
        {
          "output_type": "display_data",
          "data": {
            "text/html": [
              "<style>\n",
              "    .col {\n",
              "        height: 100%;\n",
              "        padding-left: 16px;\n",
              "        padding-right: 16px;\n",
              "        padding-top: 8px;\n",
              "        padding-bottom: 8px;\n",
              "    }\n",
              "</style>"
            ],
            "text/plain": [
              "<IPython.core.display.HTML object>"
            ]
          },
          "metadata": {}
        }
      ]
    },
    {
      "cell_type": "code",
      "metadata": {
        "colab": {
          "base_uri": "https://localhost:8080/",
          "height": 1000
        },
        "id": "dlT8lm3w6sMJ",
        "outputId": "8f851b0b-302b-4138-c8f3-ae4a57863059"
      },
      "source": [
        "for r in result:\n",
        "    title = r['doc'].title if r['doc'].title != '' else r['doc'].description[:150] + '...'\n",
        "    movie = '<span>%(title)s</span> <span>%(description)s</span>' \n",
        "    desc_length = 300\n",
        "    \n",
        "    tfidf_content = movie % ({\n",
        "        'title': r['tfidf_similar_doc'].title,\n",
        "        'description': r['tfidf_similar_doc'].description[:desc_length] + '...',\n",
        "    })\n",
        "    count_content = movie % ({ \n",
        "        'title': r['count_similar_doc'].title,\n",
        "        'description': r['count_similar_doc'].description[:desc_length] + '...',\n",
        "    })\n",
        "    \n",
        "    display(HTML('''\n",
        "    <div style=\"margin: 8px; border: 1px solid lightgray\">\n",
        "        <div style=\"text-align: center;background-color: whitesmoke;padding: 8px\"><u r['doc'].title >''' + title + '''</u></div>\n",
        "        <div>\n",
        "            <div>\n",
        "                <div class=\"col\">\n",
        "                    <div><strong>TfidfVectorizer: </strong>''' + str(r['tfidf_similarity'])[:6] + '''</div>\n",
        "                    <div>''' + tfidf_content + '''</div>\n",
        "                </div>\n",
        "            </div>\n",
        "            <div>\n",
        "                <div class=\"col\">\n",
        "                <div><strong>CountVectorizer: </strong>''' + str(r['count_similarity'])[:6] + '''</div>\n",
        "                <div>''' + count_content + '''</div>\n",
        "                </div>\n",
        "            </div>\n",
        "        </div>\n",
        "    </div>\n",
        "    '''))"
      ],
      "execution_count": 15,
      "outputs": [
        {
          "output_type": "display_data",
          "data": {
            "text/html": [
              "\n",
              "    <div style=\"margin: 8px; border: 1px solid lightgray\">\n",
              "        <div style=\"text-align: center;background-color: whitesmoke;padding: 8px\"><u r['doc'].title > Don Giovanni in Sicilia (1967) </u></div>\n",
              "        <div>\n",
              "            <div>\n",
              "                <div class=\"col\">\n",
              "                    <div><strong>TfidfVectorizer: </strong>0.1894</div>\n",
              "                    <div><span> Threads of Fate (1917) </span> <span>marcella wife jim gregory pennsylvania coal miner elopes giovanni lover leaves baby daughter husband gregory feeling powerless give proper care little one abandons doorstep tying around neck note mothers discarded wedding ring tom sara wentworth childs foster parents tom calls dorothea meaning gift ...</span></div>\n",
              "                </div>\n",
              "            </div>\n",
              "            <div>\n",
              "                <div class=\"col\">\n",
              "                <div><strong>CountVectorizer: </strong>0.1836</div>\n",
              "                <div><span> Kutty Srank: The Sailor of Hearts (2009) </span> <span>kutty srank shorttempered lonely lawabiding boatman whose work leads travel back waters kerala one day local police station discovers unidentified body washed ashore three women come forward claiming dead body kutty srank three women rich women aspiring buddhist nun convict mute claim kutty sranks w...</span></div>\n",
              "                </div>\n",
              "            </div>\n",
              "        </div>\n",
              "    </div>\n",
              "    "
            ],
            "text/plain": [
              "<IPython.core.display.HTML object>"
            ]
          },
          "metadata": {}
        },
        {
          "output_type": "display_data",
          "data": {
            "text/html": [
              "\n",
              "    <div style=\"margin: 8px; border: 1px solid lightgray\">\n",
              "        <div style=\"text-align: center;background-color: whitesmoke;padding: 8px\"><u r['doc'].title > 874 Miles (2015) </u></div>\n",
              "        <div>\n",
              "            <div>\n",
              "                <div class=\"col\">\n",
              "                    <div><strong>TfidfVectorizer: </strong>0.1286</div>\n",
              "                    <div><span> Bred in the Bone (2006) </span> <span>john palmentario desperate follow father eugenes footsteps make mistakes john looks back life paid thug wont kill carry gun realizes life far cry fathers john buys ring tells bestfriend assistant andy hes ready quit marry girlfriend gigi stunned andy convinces jobs get settled john life suddenly tur...</span></div>\n",
              "                </div>\n",
              "            </div>\n",
              "            <div>\n",
              "                <div class=\"col\">\n",
              "                <div><strong>CountVectorizer: </strong>0.2294</div>\n",
              "                <div><span> Bred in the Bone (2006) </span> <span>john palmentario desperate follow father eugenes footsteps make mistakes john looks back life paid thug wont kill carry gun realizes life far cry fathers john buys ring tells bestfriend assistant andy hes ready quit marry girlfriend gigi stunned andy convinces jobs get settled john life suddenly tur...</span></div>\n",
              "                </div>\n",
              "            </div>\n",
              "        </div>\n",
              "    </div>\n",
              "    "
            ],
            "text/plain": [
              "<IPython.core.display.HTML object>"
            ]
          },
          "metadata": {}
        },
        {
          "output_type": "display_data",
          "data": {
            "text/html": [
              "\n",
              "    <div style=\"margin: 8px; border: 1px solid lightgray\">\n",
              "        <div style=\"text-align: center;background-color: whitesmoke;padding: 8px\"><u r['doc'].title > Vermont Street (2020) </u></div>\n",
              "        <div>\n",
              "            <div>\n",
              "                <div class=\"col\">\n",
              "                    <div><strong>TfidfVectorizer: </strong>0.1113</div>\n",
              "                    <div><span> Virginia (2005) </span> <span>virginia contemporary version female huck finn set modern day los angeles holiday season story happens child named virginia abandoned mother kelly heroin addict seeking get better leaving questionable hands boyfriend griffin...</span></div>\n",
              "                </div>\n",
              "            </div>\n",
              "            <div>\n",
              "                <div class=\"col\">\n",
              "                <div><strong>CountVectorizer: </strong>0.1787</div>\n",
              "                <div><span> Ci mu lei (1953) </span> <span>woman struggles bring three children death husband eldest son placed great hope shames dishonesty daughter middle child vain youngest child however makes proud eventually two left alone disaster befalls children...</span></div>\n",
              "                </div>\n",
              "            </div>\n",
              "        </div>\n",
              "    </div>\n",
              "    "
            ],
            "text/plain": [
              "<IPython.core.display.HTML object>"
            ]
          },
          "metadata": {}
        },
        {
          "output_type": "display_data",
          "data": {
            "text/html": [
              "\n",
              "    <div style=\"margin: 8px; border: 1px solid lightgray\">\n",
              "        <div style=\"text-align: center;background-color: whitesmoke;padding: 8px\"><u r['doc'].title > Spies and Lovers (1989) </u></div>\n",
              "        <div>\n",
              "            <div>\n",
              "                <div class=\"col\">\n",
              "                    <div><strong>TfidfVectorizer: </strong>0.1412</div>\n",
              "                    <div><span> The Defection of Simas Kudirka (1978) </span> <span>based true story attempted defection lithuanian seaman seeking political asylum united states kudirka denied asylum returned soviets charged treason sentenced ten years hard labor later discovered verified mother born brooklyn gone lithuania young age meant u citizen result kudirka declared u citize...</span></div>\n",
              "                </div>\n",
              "            </div>\n",
              "            <div>\n",
              "                <div class=\"col\">\n",
              "                <div><strong>CountVectorizer: </strong>0.1722</div>\n",
              "                <div><span> \"Euh\" (2014) </span> <span>benoit doesnt girlfriend job neither project life support friend goes life coaching learn wants life meets sylvie young beautiful girl probably future love interest benoit still girlfriend let alone work especially project mind forced friend agrees participate group therapy learn know really wants l...</span></div>\n",
              "                </div>\n",
              "            </div>\n",
              "        </div>\n",
              "    </div>\n",
              "    "
            ],
            "text/plain": [
              "<IPython.core.display.HTML object>"
            ]
          },
          "metadata": {}
        },
        {
          "output_type": "display_data",
          "data": {
            "text/html": [
              "\n",
              "    <div style=\"margin: 8px; border: 1px solid lightgray\">\n",
              "        <div style=\"text-align: center;background-color: whitesmoke;padding: 8px\"><u r['doc'].title > \"#NotMadMonday\" (2015) </u></div>\n",
              "        <div>\n",
              "            <div>\n",
              "                <div class=\"col\">\n",
              "                    <div><strong>TfidfVectorizer: </strong>0.0982</div>\n",
              "                    <div><span> \"Love's Bounty Hunter\" (2014) </span> <span>story dives headfirst shallow end online dating pool expose hypocrisy internet dating companies project sentimental romantic front theyre interested cold hard cash meet claire woman whose idea hot saturday night involves hoarders marathon eating frosting straight however shes hired worlds largest on...</span></div>\n",
              "                </div>\n",
              "            </div>\n",
              "            <div>\n",
              "                <div class=\"col\">\n",
              "                <div><strong>CountVectorizer: </strong>0.1781</div>\n",
              "                <div><span> \"A Guide to Dating\" (2017) </span> <span>follow meera fresh boat newbie us journey attempt arduous task online dating new country shes energetic willing takes put question willl find love rom coms gotten tingly...</span></div>\n",
              "                </div>\n",
              "            </div>\n",
              "        </div>\n",
              "    </div>\n",
              "    "
            ],
            "text/plain": [
              "<IPython.core.display.HTML object>"
            ]
          },
          "metadata": {}
        },
        {
          "output_type": "display_data",
          "data": {
            "text/html": [
              "\n",
              "    <div style=\"margin: 8px; border: 1px solid lightgray\">\n",
              "        <div style=\"text-align: center;background-color: whitesmoke;padding: 8px\"><u r['doc'].title > Roma ore 11 (1952) </u></div>\n",
              "        <div>\n",
              "            <div>\n",
              "                <div class=\"col\">\n",
              "                    <div><strong>TfidfVectorizer: </strong>0.1235</div>\n",
              "                    <div><span> Mat i syn (1997) </span> <span>slow poignant story love patience told via dying mother nursed devoted son simple narrative thread woven among deeply spiritual images countryside cottage...</span></div>\n",
              "                </div>\n",
              "            </div>\n",
              "            <div>\n",
              "                <div class=\"col\">\n",
              "                <div><strong>CountVectorizer: </strong>0.1841</div>\n",
              "                <div><span> Transformation of Gerald Baumgartner (2009) </span> <span>change management consultant spitshined life resolves orchestrate life transformation involves among things engineering seamless separation wife using principles change management results disastrous hilarious undergo life transformation nothing like planned...</span></div>\n",
              "                </div>\n",
              "            </div>\n",
              "        </div>\n",
              "    </div>\n",
              "    "
            ],
            "text/plain": [
              "<IPython.core.display.HTML object>"
            ]
          },
          "metadata": {}
        },
        {
          "output_type": "display_data",
          "data": {
            "text/html": [
              "\n",
              "    <div style=\"margin: 8px; border: 1px solid lightgray\">\n",
              "        <div style=\"text-align: center;background-color: whitesmoke;padding: 8px\"><u r['doc'].title > Nay - dobriyat chovek, kogoto poznavam (1973) </u></div>\n",
              "        <div>\n",
              "            <div>\n",
              "                <div class=\"col\">\n",
              "                    <div><strong>TfidfVectorizer: </strong>0.1496</div>\n",
              "                    <div><span> Mädchen mit offenen Lippen (1972) </span> <span>girls school young teacher requests young women prepare lecture topic preliminaries next week years end girls would contact problems work thus series sexual experiments start involve whole class even teacher...</span></div>\n",
              "                </div>\n",
              "            </div>\n",
              "            <div>\n",
              "                <div class=\"col\">\n",
              "                <div><strong>CountVectorizer: </strong>0.1905</div>\n",
              "                <div><span> Mädchen mit offenen Lippen (1972) </span> <span>girls school young teacher requests young women prepare lecture topic preliminaries next week years end girls would contact problems work thus series sexual experiments start involve whole class even teacher...</span></div>\n",
              "                </div>\n",
              "            </div>\n",
              "        </div>\n",
              "    </div>\n",
              "    "
            ],
            "text/plain": [
              "<IPython.core.display.HTML object>"
            ]
          },
          "metadata": {}
        },
        {
          "output_type": "display_data",
          "data": {
            "text/html": [
              "\n",
              "    <div style=\"margin: 8px; border: 1px solid lightgray\">\n",
              "        <div style=\"text-align: center;background-color: whitesmoke;padding: 8px\"><u r['doc'].title > Four Quarters (2014) </u></div>\n",
              "        <div>\n",
              "            <div>\n",
              "                <div class=\"col\">\n",
              "                    <div><strong>TfidfVectorizer: </strong>0.1273</div>\n",
              "                    <div><span> Close Enough (2016) </span> <span>moving away touch two years since high school graduation three girls best friends reunite weekend discover made drift apart much theyve changed since last saw...</span></div>\n",
              "                </div>\n",
              "            </div>\n",
              "            <div>\n",
              "                <div class=\"col\">\n",
              "                <div><strong>CountVectorizer: </strong>0.2252</div>\n",
              "                <div><span> Tikli and Laxmi Bomb (2017) </span> <span>tired men promise protection actually become predators two mumbai based sex workers decide kick men business start cooperative run women women thus run sex trade things differently far allowed reach prosper become serious threat patriarchy...</span></div>\n",
              "                </div>\n",
              "            </div>\n",
              "        </div>\n",
              "    </div>\n",
              "    "
            ],
            "text/plain": [
              "<IPython.core.display.HTML object>"
            ]
          },
          "metadata": {}
        },
        {
          "output_type": "display_data",
          "data": {
            "text/html": [
              "\n",
              "    <div style=\"margin: 8px; border: 1px solid lightgray\">\n",
              "        <div style=\"text-align: center;background-color: whitesmoke;padding: 8px\"><u r['doc'].title > \"Krasnye braslety\" (2016) </u></div>\n",
              "        <div>\n",
              "            <div>\n",
              "                <div class=\"col\">\n",
              "                    <div><strong>TfidfVectorizer: </strong>0.1037</div>\n",
              "                    <div><span> \"Aprendiendo a Vivir\" (1966) </span> <span>arturo de cordova marga lopez play two mature windowed people become neighbors highrise building children one family floor widoweds youngsters become acquainted easily parents reluctant get another relationship series reflect generations weaknesses strenght around end series parents finally become f...</span></div>\n",
              "                </div>\n",
              "            </div>\n",
              "            <div>\n",
              "                <div class=\"col\">\n",
              "                <div><strong>CountVectorizer: </strong>0.2204</div>\n",
              "                <div><span> \"Do Not Be Afraid\" (2007) </span> <span>women restaurants carefree life drugs friends former highranking political worker arman aramyans son life among big love mari light life escape law enforcement involuntary volunteer militia war verge life death spoiled brave boy yerevan becomes wise courageous warrior return yerevan struggle life me...</span></div>\n",
              "                </div>\n",
              "            </div>\n",
              "        </div>\n",
              "    </div>\n",
              "    "
            ],
            "text/plain": [
              "<IPython.core.display.HTML object>"
            ]
          },
          "metadata": {}
        },
        {
          "output_type": "display_data",
          "data": {
            "text/html": [
              "\n",
              "    <div style=\"margin: 8px; border: 1px solid lightgray\">\n",
              "        <div style=\"text-align: center;background-color: whitesmoke;padding: 8px\"><u r['doc'].title > The Astronaut (1972) </u></div>\n",
              "        <div>\n",
              "            <div>\n",
              "                <div class=\"col\">\n",
              "                    <div><strong>TfidfVectorizer: </strong>0.1442</div>\n",
              "                    <div><span> Enas iroas... sti Romi (2006) </span> <span>hero rome road movie man dares make dream reality goes rome see idol world opera instead joy falls victim theft changes upsets everything life series tragicomic situations follow bittersweet experience journey loneliness quest nostalgia tender innocence extreme event mars return greece becomes hero ...</span></div>\n",
              "                </div>\n",
              "            </div>\n",
              "            <div>\n",
              "                <div class=\"col\">\n",
              "                <div><strong>CountVectorizer: </strong>0.1438</div>\n",
              "                <div><span> Enas iroas... sti Romi (2006) </span> <span>hero rome road movie man dares make dream reality goes rome see idol world opera instead joy falls victim theft changes upsets everything life series tragicomic situations follow bittersweet experience journey loneliness quest nostalgia tender innocence extreme event mars return greece becomes hero ...</span></div>\n",
              "                </div>\n",
              "            </div>\n",
              "        </div>\n",
              "    </div>\n",
              "    "
            ],
            "text/plain": [
              "<IPython.core.display.HTML object>"
            ]
          },
          "metadata": {}
        }
      ]
    },
    {
      "cell_type": "markdown",
      "metadata": {
        "id": "AbGJgNOGYkhx"
      },
      "source": [
        "###### Questão 2\n",
        "Elabore um problema de classificação binária de textos coerente com sua\n",
        "base.\n",
        "\n",
        "a) Determine o rótulo dos documentos (separando os documentos em classes\n",
        "bem definidas).\n",
        "\n",
        "b) Extraia as representações vetoriais com CountVectorizer e TF-IDF.\n",
        "\n",
        "c) Treine um classificador baseado em cada uma das duas representações vetoriais e Regressão Logística usando validação cruzada com 70% das amostras selecionadas para treino e 30% para teste. Exiba as matrizes de confusão,\n",
        "métricas de acurácia, precisão, recall e F1 score.\n",
        "\n",
        "d) Faça o mesmo para o classificador Naive-Bayes.\n",
        "\n",
        "e) Faça o mesmo para um outro classificador de sua preferência (pesquise na\n",
        "biblioteca Scikit-learn).\n",
        "\n",
        "f) Compare os 6 resultados.\n"
      ]
    },
    {
      "cell_type": "code",
      "metadata": {
        "id": "CSmzR2NPDlkp"
      },
      "source": [
        "lbl_to_ind = {\n",
        "    ' comedy ': 0, ' drama ': 1, \n",
        "}\n",
        "y = [lbl_to_ind[l] for l in dataset.genre.values[:12000]]"
      ],
      "execution_count": 16,
      "outputs": []
    },
    {
      "cell_type": "code",
      "metadata": {
        "id": "4Fv_gdNDD0Hh"
      },
      "source": [
        "tfidf_X_train, tfidf_X_test, tfidf_y_train, tfidf_y_test = train_test_split(tfidf_X, y, test_size=0.3)\n",
        "count_X_train, count_X_test, count_y_train, count_y_test = train_test_split(count_X, y, test_size=0.3)"
      ],
      "execution_count": 17,
      "outputs": []
    },
    {
      "cell_type": "code",
      "metadata": {
        "id": "9VCyqBIZD9y9"
      },
      "source": [
        "# Regressão logística com tfidf\n",
        "cl = LogisticRegression().fit(tfidf_X_train.toarray(), tfidf_y_train)\n",
        "tfidf_y_pred = cl.predict(tfidf_X_test.toarray())"
      ],
      "execution_count": 18,
      "outputs": []
    },
    {
      "cell_type": "code",
      "metadata": {
        "colab": {
          "base_uri": "https://localhost:8080/",
          "height": 279
        },
        "id": "oURkIw-DEvEE",
        "outputId": "49f79efb-0379-4337-ae91-6e23c2831507"
      },
      "source": [
        "plot_confusion_matrix(cl, tfidf_X_test.toarray(), tfidf_y_test)\n",
        "plt.show()"
      ],
      "execution_count": 19,
      "outputs": [
        {
          "output_type": "display_data",
          "data": {
            "image/png": "[encoded data removed]",
            "text/plain": [
              "<Figure size 432x288 with 2 Axes>"
            ]
          },
          "metadata": {
            "needs_background": "light"
          }
        }
      ]
    },
    {
      "cell_type": "code",
      "metadata": {
        "colab": {
          "base_uri": "https://localhost:8080/"
        },
        "id": "TpDZhm5TFeRz",
        "outputId": "134e07b3-f99a-4256-8102-9cef61b7a6ae"
      },
      "source": [
        "print(\"Regressão Logísitca e TF-IDF\\nAcurácia: {}\\nPrecisão: {}\\nRecall: {}\\nF1 Score':{}\\n\".format(accuracy_score(tfidf_y_test, tfidf_y_pred), precision_score(tfidf_y_test, tfidf_y_pred), recall_score(tfidf_y_test, tfidf_y_pred), f1_score(tfidf_y_test, tfidf_y_pred)))"
      ],
      "execution_count": 20,
      "outputs": [
        {
          "output_type": "stream",
          "name": "stdout",
          "text": [
            "Regressão Logísitca e TF-IDF\n",
            "Acurácia: 0.7401855817273376\n",
            "Precisão: 0.7167070217917676\n",
            "Recall: 0.9855715871254163\n",
            "F1 Score':0.8299065420560747\n",
            "\n"
          ]
        }
      ]
    },
    {
      "cell_type": "code",
      "metadata": {
        "id": "4zy5PcQ0IbdY"
      },
      "source": [
        "#regressão logística com countvectorizer\n",
        "cl = LogisticRegression().fit(count_X_train.toarray(), count_y_train)\n",
        "count_y_pred = cl.predict(count_X_test.toarray())"
      ],
      "execution_count": 21,
      "outputs": []
    },
    {
      "cell_type": "code",
      "metadata": {
        "colab": {
          "base_uri": "https://localhost:8080/",
          "height": 283
        },
        "id": "E1d7zEBzI5T4",
        "outputId": "dfa6c7d1-353c-4018-b90a-75a2a47f5d42"
      },
      "source": [
        "plot_confusion_matrix(cl, count_X_test.toarray(), count_y_test)\n",
        "plt.show()"
      ],
      "execution_count": 22,
      "outputs": [
        {
          "output_type": "display_data",
          "data": {
            "image/png": "[encoded data removed]",
            "text/plain": [
              "<Figure size 432x288 with 2 Axes>"
            ]
          },
          "metadata": {
            "needs_background": "light"
          }
        }
      ]
    },
    {
      "cell_type": "code",
      "metadata": {
        "colab": {
          "base_uri": "https://localhost:8080/"
        },
        "id": "Cz2ysz-_KMWk",
        "outputId": "2bc363aa-0a45-4595-8fcf-ed63b04fbea5"
      },
      "source": [
        "print(\"Regressão Logísitca e CountVectorizer\\nAcurácia: {}\\nPrecisão: {}\\nRecall: {}\\nF1 Score':{}\\n\".format(accuracy_score(count_y_test, count_y_pred), precision_score(count_y_test, count_y_pred), recall_score(count_y_test, count_y_pred), f1_score(count_y_test, count_y_pred)))"
      ],
      "execution_count": 23,
      "outputs": [
        {
          "output_type": "stream",
          "name": "stdout",
          "text": [
            "Regressão Logísitca e CountVectorizer\n",
            "Acurácia: 0.7751605995717344\n",
            "Precisão: 0.8048289738430584\n",
            "Recall: 0.8686210640608035\n",
            "F1 Score':0.8355091383812011\n",
            "\n"
          ]
        }
      ]
    },
    {
      "cell_type": "markdown",
      "metadata": {
        "id": "nN0ycqcSoXHc"
      },
      "source": [
        "SVM, Redes neurais, LSTM"
      ]
    },
    {
      "cell_type": "markdown",
      "metadata": {
        "id": "5Vl4cQSbSl88"
      },
      "source": [
        "**Referências**\n",
        "\n",
        "[Basics of CountVectorizer](https://towardsdatascience.com/basics-of-countvectorizer-e26677900f9c)\n",
        "\n",
        "[TF-IDF Vectorizer scikit-learn](https://medium.com/@cmukesh8688/tf-idf-vectorizer-scikit-learn-dbc0244a911a)\n",
        "\n",
        "[Cosine Similarity – Understanding the math and how it works (with python codes)](https://www.machinelearningplus.com/nlp/cosine-similarity/)\n",
        "\n",
        "[Split Your Dataset With scikit-learn's train_test_split()](https://realpython.com/train-test-split-python-data/)"
      ]
    }
  ]
}