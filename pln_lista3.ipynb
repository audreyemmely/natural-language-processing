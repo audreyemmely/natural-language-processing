{
  "nbformat": 4,
  "nbformat_minor": 0,
  "metadata": {
    "colab": {
      "name": "pln_lista3.ipynb",
      "provenance": [],
      "collapsed_sections": [],
      "include_colab_link": true
    },
    "kernelspec": {
      "display_name": "Python 3",
      "name": "python3"
    },
    "language_info": {
      "name": "python"
    }
  },
  "cells": [
    {
      "cell_type": "markdown",
      "metadata": {
        "id": "view-in-github",
        "colab_type": "text"
      },
      "source": [
        "<a href=\"https://colab.research.google.com/github/audreyemmely/pln/blob/main/pln_lista3.ipynb\" target=\"_parent\"><img src=\"https://colab.research.google.com/assets/colab-badge.svg\" alt=\"Open In Colab\"/></a>"
      ]
    },
    {
      "cell_type": "markdown",
      "metadata": {
        "id": "UsfPoqEzXtXr"
      },
      "source": [
        "# **Resolução Lista 3**\n",
        "\n",
        "---\n",
        "\n",
        "Audrey Emmely Rodrigues Vasconcelos\n",
        "\n",
        "Karen Nayara Gomes da Silva"
      ]
    },
    {
      "cell_type": "code",
      "metadata": {
        "id": "xfcuzC_Sff5N"
      },
      "source": [
        "#from google.colab import files\n",
        "#uploaded = files.upload()\n",
        "# upando train_data e test_data_solution"
      ],
      "execution_count": 1,
      "outputs": []
    },
    {
      "cell_type": "markdown",
      "metadata": {
        "id": "FEPD5HWjYXta"
      },
      "source": [
        "## Questão 1\n",
        "Escolha 10 documentos da base, e determine seu documento mais parecido\n",
        "(que não pode ser ele mesmo), usando:\n",
        "\n",
        "a) Representação vetorial CountVectorizer com similaridade do cosseno;\n",
        "\n",
        "b) Representação vetorial TF-IDF com similaridade do cosseno.\n",
        "\n",
        "Mostre pelo menos um trecho de cada par de documentos parecidos que justifique\n",
        "essa semelhança."
      ]
    },
    {
      "cell_type": "code",
      "metadata": {
        "id": "hX6qfB9JyX4m"
      },
      "source": [
        "import pandas as pd\n",
        "import numpy as np\n",
        "import random\n",
        "import re\n",
        "import nltk\n",
        "from IPython.core.display import display, HTML\n",
        "from sklearn.metrics.pairwise import cosine_similarity\n",
        "from sklearn.feature_extraction.text import CountVectorizer, TfidfVectorizer\n",
        "from sklearn.model_selection import train_test_split\n",
        "from sklearn.linear_model import LogisticRegression\n",
        "from sklearn.naive_bayes import MultinomialNB\n",
        "from sklearn.svm import LinearSVC\n",
        "from matplotlib import pyplot as plt\n",
        "from sklearn.metrics import plot_confusion_matrix\n",
        "from sklearn.metrics import accuracy_score, precision_score, recall_score, f1_score"
      ],
      "execution_count": 2,
      "outputs": []
    },
    {
      "cell_type": "code",
      "metadata": {
        "id": "mlebZotrFMfc"
      },
      "source": [
        "import warnings\n",
        "warnings.filterwarnings('ignore')"
      ],
      "execution_count": 3,
      "outputs": []
    },
    {
      "cell_type": "code",
      "metadata": {
        "colab": {
          "base_uri": "https://localhost:8080/"
        },
        "id": "pCLz9pKLyeN8",
        "outputId": "b6ce964f-ca41-459b-e4f4-cae65183cd8f"
      },
      "source": [
        "nltk.download('stopwords')\n",
        "nltk.download('punkt')"
      ],
      "execution_count": 4,
      "outputs": [
        {
          "output_type": "stream",
          "name": "stdout",
          "text": [
            "[nltk_data] Downloading package stopwords to /root/nltk_data...\n",
            "[nltk_data]   Package stopwords is already up-to-date!\n",
            "[nltk_data] Downloading package punkt to /root/nltk_data...\n",
            "[nltk_data]   Package punkt is already up-to-date!\n"
          ]
        },
        {
          "output_type": "execute_result",
          "data": {
            "text/plain": [
              "True"
            ]
          },
          "metadata": {},
          "execution_count": 4
        }
      ]
    },
    {
      "cell_type": "code",
      "metadata": {
        "id": "j-YAOw3Oyi1f"
      },
      "source": [
        "df = pd.read_csv('train_data.txt', sep =':::', header = None, engine = 'python', nrows = 6000)\n",
        "df.columns = ['id', 'title', 'genre', 'description']\n",
        "df2 = pd.read_csv('test_data_solution.txt', sep =':::', header = None, engine = 'python', nrows = 6000)\n",
        "df2.columns = ['id', 'title', 'genre', 'description']"
      ],
      "execution_count": 5,
      "outputs": []
    },
    {
      "cell_type": "code",
      "metadata": {
        "id": "PeEwFJSl4OZ6"
      },
      "source": [
        "df3 = pd.concat([df, df2], ignore_index=True)\n",
        "df3.drop('id', axis=1, inplace=True)\n",
        "comedy = df3.loc[df3['genre'].str.contains('comedy')]\n",
        "drama = df3.loc[df3['genre'].str.contains('drama')]\n",
        "dataset = pd.concat([comedy, drama], ignore_index=True)"
      ],
      "execution_count": 6,
      "outputs": []
    },
    {
      "cell_type": "code",
      "metadata": {
        "id": "-GOxiN5tzCQ1"
      },
      "source": [
        "def preprocess(description):\n",
        "  description = re.sub(r'\\w*\\d\\w*', '', description) #remove todas as palavras que contêm números\n",
        "  description = re.sub(r'[^a-zA-Z ]', '', description.lower())\n",
        "  return re.sub(r'\\s+', ' ', description) #retira espaços repetidos"
      ],
      "execution_count": 7,
      "outputs": []
    },
    {
      "cell_type": "code",
      "metadata": {
        "id": "JcjMcK1pzC3e"
      },
      "source": [
        "dataset['description'] = dataset.description.apply(preprocess)"
      ],
      "execution_count": 8,
      "outputs": []
    },
    {
      "cell_type": "code",
      "metadata": {
        "id": "ho9Fk87_ziAo"
      },
      "source": [
        "stop_words = set(nltk.corpus.stopwords.words('english'))\n",
        "def remove_stopwords(description):\n",
        "    tokenized_text = nltk.word_tokenize(description, language='english')\n",
        "    return \" \".join([token for token in tokenized_text if token not in stop_words])"
      ],
      "execution_count": 9,
      "outputs": []
    },
    {
      "cell_type": "code",
      "metadata": {
        "id": "XPrZnVNrzimH"
      },
      "source": [
        "dataset['description'] = dataset.description.apply(remove_stopwords)"
      ],
      "execution_count": 10,
      "outputs": []
    },
    {
      "cell_type": "code",
      "metadata": {
        "colab": {
          "base_uri": "https://localhost:8080/",
          "height": 424
        },
        "id": "Arg6dzzL-Ms1",
        "outputId": "57a2c1a7-740a-4026-fe5a-396835972b41"
      },
      "source": [
        "dataset"
      ],
      "execution_count": 11,
      "outputs": [
        {
          "output_type": "execute_result",
          "data": {
            "text/html": [
              "<div>\n",
              "<style scoped>\n",
              "    .dataframe tbody tr th:only-of-type {\n",
              "        vertical-align: middle;\n",
              "    }\n",
              "\n",
              "    .dataframe tbody tr th {\n",
              "        vertical-align: top;\n",
              "    }\n",
              "\n",
              "    .dataframe thead th {\n",
              "        text-align: right;\n",
              "    }\n",
              "</style>\n",
              "<table border=\"1\" class=\"dataframe\">\n",
              "  <thead>\n",
              "    <tr style=\"text-align: right;\">\n",
              "      <th></th>\n",
              "      <th>title</th>\n",
              "      <th>genre</th>\n",
              "      <th>description</th>\n",
              "    </tr>\n",
              "  </thead>\n",
              "  <tbody>\n",
              "    <tr>\n",
              "      <th>0</th>\n",
              "      <td>\"Pink Slip\" (2009)</td>\n",
              "      <td>comedy</td>\n",
              "      <td>tough economic times max joey run ideas discov...</td>\n",
              "    </tr>\n",
              "    <tr>\n",
              "      <th>1</th>\n",
              "      <td>Babylon Vista (2001)</td>\n",
              "      <td>comedy</td>\n",
              "      <td>frankie reno child star tv show thirty years a...</td>\n",
              "    </tr>\n",
              "    <tr>\n",
              "      <th>2</th>\n",
              "      <td>Söderpojkar (1941)</td>\n",
              "      <td>comedy</td>\n",
              "      <td>gang unemployed itinerant musicians play south...</td>\n",
              "    </tr>\n",
              "    <tr>\n",
              "      <th>3</th>\n",
              "      <td>Tunnel Vision (1976)</td>\n",
              "      <td>comedy</td>\n",
              "      <td>committee investigating tvs first uncensored n...</td>\n",
              "    </tr>\n",
              "    <tr>\n",
              "      <th>4</th>\n",
              "      <td>\"The Young Professionals\" (2015)</td>\n",
              "      <td>comedy</td>\n",
              "      <td>whether blocking mouse holes running landlords...</td>\n",
              "    </tr>\n",
              "    <tr>\n",
              "      <th>...</th>\n",
              "      <td>...</td>\n",
              "      <td>...</td>\n",
              "      <td>...</td>\n",
              "    </tr>\n",
              "    <tr>\n",
              "      <th>4664</th>\n",
              "      <td>Hello &amp; Goodbye (????)</td>\n",
              "      <td>drama</td>\n",
              "      <td>wounds still open recent end year relationship...</td>\n",
              "    </tr>\n",
              "    <tr>\n",
              "      <th>4665</th>\n",
              "      <td>Nyab Siab Zoo (2009)</td>\n",
              "      <td>drama</td>\n",
              "      <td>death lady va chas husband two sons returns no...</td>\n",
              "    </tr>\n",
              "    <tr>\n",
              "      <th>4666</th>\n",
              "      <td>Saving the Lives of Children (2008)</td>\n",
              "      <td>drama</td>\n",
              "      <td>series monologues tell tales underground schoo...</td>\n",
              "    </tr>\n",
              "    <tr>\n",
              "      <th>4667</th>\n",
              "      <td>Charachar (1994)</td>\n",
              "      <td>drama</td>\n",
              "      <td>lakha comes family bird catchers questions val...</td>\n",
              "    </tr>\n",
              "    <tr>\n",
              "      <th>4668</th>\n",
              "      <td>Juliane (2000)</td>\n",
              "      <td>drama</td>\n",
              "      <td>strong willed independent juliane jensen marri...</td>\n",
              "    </tr>\n",
              "  </tbody>\n",
              "</table>\n",
              "<p>4669 rows × 3 columns</p>\n",
              "</div>"
            ],
            "text/plain": [
              "                                      title  ...                                        description\n",
              "0                       \"Pink Slip\" (2009)   ...  tough economic times max joey run ideas discov...\n",
              "1                     Babylon Vista (2001)   ...  frankie reno child star tv show thirty years a...\n",
              "2                       Söderpojkar (1941)   ...  gang unemployed itinerant musicians play south...\n",
              "3                     Tunnel Vision (1976)   ...  committee investigating tvs first uncensored n...\n",
              "4         \"The Young Professionals\" (2015)   ...  whether blocking mouse holes running landlords...\n",
              "...                                     ...  ...                                                ...\n",
              "4664                Hello & Goodbye (????)   ...  wounds still open recent end year relationship...\n",
              "4665                  Nyab Siab Zoo (2009)   ...  death lady va chas husband two sons returns no...\n",
              "4666   Saving the Lives of Children (2008)   ...  series monologues tell tales underground schoo...\n",
              "4667                      Charachar (1994)   ...  lakha comes family bird catchers questions val...\n",
              "4668                        Juliane (2000)   ...  strong willed independent juliane jensen marri...\n",
              "\n",
              "[4669 rows x 3 columns]"
            ]
          },
          "metadata": {},
          "execution_count": 11
        }
      ]
    },
    {
      "cell_type": "code",
      "metadata": {
        "id": "w9n4Jev74wEB"
      },
      "source": [
        "tfidf_X = TfidfVectorizer().fit_transform(dataset.description)\n",
        "count_X = CountVectorizer().fit_transform(dataset.description)\n",
        "\n",
        "tfidf_similarity_matrix = cosine_similarity(tfidf_X)\n",
        "count_similarity_matrix = cosine_similarity(count_X)"
      ],
      "execution_count": 12,
      "outputs": []
    },
    {
      "cell_type": "code",
      "metadata": {
        "id": "Io22gbvC5vVC"
      },
      "source": [
        "np.fill_diagonal(tfidf_similarity_matrix, 0.0)\n",
        "np.fill_diagonal(count_similarity_matrix, 0.0)\n",
        "\n",
        "result = [\n",
        "    {\n",
        "        'doc': dataset.iloc[i],\n",
        "        'tfidf_similar_doc': dataset.iloc[tfidf_similarity_matrix[i, :].argmax()],\n",
        "        'tfidf_similarity': tfidf_similarity_matrix[i, :].max(),\n",
        "        'count_similar_doc': dataset.iloc[count_similarity_matrix[i, :].argmax()],\n",
        "        'count_similarity': count_similarity_matrix[i, :].max(),\n",
        "    }\n",
        "    for i in [random.randint(0, len(dataset)) for _ in range(10)]\n",
        "]    "
      ],
      "execution_count": 13,
      "outputs": []
    },
    {
      "cell_type": "code",
      "metadata": {
        "colab": {
          "base_uri": "https://localhost:8080/",
          "height": 17
        },
        "id": "_P4Anovz6NkO",
        "outputId": "77cf84c3-b10a-4d60-b890-7a7793920b25"
      },
      "source": [
        "%%html\n",
        "<style>\n",
        "    .col {\n",
        "        height: 100%;\n",
        "        padding-left: 16px;\n",
        "        padding-right: 16px;\n",
        "        padding-top: 8px;\n",
        "        padding-bottom: 8px;\n",
        "    }\n",
        "</style>"
      ],
      "execution_count": 14,
      "outputs": [
        {
          "output_type": "display_data",
          "data": {
            "text/html": [
              "<style>\n",
              "    .col {\n",
              "        height: 100%;\n",
              "        padding-left: 16px;\n",
              "        padding-right: 16px;\n",
              "        padding-top: 8px;\n",
              "        padding-bottom: 8px;\n",
              "    }\n",
              "</style>"
            ],
            "text/plain": [
              "<IPython.core.display.HTML object>"
            ]
          },
          "metadata": {}
        }
      ]
    },
    {
      "cell_type": "markdown",
      "metadata": {
        "id": "uMYoAz3-gvZK"
      },
      "source": [
        "### 1.a) Representação vetorial CountVectorizer com similaridade do cosseno;\n",
        "\n",
        "### 1.b) Representação vetorial TF-IDF com similaridade do cosseno."
      ]
    },
    {
      "cell_type": "code",
      "metadata": {
        "colab": {
          "base_uri": "https://localhost:8080/",
          "height": 1000
        },
        "id": "dlT8lm3w6sMJ",
        "outputId": "a17c9828-57d5-4acf-c8a5-cf9927da1fc5"
      },
      "source": [
        "for r in result:\n",
        "    title = r['doc'].title if r['doc'].title != '' else r['doc'].description[:150] + '...'\n",
        "    movie = '<span>%(title)s</span> <span>%(description)s</span>' \n",
        "    desc_length = 300\n",
        "    \n",
        "    tfidf_content = movie % ({\n",
        "        'title': r['tfidf_similar_doc'].title,\n",
        "        'description': r['tfidf_similar_doc'].description[:desc_length] + '...',\n",
        "    })\n",
        "    count_content = movie % ({ \n",
        "        'title': r['count_similar_doc'].title,\n",
        "        'description': r['count_similar_doc'].description[:desc_length] + '...',\n",
        "    })\n",
        "    \n",
        "    display(HTML('''\n",
        "    <div style=\"margin: 8px; border: 1px solid lightgray\">\n",
        "        <div style=\"text-align: center;background-color: whitesmoke;padding: 8px\"><u r['doc'].title >''' + title + '''</u></div>\n",
        "        <div>\n",
        "            <div>\n",
        "                <div class=\"col\">\n",
        "                    <div><strong>TfidfVectorizer: </strong>''' + str(r['tfidf_similarity'])[:6] + '''</div>\n",
        "                    <div>''' + tfidf_content + '''</div>\n",
        "                </div>\n",
        "            </div>\n",
        "            <div>\n",
        "                <div class=\"col\">\n",
        "                <div><strong>CountVectorizer: </strong>''' + str(r['count_similarity'])[:6] + '''</div>\n",
        "                <div>''' + count_content + '''</div>\n",
        "                </div>\n",
        "            </div>\n",
        "        </div>\n",
        "    </div>\n",
        "    '''))"
      ],
      "execution_count": 15,
      "outputs": [
        {
          "output_type": "display_data",
          "data": {
            "text/html": [
              "\n",
              "    <div style=\"margin: 8px; border: 1px solid lightgray\">\n",
              "        <div style=\"text-align: center;background-color: whitesmoke;padding: 8px\"><u r['doc'].title > BrownTown (2015) </u></div>\n",
              "        <div>\n",
              "            <div>\n",
              "                <div class=\"col\">\n",
              "                    <div><strong>TfidfVectorizer: </strong>0.1652</div>\n",
              "                    <div><span> Manik (2005) </span> <span>samir mitra unemployed educated guy looking job father abir mitra retired person samirs mother suffering cancer one day samir suddenly meets manik chandra sadhukhan maniks father niranjan sadhukan also ill latika maniks younger sister manik come kolkata meet fathers friend chandrakanta majumadar est...</span></div>\n",
              "                </div>\n",
              "            </div>\n",
              "            <div>\n",
              "                <div class=\"col\">\n",
              "                <div><strong>CountVectorizer: </strong>0.2054</div>\n",
              "                <div><span> Chbabek el jenna (2015) </span> <span>sami sara tunisian couple thirties lead peaceful life seem happy tragedy befalls borders heaven story ordinary family whose life takes dramatic turn despair guilt desire life one reconstruct life faced unacceptable...</span></div>\n",
              "                </div>\n",
              "            </div>\n",
              "        </div>\n",
              "    </div>\n",
              "    "
            ],
            "text/plain": [
              "<IPython.core.display.HTML object>"
            ]
          },
          "metadata": {}
        },
        {
          "output_type": "display_data",
          "data": {
            "text/html": [
              "\n",
              "    <div style=\"margin: 8px; border: 1px solid lightgray\">\n",
              "        <div style=\"text-align: center;background-color: whitesmoke;padding: 8px\"><u r['doc'].title > Gunehgar (1995) </u></div>\n",
              "        <div>\n",
              "            <div>\n",
              "                <div class=\"col\">\n",
              "                    <div><strong>TfidfVectorizer: </strong>0.1425</div>\n",
              "                    <div><span> Anjaane Rishte (1989) </span> <span>simple family drama type film ram mohan honest government employee due dating flat compelled flat owner leave flat family consists wife indu daughter preeti son kapil passes file mr ajay without taking bribe ajay offers live flat father living alone due father get company get shelter ram mohan accep...</span></div>\n",
              "                </div>\n",
              "            </div>\n",
              "            <div>\n",
              "                <div class=\"col\">\n",
              "                <div><strong>CountVectorizer: </strong>0.1513</div>\n",
              "                <div><span> \"Look Back in Anger\" (2000) </span> <span>death father eldest son donghoon joins gang younger sister mina often absent school younger brother dongjin becomes detective eating restaurant donghoon meets girl named junghee soon fall love however donghoon later finds girlfriend daughter rival crime boss...</span></div>\n",
              "                </div>\n",
              "            </div>\n",
              "        </div>\n",
              "    </div>\n",
              "    "
            ],
            "text/plain": [
              "<IPython.core.display.HTML object>"
            ]
          },
          "metadata": {}
        },
        {
          "output_type": "display_data",
          "data": {
            "text/html": [
              "\n",
              "    <div style=\"margin: 8px; border: 1px solid lightgray\">\n",
              "        <div style=\"text-align: center;background-color: whitesmoke;padding: 8px\"><u r['doc'].title > Unspeakable (2017) </u></div>\n",
              "        <div>\n",
              "            <div>\n",
              "                <div class=\"col\">\n",
              "                    <div><strong>TfidfVectorizer: </strong>0.2075</div>\n",
              "                    <div><span> For a Good Time, Call... (2012) </span> <span>lauren katie college frenemies mutual good friend move together age order afford amazing gramercy park apartment unlikely pair start phone sex line become best friends learning hilarious world vibrators fake orgasms nighttime callers hot line hung reality comes calling meaningful relationship lives ...</span></div>\n",
              "                </div>\n",
              "            </div>\n",
              "            <div>\n",
              "                <div class=\"col\">\n",
              "                <div><strong>CountVectorizer: </strong>0.2039</div>\n",
              "                <div><span> You Were Once Called Queen City (????) </span> <span>dickinson north dakota beloved dickinson high school mascot fighting midget assault pcminded townsfolk prefer less threatening moniker fighting pheasant danny mesersmits average teen son local athletic legend decided sucks wrestling two weeks varsity wrestling begins danny announces much shock famil...</span></div>\n",
              "                </div>\n",
              "            </div>\n",
              "        </div>\n",
              "    </div>\n",
              "    "
            ],
            "text/plain": [
              "<IPython.core.display.HTML object>"
            ]
          },
          "metadata": {}
        },
        {
          "output_type": "display_data",
          "data": {
            "text/html": [
              "\n",
              "    <div style=\"margin: 8px; border: 1px solid lightgray\">\n",
              "        <div style=\"text-align: center;background-color: whitesmoke;padding: 8px\"><u r['doc'].title > Dirty, Clean, & Inbetween (2017) </u></div>\n",
              "        <div>\n",
              "            <div>\n",
              "                <div class=\"col\">\n",
              "                    <div><strong>TfidfVectorizer: </strong>0.0985</div>\n",
              "                    <div><span> Inbetween (2015) </span> <span>inbetween original webseries set los angeles week lives four seemingly unrelated characters working larger life greek female owner prestigious restaurant west hollywood stuck dreams reality waiting chance colorful clientele rich famous peculiar choices protagonists decide make turn world upside chan...</span></div>\n",
              "                </div>\n",
              "            </div>\n",
              "            <div>\n",
              "                <div class=\"col\">\n",
              "                <div><strong>CountVectorizer: </strong>0.1593</div>\n",
              "                <div><span> How to Be a Player (1997) </span> <span>dray young playboy whose objective life seems sex many girls without getting caught girlfriend lisa drays sister jenny friend katrina plan show way lives wrong organize party malibu inviting girlfriends...</span></div>\n",
              "                </div>\n",
              "            </div>\n",
              "        </div>\n",
              "    </div>\n",
              "    "
            ],
            "text/plain": [
              "<IPython.core.display.HTML object>"
            ]
          },
          "metadata": {}
        },
        {
          "output_type": "display_data",
          "data": {
            "text/html": [
              "\n",
              "    <div style=\"margin: 8px; border: 1px solid lightgray\">\n",
              "        <div style=\"text-align: center;background-color: whitesmoke;padding: 8px\"><u r['doc'].title > Pazar - Bir Ticaret Masali (2008) </u></div>\n",
              "        <div>\n",
              "            <div>\n",
              "                <div class=\"col\">\n",
              "                    <div><strong>TfidfVectorizer: </strong>0.1203</div>\n",
              "                    <div><span> Life with Father (1947) </span> <span>late nineteenth century new york wall street broker likes think house runs way finds constantly bemused much happens wife children also stretching wings discovering girls making money patent medicine selling comes light never baptized everyone starts insisting must starts get bit much...</span></div>\n",
              "                </div>\n",
              "            </div>\n",
              "            <div>\n",
              "                <div class=\"col\">\n",
              "                <div><strong>CountVectorizer: </strong>0.1969</div>\n",
              "                <div><span> Gangsters Gamblers Geezers (2016) </span> <span>gangsters gamblers geezers story two lovable losers krish lee get fired call centre jobs spending money crazy month partying money pay olu nigerian landlord olu gives boys hours pay rent else things get biblical clock ticking boys forced embark adventure sees get involved two warring london gangster...</span></div>\n",
              "                </div>\n",
              "            </div>\n",
              "        </div>\n",
              "    </div>\n",
              "    "
            ],
            "text/plain": [
              "<IPython.core.display.HTML object>"
            ]
          },
          "metadata": {}
        },
        {
          "output_type": "display_data",
          "data": {
            "text/html": [
              "\n",
              "    <div style=\"margin: 8px; border: 1px solid lightgray\">\n",
              "        <div style=\"text-align: center;background-color: whitesmoke;padding: 8px\"><u r['doc'].title > Beerfest (2006) </u></div>\n",
              "        <div>\n",
              "            <div>\n",
              "                <div class=\"col\">\n",
              "                    <div><strong>TfidfVectorizer: </strong>0.1172</div>\n",
              "                    <div><span> Escape (1940) </span> <span>american goes germany find mother discovers concentration camp help german countess engineers escape american mark preysing nazi germany looking german national mother emmy ritter renowned stage actress able learn imprisoned somewhere country treason german state harboring german fugitives lived uni...</span></div>\n",
              "                </div>\n",
              "            </div>\n",
              "            <div>\n",
              "                <div class=\"col\">\n",
              "                <div><strong>CountVectorizer: </strong>0.1612</div>\n",
              "                <div><span> A Year and a Day (2012) </span> <span>unusual story flills successful well respected working class glaswegian family founded run local community centre mikey flills backbone family selflessly keeps family together happy enormous charm huge personality mikey many secrets lead leaving family behind without explanation returns year later m...</span></div>\n",
              "                </div>\n",
              "            </div>\n",
              "        </div>\n",
              "    </div>\n",
              "    "
            ],
            "text/plain": [
              "<IPython.core.display.HTML object>"
            ]
          },
          "metadata": {}
        },
        {
          "output_type": "display_data",
          "data": {
            "text/html": [
              "\n",
              "    <div style=\"margin: 8px; border: 1px solid lightgray\">\n",
              "        <div style=\"text-align: center;background-color: whitesmoke;padding: 8px\"><u r['doc'].title > \"Unconventional\" (2014) </u></div>\n",
              "        <div>\n",
              "            <div>\n",
              "                <div class=\"col\">\n",
              "                    <div><strong>TfidfVectorizer: </strong>0.0934</div>\n",
              "                    <div><span> SketchShow (2017) </span> <span>christian nate relatively normal yearolds try balance dating jobhunting trying find place world sure inexplicably live nice suburban home together host cigar review series canadian payperview spend disproportionate amount time arcade doesnt yeah nate likes play video games unconscious girls christia...</span></div>\n",
              "                </div>\n",
              "            </div>\n",
              "            <div>\n",
              "                <div class=\"col\">\n",
              "                <div><strong>CountVectorizer: </strong>0.1616</div>\n",
              "                <div><span> COLABS: The Special-feature Film (2015) </span> <span>slapstick homemade comedy daffy boys dislike put film class collaborate short movie together think might work differences production completeyet discover many distractions making film find selves hanging together fun...</span></div>\n",
              "                </div>\n",
              "            </div>\n",
              "        </div>\n",
              "    </div>\n",
              "    "
            ],
            "text/plain": [
              "<IPython.core.display.HTML object>"
            ]
          },
          "metadata": {}
        },
        {
          "output_type": "display_data",
          "data": {
            "text/html": [
              "\n",
              "    <div style=\"margin: 8px; border: 1px solid lightgray\">\n",
              "        <div style=\"text-align: center;background-color: whitesmoke;padding: 8px\"><u r['doc'].title > Les femmes savantes (2003) </u></div>\n",
              "        <div>\n",
              "            <div>\n",
              "                <div class=\"col\">\n",
              "                    <div><strong>TfidfVectorizer: </strong>0.0768</div>\n",
              "                    <div><span> Ptichka (2014) </span> <span>childhood go away goes away instead playing football kids sit silently contemplate river thoughts dont let sleep lightning bug beats pot like heart poems come mind feel really need sing goes away suddenly realize summer going away last summer childhood...</span></div>\n",
              "                </div>\n",
              "            </div>\n",
              "            <div>\n",
              "                <div class=\"col\">\n",
              "                <div><strong>CountVectorizer: </strong>0.1934</div>\n",
              "                <div><span> Happy Birthday (2017/II) </span> <span>george sees daughter margarita facing teargas wife sofia decide father daughter go country house days attempt protect daughter salvage whatever might left relationship...</span></div>\n",
              "                </div>\n",
              "            </div>\n",
              "        </div>\n",
              "    </div>\n",
              "    "
            ],
            "text/plain": [
              "<IPython.core.display.HTML object>"
            ]
          },
          "metadata": {}
        },
        {
          "output_type": "display_data",
          "data": {
            "text/html": [
              "\n",
              "    <div style=\"margin: 8px; border: 1px solid lightgray\">\n",
              "        <div style=\"text-align: center;background-color: whitesmoke;padding: 8px\"><u r['doc'].title > Peace to Us in Our Dreams (2015) </u></div>\n",
              "        <div>\n",
              "            <div>\n",
              "                <div class=\"col\">\n",
              "                    <div><strong>TfidfVectorizer: </strong>0.1846</div>\n",
              "                    <div><span> Happy Birthday (2017/II) </span> <span>george sees daughter margarita facing teargas wife sofia decide father daughter go country house days attempt protect daughter salvage whatever might left relationship...</span></div>\n",
              "                </div>\n",
              "            </div>\n",
              "            <div>\n",
              "                <div class=\"col\">\n",
              "                <div><strong>CountVectorizer: </strong>0.3376</div>\n",
              "                <div><span> Happy Birthday (2017/II) </span> <span>george sees daughter margarita facing teargas wife sofia decide father daughter go country house days attempt protect daughter salvage whatever might left relationship...</span></div>\n",
              "                </div>\n",
              "            </div>\n",
              "        </div>\n",
              "    </div>\n",
              "    "
            ],
            "text/plain": [
              "<IPython.core.display.HTML object>"
            ]
          },
          "metadata": {}
        },
        {
          "output_type": "display_data",
          "data": {
            "text/html": [
              "\n",
              "    <div style=\"margin: 8px; border: 1px solid lightgray\">\n",
              "        <div style=\"text-align: center;background-color: whitesmoke;padding: 8px\"><u r['doc'].title > Les exploits d'un jeune Don Juan (1986) </u></div>\n",
              "        <div>\n",
              "            <div>\n",
              "                <div class=\"col\">\n",
              "                    <div><strong>TfidfVectorizer: </strong>0.3854</div>\n",
              "                    <div><span> A Man's Fight (1919) </span> <span>impertinent son wealthy new yorker roger carr takes blame murder norman evans roger believes sister ethel shot evans assaulted although ethel unconscious confesses protect roger thinks guilty roger sent prison ethel goes california mission upon release roger disowned father goes arizona buying coppe...</span></div>\n",
              "                </div>\n",
              "            </div>\n",
              "            <div>\n",
              "                <div class=\"col\">\n",
              "                <div><strong>CountVectorizer: </strong>0.3087</div>\n",
              "                <div><span> A Man's Fight (1919) </span> <span>impertinent son wealthy new yorker roger carr takes blame murder norman evans roger believes sister ethel shot evans assaulted although ethel unconscious confesses protect roger thinks guilty roger sent prison ethel goes california mission upon release roger disowned father goes arizona buying coppe...</span></div>\n",
              "                </div>\n",
              "            </div>\n",
              "        </div>\n",
              "    </div>\n",
              "    "
            ],
            "text/plain": [
              "<IPython.core.display.HTML object>"
            ]
          },
          "metadata": {}
        }
      ]
    },
    {
      "cell_type": "markdown",
      "metadata": {
        "id": "AbGJgNOGYkhx"
      },
      "source": [
        "## Questão 2\n",
        "Elabore um problema de classificação binária de textos coerente com sua\n",
        "base.\n",
        "\n",
        "a) Determine o rótulo dos documentos (separando os documentos em classes\n",
        "bem definidas).\n",
        "\n",
        "b) Extraia as representações vetoriais com CountVectorizer e TF-IDF.\n",
        "\n",
        "c) Treine um classificador baseado em cada uma das duas representações vetoriais e Regressão Logística usando validação cruzada com 70% das amostras selecionadas para treino e 30% para teste. Exiba as matrizes de confusão,\n",
        "métricas de acurácia, precisão, recall e F1 score.\n",
        "\n",
        "d) Faça o mesmo para o classificador Naive-Bayes.\n",
        "\n",
        "e) Faça o mesmo para um outro classificador de sua preferência (pesquise na\n",
        "biblioteca Scikit-learn).\n",
        "\n",
        "f) Compare os 6 resultados.\n"
      ]
    },
    {
      "cell_type": "markdown",
      "metadata": {
        "id": "9pDAsdmSgZtS"
      },
      "source": [
        "### 2.a) Determine o rótulo dos documentos (separando os documentos em classes bem definidas)."
      ]
    },
    {
      "cell_type": "code",
      "metadata": {
        "id": "CSmzR2NPDlkp"
      },
      "source": [
        "lbl_to_ind = {\n",
        "    ' comedy ': 0, ' drama ': 1, \n",
        "}\n",
        "y = [lbl_to_ind[l] for l in dataset.genre.values[:12000]]"
      ],
      "execution_count": 16,
      "outputs": []
    },
    {
      "cell_type": "markdown",
      "metadata": {
        "id": "rX5skqocgOly"
      },
      "source": [
        "### 2.b) Extraia as representações vetoriais com CountVectorizer e TF-IDF."
      ]
    },
    {
      "cell_type": "code",
      "metadata": {
        "id": "4Fv_gdNDD0Hh"
      },
      "source": [
        "tfidf_X_train, tfidf_X_test, tfidf_y_train, tfidf_y_test = train_test_split(tfidf_X, y, test_size=0.3)\n",
        "count_X_train, count_X_test, count_y_train, count_y_test = train_test_split(count_X, y, test_size=0.3)"
      ],
      "execution_count": 17,
      "outputs": []
    },
    {
      "cell_type": "markdown",
      "metadata": {
        "id": "UT6_rRMlgJgJ"
      },
      "source": [
        "### 2.c) Treine um classificador baseado em cada uma das duas representações vetoriais e Regressão Logística usando validação cruzada com 70% das amostras selecionadas para treino e 30% para teste. Exiba as matrizes de confusão, métricas de acurácia, precisão, recall e F1 score."
      ]
    },
    {
      "cell_type": "code",
      "metadata": {
        "id": "9VCyqBIZD9y9"
      },
      "source": [
        "# Regressão Logística com tfidf\n",
        "cl = LogisticRegression().fit(tfidf_X_train.toarray(), tfidf_y_train)\n",
        "tfidf_y_pred = cl.predict(tfidf_X_test.toarray())"
      ],
      "execution_count": 18,
      "outputs": []
    },
    {
      "cell_type": "code",
      "metadata": {
        "colab": {
          "base_uri": "https://localhost:8080/",
          "height": 279
        },
        "id": "oURkIw-DEvEE",
        "outputId": "114ef84d-799f-4068-9504-179a407f820c"
      },
      "source": [
        "plot_confusion_matrix(cl, tfidf_X_test.toarray(), tfidf_y_test)\n",
        "plt.show()"
      ],
      "execution_count": 19,
      "outputs": [
        {
          "output_type": "display_data",
          "data": {
            "image/png": "[encoded data removed]",
            "text/plain": [
              "<Figure size 432x288 with 2 Axes>"
            ]
          },
          "metadata": {
            "needs_background": "light"
          }
        }
      ]
    },
    {
      "cell_type": "code",
      "metadata": {
        "colab": {
          "base_uri": "https://localhost:8080/"
        },
        "id": "TpDZhm5TFeRz",
        "outputId": "32d84343-0dcd-4c6f-949f-e84363ae3c62"
      },
      "source": [
        "accuracy_lr_tfidf = accuracy_score(tfidf_y_test, tfidf_y_pred)\n",
        "precision_lr_tfidf = precision_score(tfidf_y_test, tfidf_y_pred)\n",
        "recall_lr_tfidf = recall_score(tfidf_y_test, tfidf_y_pred)\n",
        "f1_lr_tfidf = f1_score(tfidf_y_test, tfidf_y_pred)\n",
        "\n",
        "print(\"Regressão Logísitca e TF-IDF\\nAcurácia: {}\\nPrecisão: {}\\nRecall: {}\\nF1 Score: {}\\n\".format(accuracy_lr_tfidf, precision_lr_tfidf, recall_lr_tfidf, f1_lr_tfidf))"
      ],
      "execution_count": 20,
      "outputs": [
        {
          "output_type": "stream",
          "name": "stdout",
          "text": [
            "Regressão Logísitca e TF-IDF\n",
            "Acurácia: 0.7466095645967167\n",
            "Precisão: 0.7312703583061889\n",
            "Recall: 0.9729144095341279\n",
            "F1 Score: 0.8349604834960483\n",
            "\n"
          ]
        }
      ]
    },
    {
      "cell_type": "code",
      "metadata": {
        "id": "4zy5PcQ0IbdY"
      },
      "source": [
        "# Regressão Logística com countvectorizer\n",
        "cl = LogisticRegression().fit(count_X_train.toarray(), count_y_train)\n",
        "count_y_pred = cl.predict(count_X_test.toarray())"
      ],
      "execution_count": 21,
      "outputs": []
    },
    {
      "cell_type": "code",
      "metadata": {
        "colab": {
          "base_uri": "https://localhost:8080/",
          "height": 279
        },
        "id": "E1d7zEBzI5T4",
        "outputId": "51c1b675-46af-4bea-9d97-a1340662c386"
      },
      "source": [
        "plot_confusion_matrix(cl, count_X_test.toarray(), count_y_test)\n",
        "plt.show()"
      ],
      "execution_count": 22,
      "outputs": [
        {
          "output_type": "display_data",
          "data": {
            "image/png": "[encoded data removed]",
            "text/plain": [
              "<Figure size 432x288 with 2 Axes>"
            ]
          },
          "metadata": {
            "needs_background": "light"
          }
        }
      ]
    },
    {
      "cell_type": "code",
      "metadata": {
        "colab": {
          "base_uri": "https://localhost:8080/"
        },
        "id": "Cz2ysz-_KMWk",
        "outputId": "cbbcc388-23b2-407d-886d-0688783afe17"
      },
      "source": [
        "accuracy_lr_count = accuracy_score(count_y_test, count_y_pred)\n",
        "precision_lr_count = precision_score(count_y_test, count_y_pred)\n",
        "recall_lr_count = recall_score(count_y_test, count_y_pred)\n",
        "f1_lr_count = f1_score(count_y_test, count_y_pred)\n",
        "\n",
        "print(\"Regressão Logísitca e CountVectorizer\\nAcurácia: {}\\nPrecisão: {}\\nRecall: {}\\nF1 Score: {}\\n\".format(accuracy_lr_count, precision_lr_count, recall_lr_count, f1_lr_count))"
      ],
      "execution_count": 23,
      "outputs": [
        {
          "output_type": "stream",
          "name": "stdout",
          "text": [
            "Regressão Logísitca e CountVectorizer\n",
            "Acurácia: 0.7880085653104925\n",
            "Precisão: 0.8185404339250493\n",
            "Recall: 0.88016967126193\n",
            "F1 Score: 0.8482370975983649\n",
            "\n"
          ]
        }
      ]
    },
    {
      "cell_type": "markdown",
      "metadata": {
        "id": "Ej714gNuf-oH"
      },
      "source": [
        "### 2.d) Faça o mesmo para o classificador Naive-Bayes."
      ]
    },
    {
      "cell_type": "code",
      "metadata": {
        "id": "hOtIHNELwoc8"
      },
      "source": [
        "# Naive Bayes com tfidf\n",
        "\n",
        "cl_nb = MultinomialNB().fit(tfidf_X_train.toarray(), tfidf_y_train)\n",
        "tfidf_y_pred_nb = cl_nb.predict(tfidf_X_test.toarray())"
      ],
      "execution_count": 24,
      "outputs": []
    },
    {
      "cell_type": "code",
      "metadata": {
        "colab": {
          "base_uri": "https://localhost:8080/",
          "height": 279
        },
        "id": "XgpzZgS00v_w",
        "outputId": "3d3a1ebc-8147-4570-c0d9-e595ce34458b"
      },
      "source": [
        "plot_confusion_matrix(cl_nb, tfidf_X_test.toarray(), tfidf_y_test)\n",
        "plt.show()"
      ],
      "execution_count": 25,
      "outputs": [
        {
          "output_type": "display_data",
          "data": {
            "image/png": "[encoded data removed]",
            "text/plain": [
              "<Figure size 432x288 with 2 Axes>"
            ]
          },
          "metadata": {
            "needs_background": "light"
          }
        }
      ]
    },
    {
      "cell_type": "code",
      "metadata": {
        "colab": {
          "base_uri": "https://localhost:8080/"
        },
        "id": "sSQJ5K_H0zCn",
        "outputId": "0d8d8472-1658-442b-c4be-9a0a7d4377c4"
      },
      "source": [
        "accuracy_nb_tfidf = accuracy_score(tfidf_y_test, tfidf_y_pred_nb)\n",
        "precision_nb_tfidf = precision_score(tfidf_y_test, tfidf_y_pred_nb)\n",
        "recall_nb_tfidf = recall_score(tfidf_y_test, tfidf_y_pred_nb)\n",
        "f1_nb_tfidf = f1_score(tfidf_y_test, tfidf_y_pred_nb)\n",
        "\n",
        "print(\"Naive Bayes e TF-IDF\\nAcurácia: {}\\nPrecisão: {}\\nRecall: {}\\nF1 Score: {}\\n\".format(accuracy_nb_tfidf, precision_nb_tfidf, recall_nb_tfidf, f1_nb_tfidf))"
      ],
      "execution_count": 26,
      "outputs": [
        {
          "output_type": "stream",
          "name": "stdout",
          "text": [
            "Naive Bayes e TF-IDF\n",
            "Acurácia: 0.6659528907922913\n",
            "Precisão: 0.6652142338416849\n",
            "Recall: 0.9924160346695557\n",
            "F1 Score: 0.7965217391304349\n",
            "\n"
          ]
        }
      ]
    },
    {
      "cell_type": "code",
      "metadata": {
        "id": "AVpKiAFX070z"
      },
      "source": [
        "# Naive Bayes com countvectorizer\n",
        "\n",
        "cl_nb = MultinomialNB().fit(count_X_train.toarray(), count_y_train)\n",
        "count_y_pred_nb = cl_nb.predict(count_X_test.toarray())"
      ],
      "execution_count": 27,
      "outputs": []
    },
    {
      "cell_type": "code",
      "metadata": {
        "colab": {
          "base_uri": "https://localhost:8080/",
          "height": 279
        },
        "id": "UvHKXdg90-MS",
        "outputId": "aa8eccb8-7e2c-47c4-964f-cb63b50d5609"
      },
      "source": [
        "plot_confusion_matrix(cl_nb, count_X_test.toarray(), count_y_test)\n",
        "plt.show()"
      ],
      "execution_count": 28,
      "outputs": [
        {
          "output_type": "display_data",
          "data": {
            "image/png": "[encoded data removed]",
            "text/plain": [
              "<Figure size 432x288 with 2 Axes>"
            ]
          },
          "metadata": {
            "needs_background": "light"
          }
        }
      ]
    },
    {
      "cell_type": "code",
      "metadata": {
        "colab": {
          "base_uri": "https://localhost:8080/"
        },
        "id": "ggHZvIcR1EDk",
        "outputId": "53245da7-5ff3-4926-d201-b82706de8d71"
      },
      "source": [
        "accuracy_nb_count = accuracy_score(count_y_test, count_y_pred_nb)\n",
        "precision_nb_count = precision_score(count_y_test, count_y_pred_nb)\n",
        "recall_nb_count = recall_score(count_y_test, count_y_pred_nb)\n",
        "f1_nb_count = f1_score(count_y_test, count_y_pred_nb)\n",
        "\n",
        "print(\"Naive Bayes e CountVectorizer\\nAcurácia: {}\\nPrecisão: {}\\nRecall: {}\\nF1 Score: {}\\n\".format(accuracy_nb_count, precision_nb_count, recall_nb_count, f1_nb_count))"
      ],
      "execution_count": 29,
      "outputs": [
        {
          "output_type": "stream",
          "name": "stdout",
          "text": [
            "Naive Bayes e CountVectorizer\n",
            "Acurácia: 0.8008565310492506\n",
            "Precisão: 0.8068391866913124\n",
            "Recall: 0.9257688229056203\n",
            "F1 Score: 0.8622222222222221\n",
            "\n"
          ]
        }
      ]
    },
    {
      "cell_type": "markdown",
      "metadata": {
        "id": "sKteYFZSfhxH"
      },
      "source": [
        "### 2.e) Faça o mesmo para um outro classificador de sua preferência (pesquise na biblioteca Scikit-learn)."
      ]
    },
    {
      "cell_type": "code",
      "metadata": {
        "id": "d8_6K6Hj2NOR"
      },
      "source": [
        "# SVM com tfidf\n",
        "\n",
        "cl_svm = LinearSVC().fit(tfidf_X_train.toarray(), tfidf_y_train)\n",
        "tfidf_y_pred_svm = cl_svm.predict(tfidf_X_test.toarray())"
      ],
      "execution_count": 30,
      "outputs": []
    },
    {
      "cell_type": "code",
      "metadata": {
        "colab": {
          "base_uri": "https://localhost:8080/",
          "height": 279
        },
        "id": "Jo5uUef43aHa",
        "outputId": "fc73017c-f998-4a2a-f7e1-73a9e7778810"
      },
      "source": [
        "plot_confusion_matrix(cl_svm, tfidf_X_test.toarray(), tfidf_y_test)\n",
        "plt.show()"
      ],
      "execution_count": 31,
      "outputs": [
        {
          "output_type": "display_data",
          "data": {
            "image/png": "[encoded data removed]",
            "text/plain": [
              "<Figure size 432x288 with 2 Axes>"
            ]
          },
          "metadata": {
            "needs_background": "light"
          }
        }
      ]
    },
    {
      "cell_type": "code",
      "metadata": {
        "colab": {
          "base_uri": "https://localhost:8080/"
        },
        "id": "jvOIZPKS3h6g",
        "outputId": "ead1cdc9-8d97-4365-e6ed-8641ff834ef7"
      },
      "source": [
        "accuracy_svm_tfidf = accuracy_score(tfidf_y_test, tfidf_y_pred_svm)\n",
        "precision_svm_tfidf = precision_score(tfidf_y_test, tfidf_y_pred_svm)\n",
        "recall_svm_tfidf = recall_score(tfidf_y_test, tfidf_y_pred_svm)\n",
        "f1_svm_tfidf = f1_score(tfidf_y_test, tfidf_y_pred_svm)\n",
        "\n",
        "print(\"SVM e TF-IDF\\nAcurácia: {}\\nPrecisão: {}\\nRecall: {}\\nF1 Score: {}\\n\".format(accuracy_svm_tfidf, precision_svm_tfidf, recall_svm_tfidf, f1_svm_tfidf))"
      ],
      "execution_count": 32,
      "outputs": [
        {
          "output_type": "stream",
          "name": "stdout",
          "text": [
            "SVM e TF-IDF\n",
            "Acurácia: 0.7858672376873662\n",
            "Precisão: 0.7975167144221585\n",
            "Recall: 0.90465872156013\n",
            "F1 Score: 0.8477157360406091\n",
            "\n"
          ]
        }
      ]
    },
    {
      "cell_type": "code",
      "metadata": {
        "id": "P_uV6RyH31Yl"
      },
      "source": [
        "# SVM com countvectorizer\n",
        "\n",
        "cl_svm = LinearSVC().fit(count_X_train.toarray(), count_y_train)\n",
        "count_y_pred_svm = cl_svm.predict(count_X_test.toarray())"
      ],
      "execution_count": 33,
      "outputs": []
    },
    {
      "cell_type": "code",
      "metadata": {
        "colab": {
          "base_uri": "https://localhost:8080/",
          "height": 282
        },
        "id": "2aqnYzkM39DM",
        "outputId": "2dca8b56-6b50-4298-9684-7a1a7b75bedf"
      },
      "source": [
        "plot_confusion_matrix(cl_svm, count_X_test.toarray(), count_y_test)\n",
        "plt.show()"
      ],
      "execution_count": 34,
      "outputs": [
        {
          "output_type": "display_data",
          "data": {
            "image/png": "[encoded data removed]",
            "text/plain": [
              "<Figure size 432x288 with 2 Axes>"
            ]
          },
          "metadata": {
            "needs_background": "light"
          }
        }
      ]
    },
    {
      "cell_type": "code",
      "metadata": {
        "colab": {
          "base_uri": "https://localhost:8080/"
        },
        "id": "SaD7NX3j4B-6",
        "outputId": "274d35ad-cb1b-4b7a-d032-9df154019cfe"
      },
      "source": [
        "accuracy_svm_count = accuracy_score(count_y_test, count_y_pred_svm)\n",
        "precision_svm_count = precision_score(count_y_test, count_y_pred_svm)\n",
        "recall_svm_count = recall_score(count_y_test, count_y_pred_svm)\n",
        "f1_svm_count = f1_score(count_y_test, count_y_pred_svm)\n",
        "\n",
        "print(\"SVM e CountVectorizer\\nAcurácia: {}\\nPrecisão: {}\\nRecall: {}\\nF1 Score: {}\\n\".format(accuracy_svm_count, precision_svm_count, recall_svm_count, f1_svm_count))"
      ],
      "execution_count": 35,
      "outputs": [
        {
          "output_type": "stream",
          "name": "stdout",
          "text": [
            "SVM e CountVectorizer\n",
            "Acurácia: 0.7787294789436117\n",
            "Precisão: 0.8252826310380267\n",
            "Recall: 0.8515376458112407\n",
            "F1 Score: 0.8382045929018789\n",
            "\n"
          ]
        }
      ]
    },
    {
      "cell_type": "markdown",
      "metadata": {
        "id": "9LK1LPoafaNm"
      },
      "source": [
        "### 2.f) Compare os 6 resultados"
      ]
    },
    {
      "cell_type": "code",
      "metadata": {
        "id": "Njq2pthUOnJN",
        "colab": {
          "base_uri": "https://localhost:8080/"
        },
        "outputId": "68781408-600b-4256-a253-71eedf8e34c4"
      },
      "source": [
        "accuracy_results = [accuracy_lr_count, accuracy_lr_tfidf, accuracy_nb_count, accuracy_nb_tfidf, accuracy_svm_count, accuracy_svm_tfidf]\n",
        "precision_results = [precision_lr_count, precision_lr_tfidf, precision_nb_count, precision_nb_tfidf, precision_svm_count, precision_svm_tfidf]\n",
        "recall_results = [recall_lr_count, recall_lr_tfidf, recall_nb_count, recall_nb_tfidf, recall_svm_count, recall_svm_tfidf]\n",
        "f1_results = [f1_lr_count, f1_lr_tfidf, f1_nb_count, f1_nb_tfidf, f1_svm_count, f1_svm_tfidf]\n",
        "\n",
        "data_results = {\n",
        "    'accuracy': accuracy_results,\n",
        "    'precision': precision_results,\n",
        "    'recall': recall_results,\n",
        "    'f1': f1_results\n",
        "}\n",
        "\n",
        "index_values = ['Regression with Count','Regression with TF-DF','Naive Bayes with Count','Naive Bayes with TF-DF','SVM with Count', 'SVM with TF-DF']\n",
        "\n",
        "df_results = pd.DataFrame(data_results, index=index_values)\n",
        "\n",
        "print (df_results)\n"
      ],
      "execution_count": 36,
      "outputs": [
        {
          "output_type": "stream",
          "name": "stdout",
          "text": [
            "                        accuracy  precision    recall        f1\n",
            "Regression with Count   0.788009   0.818540  0.880170  0.848237\n",
            "Regression with TF-DF   0.746610   0.731270  0.972914  0.834960\n",
            "Naive Bayes with Count  0.800857   0.806839  0.925769  0.862222\n",
            "Naive Bayes with TF-DF  0.665953   0.665214  0.992416  0.796522\n",
            "SVM with Count          0.778729   0.825283  0.851538  0.838205\n",
            "SVM with TF-DF          0.785867   0.797517  0.904659  0.847716\n"
          ]
        }
      ]
    },
    {
      "cell_type": "code",
      "metadata": {
        "colab": {
          "base_uri": "https://localhost:8080/",
          "height": 374
        },
        "id": "QLH_AtmPiICF",
        "outputId": "82f5b69d-5b84-4563-ec2e-b9ab910bbe79"
      },
      "source": [
        "df_results.plot()\n",
        "plt.xticks(rotation=90)\n",
        "plt.show()"
      ],
      "execution_count": 37,
      "outputs": [
        {
          "output_type": "display_data",
          "data": {
            "image/png": "[encoded data removed]",
            "text/plain": [
              "<Figure size 432x288 with 1 Axes>"
            ]
          },
          "metadata": {
            "needs_background": "light"
          }
        }
      ]
    },
    {
      "cell_type": "code",
      "metadata": {
        "colab": {
          "base_uri": "https://localhost:8080/"
        },
        "id": "3pYWXo8djRTA",
        "outputId": "94d87da8-24f0-4bd3-e428-297bc346b874"
      },
      "source": [
        "lr_count_results = [accuracy_lr_count, precision_lr_count, recall_lr_count, f1_lr_count]\n",
        "lr_tfidf_results = [accuracy_lr_tfidf, precision_lr_tfidf, recall_lr_tfidf, f1_lr_tfidf]\n",
        "nb_count_results = [accuracy_nb_count,precision_nb_count, recall_nb_count,f1_nb_count]\n",
        "nb_tfidf_results = [accuracy_nb_tfidf, precision_nb_tfidf,recall_nb_tfidf, f1_nb_tfidf]\n",
        "svm_count_results = [accuracy_svm_count,precision_svm_count, recall_svm_count,f1_svm_count]\n",
        "svm_tfidf_results = [accuracy_svm_tfidf,precision_svm_tfidf, recall_svm_tfidf,f1_svm_tfidf]\n",
        "\n",
        "data_results2 = {\n",
        "    'Regression with Count': lr_count_results,\n",
        "    'Regression with TF-DF': lr_tfidf_results,\n",
        "    'Naive Bayes with Count': nb_count_results,\n",
        "    'Naive Bayes with TF-DF': nb_tfidf_results,\n",
        "    'SVM with Count': svm_count_results,\n",
        "    'SVM with TF-DF': svm_tfidf_results,\n",
        "}\n",
        "\n",
        "index_values2 = ['accuracy', 'precision', 'recall', 'f1']\n",
        "pd.set_option('display.max_columns', None)\n",
        "\n",
        "df_results2 = pd.DataFrame(data_results2, index=index_values2)\n",
        "\n",
        "print (df_results2)"
      ],
      "execution_count": 38,
      "outputs": [
        {
          "output_type": "stream",
          "name": "stdout",
          "text": [
            "           Regression with Count  Regression with TF-DF  \\\n",
            "accuracy                0.788009               0.746610   \n",
            "precision               0.818540               0.731270   \n",
            "recall                  0.880170               0.972914   \n",
            "f1                      0.848237               0.834960   \n",
            "\n",
            "           Naive Bayes with Count  Naive Bayes with TF-DF  SVM with Count  \\\n",
            "accuracy                 0.800857                0.665953        0.778729   \n",
            "precision                0.806839                0.665214        0.825283   \n",
            "recall                   0.925769                0.992416        0.851538   \n",
            "f1                       0.862222                0.796522        0.838205   \n",
            "\n",
            "           SVM with TF-DF  \n",
            "accuracy         0.785867  \n",
            "precision        0.797517  \n",
            "recall           0.904659  \n",
            "f1               0.847716  \n"
          ]
        }
      ]
    },
    {
      "cell_type": "code",
      "metadata": {
        "colab": {
          "base_uri": "https://localhost:8080/",
          "height": 265
        },
        "id": "fzYB8tnOlH7y",
        "outputId": "bd7adb4b-6bd9-4663-90be-21f7b9609573"
      },
      "source": [
        "df_results2.plot()\n",
        "plt.show()"
      ],
      "execution_count": 39,
      "outputs": [
        {
          "output_type": "display_data",
          "data": {
            "image/png": "[encoded data removed]",
            "text/plain": [
              "<Figure size 432x288 with 1 Axes>"
            ]
          },
          "metadata": {
            "needs_background": "light"
          }
        }
      ]
    },
    {
      "cell_type": "markdown",
      "metadata": {
        "id": "kNgGw7lVdLR_"
      },
      "source": [
        "Podemos analisar que obtivemos a **maior acurácia** quando utilizamos o **Naive Bayes com CountVectorizer**, **precisão mais alta** utilizando **Regressão Logística com CountVectorizer**, **maior recall** utilizando **Naive Bayes com TF-DF** e **maior F1** utilizando **Naive Bayes com CountVectorizer**."
      ]
    },
    {
      "cell_type": "markdown",
      "metadata": {
        "id": "5Vl4cQSbSl88"
      },
      "source": [
        "**Referências**\n",
        "\n",
        "[Basics of CountVectorizer](https://towardsdatascience.com/basics-of-countvectorizer-e26677900f9c)\n",
        "\n",
        "[TF-IDF Vectorizer scikit-learn](https://medium.com/@cmukesh8688/tf-idf-vectorizer-scikit-learn-dbc0244a911a)\n",
        "\n",
        "[Cosine Similarity – Understanding the math and how it works (with python codes)](https://www.machinelearningplus.com/nlp/cosine-similarity/)\n",
        "\n",
        "[Split Your Dataset With scikit-learn's train_test_split()](https://realpython.com/train-test-split-python-data/)"
      ]
    }
  ]
}