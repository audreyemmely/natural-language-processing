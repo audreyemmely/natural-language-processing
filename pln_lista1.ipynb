{
  "nbformat": 4,
  "nbformat_minor": 0,
  "metadata": {
    "colab": {
      "name": "pln_lista1.ipynb",
      "provenance": [],
      "collapsed_sections": [],
      "toc_visible": true,
      "authorship_tag": "ABX9TyNVmyVfHOVDaZGbgEBjngA4",
      "include_colab_link": true
    },
    "kernelspec": {
      "name": "python3",
      "display_name": "Python 3"
    },
    "language_info": {
      "name": "python"
    }
  },
  "cells": [
    {
      "cell_type": "markdown",
      "metadata": {
        "id": "view-in-github",
        "colab_type": "text"
      },
      "source": [
        "<a href=\"https://colab.research.google.com/github/audreyemmely/pln/blob/main/pln_lista1.ipynb\" target=\"_parent\"><img src=\"https://colab.research.google.com/assets/colab-badge.svg\" alt=\"Open In Colab\"/></a>"
      ]
    },
    {
      "cell_type": "markdown",
      "metadata": {
        "id": "LdH0ObvpYJhx"
      },
      "source": [
        "# **Resolução Lista 1**\n",
        "\n",
        "---\n",
        "\n",
        "Audrey Emmely Rodrigues Vasconcelos\n",
        "\n",
        "Karen Nayara Gomes da Silva"
      ]
    },
    {
      "cell_type": "code",
      "metadata": {
        "id": "1e_zv5ftkLuO"
      },
      "source": [
        "import re \n",
        "import unittest"
      ],
      "execution_count": 1,
      "outputs": []
    },
    {
      "cell_type": "markdown",
      "metadata": {
        "id": "9XOpcqdIVual"
      },
      "source": [
        "###### Questão 1 \n",
        "Implemente uma função usando expressões regulares que teste se um string contém uma sequência de letras minúsculas seguidas por um underscore. Mostre exemplos."
      ]
    },
    {
      "cell_type": "code",
      "metadata": {
        "id": "utXtYk9ZT9ht"
      },
      "source": [
        "def search_pattern(pattern, string):\n",
        "  result = re.compile(pattern).search(string)\n",
        "  if not result:\n",
        "    return False\n",
        "  else:\n",
        "    return True"
      ],
      "execution_count": 2,
      "outputs": []
    },
    {
      "cell_type": "code",
      "metadata": {
        "id": "3cbm7U7PUuUu"
      },
      "source": [
        "underscore_expression = '[a-z]+_.*'"
      ],
      "execution_count": 3,
      "outputs": []
    },
    {
      "cell_type": "code",
      "metadata": {
        "id": "hgD-_F8qVGgY"
      },
      "source": [
        "class TestUnderscore(unittest.TestCase):\n",
        "  def test_example1(self):\n",
        "    self.assertTrue(search_pattern(underscore_expression, 'tem_underscore'))\n",
        "  def test_example2(self):\n",
        "    self.assertTrue(search_pattern(underscore_expression, 'naotemunderscore'))\n",
        "  def test_example3(self):\n",
        "    self.assertTrue(search_pattern(underscore_expression, '12345'))\n",
        "  def test_example4(self):\n",
        "    self.assertTrue(search_pattern(underscore_expression, 'maisum_'))\n",
        "  def test_example5(self):\n",
        "    self.assertTrue(search_pattern(underscore_expression, 'vaidarERRADO_'))\n",
        "  def test_example6(self):\n",
        "    self.assertTrue(search_pattern(underscore_expression, '.;,._'))\n",
        "  def test_example7(self):\n",
        "    self.assertTrue(search_pattern(underscore_expression, '_testando'))\n",
        "  def test_example8(self):\n",
        "    self.assertTrue(search_pattern(underscore_expression, 'ela_me_falou_que_quer_rave'))"
      ],
      "execution_count": 4,
      "outputs": []
    },
    {
      "cell_type": "markdown",
      "metadata": {
        "id": "4My81W21Whv8"
      },
      "source": [
        "###### Questão 2\n",
        "Implemente uma função usando expressões regulares que testa se um string representa um CPF no formato correto. Mostre exemplos. "
      ]
    },
    {
      "cell_type": "code",
      "metadata": {
        "id": "tVoBcvOyX2ih"
      },
      "source": [
        ""
      ],
      "execution_count": 4,
      "outputs": []
    },
    {
      "cell_type": "markdown",
      "metadata": {
        "id": "XmZf6JCkWhtD"
      },
      "source": [
        "###### Questão 3\n",
        "Implemente uma função usando expressões regulares que seja capaz, com uma  ́unica expressão regular, de extrair rua, número, apartamento (opcionalmente), bairro (opcionalmente), CEP, cidade e estado. Esta função deve ser capaz de funcionar em todos os exemplos abaixo:\n",
        "\n",
        "• Rua José da Silva, 346, Farol, CEP 57002-220. Maceió, AL.\n",
        "\n",
        "• Rua da Consolação, 9999, apt 302, Consolação, CEP 11022-202. São\n",
        "Paulo, SP.\n",
        "\n",
        "• Avenida Atlântica, 420, ap 1001, Copacabana, cep 22011-010. Rio de\n",
        "Janeiro, RJ. "
      ]
    },
    {
      "cell_type": "code",
      "metadata": {
        "id": "n7n6G1ArX2Pj"
      },
      "source": [
        ""
      ],
      "execution_count": 4,
      "outputs": []
    },
    {
      "cell_type": "markdown",
      "metadata": {
        "id": "ttcPX2f7Whqq"
      },
      "source": [
        "###### Questão 4\n",
        "Implemente uma função usando expressões regulares que encontre todas as URLs em um string. Mostre exemplos."
      ]
    },
    {
      "cell_type": "code",
      "metadata": {
        "id": "9ug1lFiJX1G7"
      },
      "source": [
        ""
      ],
      "execution_count": 4,
      "outputs": []
    },
    {
      "cell_type": "markdown",
      "metadata": {
        "id": "mKG5gJr7Whja"
      },
      "source": [
        "###### Questão 5\n",
        "Considere o seguinte exemplo de referência de livro em formato de\n",
        "citação APA:\n",
        "\n",
        "*Manning, C. D., Manning, C. D., & Schutze, H. (1999). Foundations of statistical natural language processing. MIT press.*\n",
        "\n",
        "Implemente uma função usando expressões regulares que extraia cada autor, ano de publicação, título e editora do livro, para qualquer referência\n",
        "de livro neste formato."
      ]
    },
    {
      "cell_type": "code",
      "metadata": {
        "id": "qgGL3RqyX1ir"
      },
      "source": [
        ""
      ],
      "execution_count": 4,
      "outputs": []
    },
    {
      "cell_type": "markdown",
      "metadata": {
        "id": "A1OcA_AvWMpk"
      },
      "source": [
        "###### Testando os casos"
      ]
    },
    {
      "cell_type": "code",
      "metadata": {
        "colab": {
          "base_uri": "https://localhost:8080/"
        },
        "id": "5Hr_5YXhU4Tr",
        "outputId": "75a567c6-e4e8-44f1-8269-18d701efeede"
      },
      "source": [
        "unittest.main(argv=[''], verbosity=1, exit=False);"
      ],
      "execution_count": 5,
      "outputs": [
        {
          "output_type": "stream",
          "name": "stderr",
          "text": [
            ".FF.FFF.\n",
            "======================================================================\n",
            "FAIL: test_example2 (__main__.TestUnderscore)\n",
            "----------------------------------------------------------------------\n",
            "Traceback (most recent call last):\n",
            "  File \"<ipython-input-4-7d37852a49a2>\", line 5, in test_example2\n",
            "    self.assertTrue(search_pattern(underscore_expression, 'naotemunderscore'))\n",
            "AssertionError: False is not true\n",
            "\n",
            "======================================================================\n",
            "FAIL: test_example3 (__main__.TestUnderscore)\n",
            "----------------------------------------------------------------------\n",
            "Traceback (most recent call last):\n",
            "  File \"<ipython-input-4-7d37852a49a2>\", line 7, in test_example3\n",
            "    self.assertTrue(search_pattern(underscore_expression, '12345'))\n",
            "AssertionError: False is not true\n",
            "\n",
            "======================================================================\n",
            "FAIL: test_example5 (__main__.TestUnderscore)\n",
            "----------------------------------------------------------------------\n",
            "Traceback (most recent call last):\n",
            "  File \"<ipython-input-4-7d37852a49a2>\", line 11, in test_example5\n",
            "    self.assertTrue(search_pattern(underscore_expression, 'vaidarERRADO_'))\n",
            "AssertionError: False is not true\n",
            "\n",
            "======================================================================\n",
            "FAIL: test_example6 (__main__.TestUnderscore)\n",
            "----------------------------------------------------------------------\n",
            "Traceback (most recent call last):\n",
            "  File \"<ipython-input-4-7d37852a49a2>\", line 13, in test_example6\n",
            "    self.assertTrue(search_pattern(underscore_expression, '.;,._'))\n",
            "AssertionError: False is not true\n",
            "\n",
            "======================================================================\n",
            "FAIL: test_example7 (__main__.TestUnderscore)\n",
            "----------------------------------------------------------------------\n",
            "Traceback (most recent call last):\n",
            "  File \"<ipython-input-4-7d37852a49a2>\", line 15, in test_example7\n",
            "    self.assertTrue(search_pattern(underscore_expression, '_testando'))\n",
            "AssertionError: False is not true\n",
            "\n",
            "----------------------------------------------------------------------\n",
            "Ran 8 tests in 0.023s\n",
            "\n",
            "FAILED (failures=5)\n"
          ]
        }
      ]
    },
    {
      "cell_type": "markdown",
      "metadata": {
        "id": "rWY9D050kxjW"
      },
      "source": [
        "**Referências**\n",
        "\n",
        "[Regular Expression HOWTO](https://docs.python.org/3/howto/regex.html)\n",
        "\n",
        "[Introduction to unittest: a Unit Testing Framework in Python](https://betterprogramming.pub/introduction-to-unittest-a-unit-testing-framework-in-python-fa0d96fc8262)"
      ]
    }
  ]
}