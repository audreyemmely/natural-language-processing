{
  "nbformat": 4,
  "nbformat_minor": 0,
  "metadata": {
    "colab": {
      "name": "pln_lista1.ipynb",
      "provenance": [],
      "collapsed_sections": [],
      "toc_visible": true,
      "include_colab_link": true
    },
    "kernelspec": {
      "name": "python3",
      "display_name": "Python 3"
    },
    "language_info": {
      "name": "python"
    }
  },
  "cells": [
    {
      "cell_type": "markdown",
      "metadata": {
        "id": "view-in-github",
        "colab_type": "text"
      },
      "source": [
        "<a href=\"https://colab.research.google.com/github/audreyemmely/pln/blob/main/pln_lista1.ipynb\" target=\"_parent\"><img src=\"https://colab.research.google.com/assets/colab-badge.svg\" alt=\"Open In Colab\"/></a>"
      ]
    },
    {
      "cell_type": "markdown",
      "metadata": {
        "id": "LdH0ObvpYJhx"
      },
      "source": [
        "# **Resolução Lista 1**\n",
        "\n",
        "---\n",
        "\n",
        "Audrey Emmely Rodrigues Vasconcelos\n",
        "\n",
        "Karen Nayara Gomes da Silva"
      ]
    },
    {
      "cell_type": "code",
      "metadata": {
        "id": "1e_zv5ftkLuO"
      },
      "source": [
        "import re \n",
        "import unittest"
      ],
      "execution_count": 1,
      "outputs": []
    },
    {
      "cell_type": "code",
      "metadata": {
        "id": "utXtYk9ZT9ht"
      },
      "source": [
        "def search_pattern(pattern, string):\n",
        "  result = re.compile(pattern).search(string)\n",
        "  if not result:\n",
        "    return False\n",
        "  else:\n",
        "    return True"
      ],
      "execution_count": 2,
      "outputs": []
    },
    {
      "cell_type": "markdown",
      "metadata": {
        "id": "9XOpcqdIVual"
      },
      "source": [
        "###### Questão 1 \n",
        "Implemente uma função usando expressões regulares que teste se um string contém uma sequência de letras minúsculas seguidas por um underscore. Mostre exemplos."
      ]
    },
    {
      "cell_type": "code",
      "metadata": {
        "id": "3cbm7U7PUuUu"
      },
      "source": [
        "underscore_expression = '[a-z]+_'"
      ],
      "execution_count": 3,
      "outputs": []
    },
    {
      "cell_type": "code",
      "metadata": {
        "id": "hgD-_F8qVGgY"
      },
      "source": [
        "class TestUnderscore(unittest.TestCase):\n",
        "  def test_und1(self):\n",
        "    self.assertTrue(search_pattern(underscore_expression, 'tem_underscore'))\n",
        "  def test_und2(self):\n",
        "    self.assertTrue(search_pattern(underscore_expression, 'naotemunderscore'))\n",
        "  def test_und3(self):\n",
        "    self.assertTrue(search_pattern(underscore_expression, '12345'))\n",
        "  def test_und4(self):\n",
        "    self.assertTrue(search_pattern(underscore_expression, 'maisum_123'))\n",
        "  def test_und5(self):\n",
        "    self.assertTrue(search_pattern(underscore_expression, 'vaidarERRADO_'))\n",
        "  def test_und6(self):\n",
        "    self.assertTrue(search_pattern(underscore_expression, '.;,._'))\n",
        "  def test_und7(self):\n",
        "    self.assertTrue(search_pattern(underscore_expression, '_testando'))\n",
        "  def test_und8(self):\n",
        "    self.assertTrue(search_pattern(underscore_expression, 'ela_me_falou_que_quer_rave'))"
      ],
      "execution_count": 4,
      "outputs": []
    },
    {
      "cell_type": "markdown",
      "metadata": {
        "id": "4My81W21Whv8"
      },
      "source": [
        "###### Questão 2\n",
        "Implemente uma função usando expressões regulares que testa se um string representa um CPF no formato correto. Mostre exemplos. "
      ]
    },
    {
      "cell_type": "code",
      "metadata": {
        "id": "tVoBcvOyX2ih"
      },
      "source": [
        "cpf_expression = '\\d{3}\\.\\d{3}\\.\\d{3}\\-\\d{2}'"
      ],
      "execution_count": 5,
      "outputs": []
    },
    {
      "cell_type": "code",
      "metadata": {
        "id": "LnoyQEbPfvQn"
      },
      "source": [
        "class TestCpf(unittest.TestCase):\n",
        "  def test_cpf1(self):\n",
        "    self.assertTrue(search_pattern(cpf_expression, '123.456.789-10'))\n",
        "  def test_cpf2(self):\n",
        "    self.assertTrue(search_pattern(cpf_expression, ''))\n",
        "  def test_cpf3(self):\n",
        "    self.assertTrue(search_pattern(cpf_expression, '12345678910'))\n",
        "  def test_cpf4(self):\n",
        "    self.assertTrue(search_pattern(cpf_expression, 'aud.rey.tes-te'))\n",
        "  def test_cpf5(self):\n",
        "    self.assertTrue(search_pattern(cpf_expression, '123,456,789-10'))\n",
        "  def test_cpf6(self):\n",
        "    self.assertTrue(search_pattern(cpf_expression, '987.654.321_01'))"
      ],
      "execution_count": 6,
      "outputs": []
    },
    {
      "cell_type": "markdown",
      "metadata": {
        "id": "XmZf6JCkWhtD"
      },
      "source": [
        "###### Questão 3\n",
        "Implemente uma função usando expressões regulares que seja capaz, com uma  única expressão regular, de extrair rua, número, apartamento (opcionalmente), bairro (opcionalmente), CEP, cidade e estado. Esta função deve ser capaz de funcionar em todos os exemplos abaixo:\n",
        "\n",
        "• Rua José da Silva, 346, Farol, CEP 57002-220. Maceió, AL.\n",
        "\n",
        "• Rua da Consolação, 9999, apt 302, Consolação, CEP 11022-202. São\n",
        "Paulo, SP.\n",
        "\n",
        "• Avenida Atlântica, 420, ap 1001, Copacabana, cep 22011-010. Rio de\n",
        "Janeiro, RJ. "
      ]
    },
    {
      "cell_type": "code",
      "metadata": {
        "id": "n7n6G1ArX2Pj"
      },
      "source": [
        ""
      ],
      "execution_count": 6,
      "outputs": []
    },
    {
      "cell_type": "markdown",
      "metadata": {
        "id": "ttcPX2f7Whqq"
      },
      "source": [
        "###### Questão 4\n",
        "Implemente uma função usando expressões regulares que encontre todas as URLs em um string. Mostre exemplos."
      ]
    },
    {
      "cell_type": "code",
      "metadata": {
        "id": "9ug1lFiJX1G7"
      },
      "source": [
        ""
      ],
      "execution_count": 6,
      "outputs": []
    },
    {
      "cell_type": "markdown",
      "metadata": {
        "id": "mKG5gJr7Whja"
      },
      "source": [
        "###### Questão 5\n",
        "Considere o seguinte exemplo de referência de livro em formato de\n",
        "citação APA:\n",
        "\n",
        "*Manning, C. D., Manning, C. D., & Schutze, H. (1999). Foundations of statistical natural language processing. MIT press.*\n",
        "\n",
        "Implemente uma função usando expressões regulares que extraia cada autor, ano de publicação, título e editora do livro, para qualquer referência\n",
        "de livro neste formato."
      ]
    },
    {
      "cell_type": "code",
      "metadata": {
        "id": "qgGL3RqyX1ir"
      },
      "source": [
        ""
      ],
      "execution_count": 6,
      "outputs": []
    },
    {
      "cell_type": "markdown",
      "metadata": {
        "id": "A1OcA_AvWMpk"
      },
      "source": [
        "###### Testando os casos"
      ]
    },
    {
      "cell_type": "code",
      "metadata": {
        "colab": {
          "base_uri": "https://localhost:8080/"
        },
        "id": "5Hr_5YXhU4Tr",
        "outputId": "179ad716-9dc2-46af-c1d1-10e9a8911250"
      },
      "source": [
        "unittest.main(argv=[''], verbosity=1, exit=False);"
      ],
      "execution_count": 7,
      "outputs": [
        {
          "output_type": "stream",
          "name": "stderr",
          "text": [
            ".FFFFF.FF.FFF.\n",
            "======================================================================\n",
            "FAIL: test_cpf2 (__main__.TestCpf)\n",
            "----------------------------------------------------------------------\n",
            "Traceback (most recent call last):\n",
            "  File \"<ipython-input-6-70cafc0c55b7>\", line 5, in test_cpf2\n",
            "    self.assertTrue(search_pattern(cpf_expression, ''))\n",
            "AssertionError: False is not true\n",
            "\n",
            "======================================================================\n",
            "FAIL: test_cpf3 (__main__.TestCpf)\n",
            "----------------------------------------------------------------------\n",
            "Traceback (most recent call last):\n",
            "  File \"<ipython-input-6-70cafc0c55b7>\", line 7, in test_cpf3\n",
            "    self.assertTrue(search_pattern(cpf_expression, '12345678910'))\n",
            "AssertionError: False is not true\n",
            "\n",
            "======================================================================\n",
            "FAIL: test_cpf4 (__main__.TestCpf)\n",
            "----------------------------------------------------------------------\n",
            "Traceback (most recent call last):\n",
            "  File \"<ipython-input-6-70cafc0c55b7>\", line 9, in test_cpf4\n",
            "    self.assertTrue(search_pattern(cpf_expression, 'aud.rey.tes-te'))\n",
            "AssertionError: False is not true\n",
            "\n",
            "======================================================================\n",
            "FAIL: test_cpf5 (__main__.TestCpf)\n",
            "----------------------------------------------------------------------\n",
            "Traceback (most recent call last):\n",
            "  File \"<ipython-input-6-70cafc0c55b7>\", line 11, in test_cpf5\n",
            "    self.assertTrue(search_pattern(cpf_expression, '123,456,789-10'))\n",
            "AssertionError: False is not true\n",
            "\n",
            "======================================================================\n",
            "FAIL: test_cpf6 (__main__.TestCpf)\n",
            "----------------------------------------------------------------------\n",
            "Traceback (most recent call last):\n",
            "  File \"<ipython-input-6-70cafc0c55b7>\", line 13, in test_cpf6\n",
            "    self.assertTrue(search_pattern(cpf_expression, '987.654.321_01'))\n",
            "AssertionError: False is not true\n",
            "\n",
            "======================================================================\n",
            "FAIL: test_und2 (__main__.TestUnderscore)\n",
            "----------------------------------------------------------------------\n",
            "Traceback (most recent call last):\n",
            "  File \"<ipython-input-4-0f02f8dc0369>\", line 5, in test_und2\n",
            "    self.assertTrue(search_pattern(underscore_expression, 'naotemunderscore'))\n",
            "AssertionError: False is not true\n",
            "\n",
            "======================================================================\n",
            "FAIL: test_und3 (__main__.TestUnderscore)\n",
            "----------------------------------------------------------------------\n",
            "Traceback (most recent call last):\n",
            "  File \"<ipython-input-4-0f02f8dc0369>\", line 7, in test_und3\n",
            "    self.assertTrue(search_pattern(underscore_expression, '12345'))\n",
            "AssertionError: False is not true\n",
            "\n",
            "======================================================================\n",
            "FAIL: test_und5 (__main__.TestUnderscore)\n",
            "----------------------------------------------------------------------\n",
            "Traceback (most recent call last):\n",
            "  File \"<ipython-input-4-0f02f8dc0369>\", line 11, in test_und5\n",
            "    self.assertTrue(search_pattern(underscore_expression, 'vaidarERRADO_'))\n",
            "AssertionError: False is not true\n",
            "\n",
            "======================================================================\n",
            "FAIL: test_und6 (__main__.TestUnderscore)\n",
            "----------------------------------------------------------------------\n",
            "Traceback (most recent call last):\n",
            "  File \"<ipython-input-4-0f02f8dc0369>\", line 13, in test_und6\n",
            "    self.assertTrue(search_pattern(underscore_expression, '.;,._'))\n",
            "AssertionError: False is not true\n",
            "\n",
            "======================================================================\n",
            "FAIL: test_und7 (__main__.TestUnderscore)\n",
            "----------------------------------------------------------------------\n",
            "Traceback (most recent call last):\n",
            "  File \"<ipython-input-4-0f02f8dc0369>\", line 15, in test_und7\n",
            "    self.assertTrue(search_pattern(underscore_expression, '_testando'))\n",
            "AssertionError: False is not true\n",
            "\n",
            "----------------------------------------------------------------------\n",
            "Ran 14 tests in 0.033s\n",
            "\n",
            "FAILED (failures=10)\n"
          ]
        }
      ]
    },
    {
      "cell_type": "markdown",
      "metadata": {
        "id": "rWY9D050kxjW"
      },
      "source": [
        "**Referências**\n",
        "\n",
        "[Regular Expression HOWTO](https://docs.python.org/3/howto/regex.html)\n",
        "\n",
        "[Introduction to unittest: a Unit Testing Framework in Python](https://betterprogramming.pub/introduction-to-unittest-a-unit-testing-framework-in-python-fa0d96fc8262)"
      ]
    }
  ]
}