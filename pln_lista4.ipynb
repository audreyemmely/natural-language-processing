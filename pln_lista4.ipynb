{
  "nbformat": 4,
  "nbformat_minor": 0,
  "metadata": {
    "colab": {
      "name": "pln_lista4.ipynb",
      "provenance": [],
      "collapsed_sections": [],
      "include_colab_link": true
    },
    "kernelspec": {
      "display_name": "Python 3",
      "name": "python3"
    },
    "language_info": {
      "name": "python"
    }
  },
  "cells": [
    {
      "cell_type": "markdown",
      "metadata": {
        "id": "view-in-github",
        "colab_type": "text"
      },
      "source": [
        "<a href=\"https://colab.research.google.com/github/audreyemmely/pln/blob/main/pln_lista4.ipynb\" target=\"_parent\"><img src=\"https://colab.research.google.com/assets/colab-badge.svg\" alt=\"Open In Colab\"/></a>"
      ]
    },
    {
      "cell_type": "markdown",
      "metadata": {
        "id": "UsfPoqEzXtXr"
      },
      "source": [
        "# **Resolução Lista 4**\n",
        "\n",
        "---\n",
        "\n",
        "Audrey Emmely Rodrigues Vasconcelos\n",
        "\n",
        "Karen Nayara Gomes da Silva"
      ]
    },
    {
      "cell_type": "code",
      "metadata": {
        "id": "xfcuzC_Sff5N"
      },
      "source": [
        "# from google.colab import files\n",
        "# uploaded = files.upload()\n",
        "# upando train_data e test_data_solution"
      ],
      "execution_count": 1,
      "outputs": []
    },
    {
      "cell_type": "code",
      "source": [
        "import pandas as pd\n",
        "import numpy as np\n",
        "import nltk\n",
        "import re\n",
        "from sklearn.feature_extraction.text import TfidfVectorizer, CountVectorizer\n",
        "from sklearn.decomposition import LatentDirichletAllocation, TruncatedSVD, NMF\n",
        "import warnings\n",
        "warnings.filterwarnings('ignore')"
      ],
      "metadata": {
        "id": "R-VlUvUmxlqV"
      },
      "execution_count": 2,
      "outputs": []
    },
    {
      "cell_type": "code",
      "source": [
        "nltk.download('stopwords')\n",
        "nltk.download('punkt')"
      ],
      "metadata": {
        "colab": {
          "base_uri": "https://localhost:8080/"
        },
        "id": "BWt8WKVtxfIm",
        "outputId": "a40316a1-4a54-4879-9167-1af87df07465"
      },
      "execution_count": 3,
      "outputs": [
        {
          "output_type": "stream",
          "name": "stdout",
          "text": [
            "[nltk_data] Downloading package stopwords to /root/nltk_data...\n",
            "[nltk_data]   Package stopwords is already up-to-date!\n",
            "[nltk_data] Downloading package punkt to /root/nltk_data...\n",
            "[nltk_data]   Package punkt is already up-to-date!\n"
          ]
        },
        {
          "output_type": "execute_result",
          "data": {
            "text/plain": [
              "True"
            ]
          },
          "metadata": {},
          "execution_count": 3
        }
      ]
    },
    {
      "cell_type": "code",
      "source": [
        "df = pd.read_csv('train_data.txt', sep =':::', header = None, engine = 'python', nrows = 10000)\n",
        "df.columns = ['id', 'title', 'genre', 'description']\n",
        "df2 = pd.read_csv('test_data_solution.txt', sep =':::', header = None, engine = 'python', nrows = 10000)\n",
        "df2.columns = ['id', 'title', 'genre', 'description']"
      ],
      "metadata": {
        "id": "qbn7Weq5xpYP"
      },
      "execution_count": 4,
      "outputs": []
    },
    {
      "cell_type": "code",
      "source": [
        "dataset = pd.concat([df, df2], ignore_index=True)\n",
        "dataset.drop(['id','genre'], axis=1, inplace=True)"
      ],
      "metadata": {
        "id": "8xVH3GEZxzUV"
      },
      "execution_count": 5,
      "outputs": []
    },
    {
      "cell_type": "code",
      "source": [
        "def preprocess(description):\n",
        "  description = re.sub(r'\\w*\\d\\w*', '', description) #remove todas as palavras que contêm números\n",
        "  description = re.sub(r'[^a-zA-Z ]', '', description.lower())\n",
        "  return re.sub(r'\\s+', ' ', description) #retira espaços repetidos"
      ],
      "metadata": {
        "id": "lLVckic3yE0w"
      },
      "execution_count": 6,
      "outputs": []
    },
    {
      "cell_type": "code",
      "source": [
        "dataset['processed_description'] = dataset.description.apply(preprocess)"
      ],
      "metadata": {
        "id": "TL_-rwc5yErP"
      },
      "execution_count": 7,
      "outputs": []
    },
    {
      "cell_type": "code",
      "source": [
        "stop_words = set(nltk.corpus.stopwords.words('english'))\n",
        "def remove_stopwords(description):\n",
        "    tokenized_text = nltk.word_tokenize(description, language='english')\n",
        "    return \" \".join([token for token in tokenized_text if token not in stop_words])"
      ],
      "metadata": {
        "id": "PLVgqXZ8yi1U"
      },
      "execution_count": 8,
      "outputs": []
    },
    {
      "cell_type": "code",
      "source": [
        "dataset['processed_description'] = dataset.processed_description.apply(remove_stopwords)"
      ],
      "metadata": {
        "id": "ESBXwWe5yugT"
      },
      "execution_count": 9,
      "outputs": []
    },
    {
      "cell_type": "code",
      "source": [
        "dataset"
      ],
      "metadata": {
        "colab": {
          "base_uri": "https://localhost:8080/",
          "height": 424
        },
        "id": "g0L8XTHaydPW",
        "outputId": "330f6ad8-d5cb-46c4-c56f-be63892c6d9c"
      },
      "execution_count": 10,
      "outputs": [
        {
          "output_type": "execute_result",
          "data": {
            "text/html": [
              "<div>\n",
              "<style scoped>\n",
              "    .dataframe tbody tr th:only-of-type {\n",
              "        vertical-align: middle;\n",
              "    }\n",
              "\n",
              "    .dataframe tbody tr th {\n",
              "        vertical-align: top;\n",
              "    }\n",
              "\n",
              "    .dataframe thead th {\n",
              "        text-align: right;\n",
              "    }\n",
              "</style>\n",
              "<table border=\"1\" class=\"dataframe\">\n",
              "  <thead>\n",
              "    <tr style=\"text-align: right;\">\n",
              "      <th></th>\n",
              "      <th>title</th>\n",
              "      <th>description</th>\n",
              "      <th>processed_description</th>\n",
              "    </tr>\n",
              "  </thead>\n",
              "  <tbody>\n",
              "    <tr>\n",
              "      <th>0</th>\n",
              "      <td>Oscar et la dame rose (2009)</td>\n",
              "      <td>Listening in to a conversation between his do...</td>\n",
              "      <td>listening conversation doctor parents yearold ...</td>\n",
              "    </tr>\n",
              "    <tr>\n",
              "      <th>1</th>\n",
              "      <td>Cupid (1997)</td>\n",
              "      <td>A brother and sister with a past incestuous r...</td>\n",
              "      <td>brother sister past incestuous relationship cu...</td>\n",
              "    </tr>\n",
              "    <tr>\n",
              "      <th>2</th>\n",
              "      <td>Young, Wild and Wonderful (1980)</td>\n",
              "      <td>As the bus empties the students for their fie...</td>\n",
              "      <td>bus empties students field trip museum natural...</td>\n",
              "    </tr>\n",
              "    <tr>\n",
              "      <th>3</th>\n",
              "      <td>The Secret Sin (1915)</td>\n",
              "      <td>To help their unemployed father make ends mee...</td>\n",
              "      <td>help unemployed father make ends meet edith tw...</td>\n",
              "    </tr>\n",
              "    <tr>\n",
              "      <th>4</th>\n",
              "      <td>The Unrecovered (2007)</td>\n",
              "      <td>The film's title refers not only to the un-re...</td>\n",
              "      <td>films title refers unrecovered bodies ground z...</td>\n",
              "    </tr>\n",
              "    <tr>\n",
              "      <th>...</th>\n",
              "      <td>...</td>\n",
              "      <td>...</td>\n",
              "      <td>...</td>\n",
              "    </tr>\n",
              "    <tr>\n",
              "      <th>19995</th>\n",
              "      <td>9/11: Millionaire Widows (2008)</td>\n",
              "      <td>In the wake of the events of 9/11, nearly 300...</td>\n",
              "      <td>wake events nearly families slated receive nea...</td>\n",
              "    </tr>\n",
              "    <tr>\n",
              "      <th>19996</th>\n",
              "      <td>Gangsters of the Frontier (1944)</td>\n",
              "      <td>Tex put the Kern gang away once but they have...</td>\n",
              "      <td>tex put kern gang away returned reinforcements...</td>\n",
              "    </tr>\n",
              "    <tr>\n",
              "      <th>19997</th>\n",
              "      <td>Saheb Bahadur (1977)</td>\n",
              "      <td>In a small town, situated in a picturesque In...</td>\n",
              "      <td>small town situated picturesque indian valley ...</td>\n",
              "    </tr>\n",
              "    <tr>\n",
              "      <th>19998</th>\n",
              "      <td>Sitting in Limbo (1997)</td>\n",
              "      <td>Easter Sunday, 1955. A Sunday school classroo...</td>\n",
              "      <td>easter sunday sunday school classroom argument...</td>\n",
              "    </tr>\n",
              "    <tr>\n",
              "      <th>19999</th>\n",
              "      <td>\"FilmSnobbery Live!\" (2009)</td>\n",
              "      <td>FilmSnobbery Live! is a web broadcast live in...</td>\n",
              "      <td>filmsnobbery live web broadcast live interview...</td>\n",
              "    </tr>\n",
              "  </tbody>\n",
              "</table>\n",
              "<p>20000 rows × 3 columns</p>\n",
              "</div>"
            ],
            "text/plain": [
              "                                    title  ...                              processed_description\n",
              "0           Oscar et la dame rose (2009)   ...  listening conversation doctor parents yearold ...\n",
              "1                           Cupid (1997)   ...  brother sister past incestuous relationship cu...\n",
              "2       Young, Wild and Wonderful (1980)   ...  bus empties students field trip museum natural...\n",
              "3                  The Secret Sin (1915)   ...  help unemployed father make ends meet edith tw...\n",
              "4                 The Unrecovered (2007)   ...  films title refers unrecovered bodies ground z...\n",
              "...                                   ...  ...                                                ...\n",
              "19995    9/11: Millionaire Widows (2008)   ...  wake events nearly families slated receive nea...\n",
              "19996   Gangsters of the Frontier (1944)   ...  tex put kern gang away returned reinforcements...\n",
              "19997               Saheb Bahadur (1977)   ...  small town situated picturesque indian valley ...\n",
              "19998            Sitting in Limbo (1997)   ...  easter sunday sunday school classroom argument...\n",
              "19999        \"FilmSnobbery Live!\" (2009)   ...  filmsnobbery live web broadcast live interview...\n",
              "\n",
              "[20000 rows x 3 columns]"
            ]
          },
          "metadata": {},
          "execution_count": 10
        }
      ]
    },
    {
      "cell_type": "markdown",
      "source": [
        "## Questão 1\n",
        "\n",
        "Realize um comparativo entre os métodos LDA, SVD e NMF para realizar\n",
        "modelagem de tópicos. Para cada método:\n",
        "\n",
        "a) empiricamente, tente identificar uma quantidade de tópicos adequada para\n",
        "seu problema. Exiba resultados que justifiquem a quantidade de tópicos\n",
        "escolhida;\n",
        "\n",
        "b) identifique as 5 palavras mais relevantes de cada tópico;\n",
        "\n",
        "c) identifique os 3 tópicos mais relevantes de 5 documentos quaisquer (você\n",
        "pode representar os tópicos por suas 5 palavras mais relevantes).\n",
        "\n",
        "d) qual método apresentou melhores resultados, na sua opinião? Justifique com resultados/dados."
      ],
      "metadata": {
        "id": "TRB7U0A9tmsZ"
      }
    },
    {
      "cell_type": "code",
      "source": [
        "n_topics = 5\n",
        "samples = dataset.sample(n=5)\n",
        "samples.reset_index(inplace=True)\n",
        "samples"
      ],
      "metadata": {
        "colab": {
          "base_uri": "https://localhost:8080/",
          "height": 206
        },
        "id": "xPlqgt8gxera",
        "outputId": "6b97ac35-4e63-4c55-a49c-23a800f1eeaf"
      },
      "execution_count": 11,
      "outputs": [
        {
          "output_type": "execute_result",
          "data": {
            "text/html": [
              "<div>\n",
              "<style scoped>\n",
              "    .dataframe tbody tr th:only-of-type {\n",
              "        vertical-align: middle;\n",
              "    }\n",
              "\n",
              "    .dataframe tbody tr th {\n",
              "        vertical-align: top;\n",
              "    }\n",
              "\n",
              "    .dataframe thead th {\n",
              "        text-align: right;\n",
              "    }\n",
              "</style>\n",
              "<table border=\"1\" class=\"dataframe\">\n",
              "  <thead>\n",
              "    <tr style=\"text-align: right;\">\n",
              "      <th></th>\n",
              "      <th>index</th>\n",
              "      <th>title</th>\n",
              "      <th>description</th>\n",
              "      <th>processed_description</th>\n",
              "    </tr>\n",
              "  </thead>\n",
              "  <tbody>\n",
              "    <tr>\n",
              "      <th>0</th>\n",
              "      <td>4410</td>\n",
              "      <td>In the Face of Evil: Reagan's War in Word and...</td>\n",
              "      <td>Ronald Reagan was the President of the Screen...</td>\n",
              "      <td>ronald reagan president screen actors guild in...</td>\n",
              "    </tr>\n",
              "    <tr>\n",
              "      <th>1</th>\n",
              "      <td>7107</td>\n",
              "      <td>The Game (2017/I)</td>\n",
              "      <td>The Game continues where The Secret left off....</td>\n",
              "      <td>game continues secret left empowering intimate...</td>\n",
              "    </tr>\n",
              "    <tr>\n",
              "      <th>2</th>\n",
              "      <td>6296</td>\n",
              "      <td>Ezra Crane (2008)</td>\n",
              "      <td>Wars raged. Plagues ravaged. Civilization fel...</td>\n",
              "      <td>wars raged plagues ravaged civilization fell n...</td>\n",
              "    </tr>\n",
              "    <tr>\n",
              "      <th>3</th>\n",
              "      <td>17323</td>\n",
              "      <td>Face of Fire (1959)</td>\n",
              "      <td>In 1898, in a small American town, Dr. Ned Tr...</td>\n",
              "      <td>small american town dr ned trescott family liv...</td>\n",
              "    </tr>\n",
              "    <tr>\n",
              "      <th>4</th>\n",
              "      <td>13522</td>\n",
              "      <td>No Outlet (2007)</td>\n",
              "      <td>Middle-class America supports a rich irony: i...</td>\n",
              "      <td>middleclass america supports rich irony childr...</td>\n",
              "    </tr>\n",
              "  </tbody>\n",
              "</table>\n",
              "</div>"
            ],
            "text/plain": [
              "   index  ...                              processed_description\n",
              "0   4410  ...  ronald reagan president screen actors guild in...\n",
              "1   7107  ...  game continues secret left empowering intimate...\n",
              "2   6296  ...  wars raged plagues ravaged civilization fell n...\n",
              "3  17323  ...  small american town dr ned trescott family liv...\n",
              "4  13522  ...  middleclass america supports rich irony childr...\n",
              "\n",
              "[5 rows x 4 columns]"
            ]
          },
          "metadata": {},
          "execution_count": 11
        }
      ]
    },
    {
      "cell_type": "markdown",
      "source": [
        "Utilizando TF-IDF como embbeding dos textos"
      ],
      "metadata": {
        "id": "OoxGgE8i0FC2"
      }
    },
    {
      "cell_type": "code",
      "source": [
        "tfidf = TfidfVectorizer()\n",
        "X = tfidf.fit_transform(dataset.processed_description)"
      ],
      "metadata": {
        "id": "NNqIiV1hxelq"
      },
      "execution_count": 12,
      "outputs": []
    },
    {
      "cell_type": "code",
      "source": [
        "for decomposition_algorithm in (LatentDirichletAllocation, TruncatedSVD, NMF):\n",
        "    algorithm = decomposition_algorithm(n_components=n_topics)\n",
        "    X_topics = algorithm.fit_transform(X)\n",
        "\n",
        "    def get_top_words(topic, n, words, algorithm):\n",
        "      sorted_idxs = np.argsort(algorithm.components_[topic])\n",
        "      top_words = [words[i] for i in sorted_idxs]\n",
        "      return [w for w in reversed(top_words[-n:])]\n",
        "\n",
        "    print(f'Algoritmo: {decomposition_algorithm.__name__}')\n",
        "    for i in range(n_topics):\n",
        "        print(f'Tópico {i} -> {get_top_words(i, 5, tfidf.get_feature_names(), algorithm)}')\n",
        "    print('\\n')\n",
        "\n",
        "    sample_topics = algorithm.transform(tfidf.transform(samples.processed_description))\n",
        "\n",
        "    for i, sample in samples.iterrows():\n",
        "        print(f'{sample.title}')\n",
        "        print(sample.description[:70] + '...')\n",
        "        print(sample_topics[i])\n",
        "        print('\\n')"
      ],
      "metadata": {
        "colab": {
          "base_uri": "https://localhost:8080/"
        },
        "id": "jPk1oftcxed9",
        "outputId": "5edb55b5-3743-463e-894b-9d029341f068"
      },
      "execution_count": 13,
      "outputs": [
        {
          "output_type": "stream",
          "name": "stdout",
          "text": [
            "Algoritmo: LatentDirichletAllocation\n",
            "Tópico 0 -> ['nash', 'lila', 'maud', 'minerva', 'offroad']\n",
            "Tópico 1 -> ['di', 'everest', 'liza', 'doyle', 'ephesus']\n",
            "Tópico 2 -> ['life', 'one', 'film', 'new', 'young']\n",
            "Tópico 3 -> ['de', 'minas', 'gerais', 'brisbane', 'nana']\n",
            "Tópico 4 -> ['de', 'la', 'et', 'le', 'un']\n",
            "\n",
            "\n",
            " In the Face of Evil: Reagan's War in Word and Deed (2004) \n",
            " Ronald Reagan was the President of the Screen Actor's Guild during th...\n",
            "[0.02425239 0.02425115 0.90299232 0.02425104 0.0242531 ]\n",
            "\n",
            "\n",
            " The Game (2017/I) \n",
            " The Game continues where The Secret left off. It's an empowering, int...\n",
            "[0.02464261 0.02464308 0.90142972 0.02464257 0.02464202]\n",
            "\n",
            "\n",
            " Ezra Crane (2008) \n",
            " Wars raged. Plagues ravaged. Civilization fell. A new dark age took a...\n",
            "[0.02423436 0.02423434 0.90306272 0.02423432 0.02423426]\n",
            "\n",
            "\n",
            " Face of Fire (1959) \n",
            " In 1898, in a small American town, Dr. Ned Trescott and his family li...\n",
            "[0.0229991  0.02299945 0.90800375 0.02299881 0.02299889]\n",
            "\n",
            "\n",
            " No Outlet (2007) \n",
            " Middle-class America supports a rich irony: its children don't have t...\n",
            "[0.0247371  0.02473718 0.90105238 0.02473709 0.02473624]\n",
            "\n",
            "\n",
            "Algoritmo: TruncatedSVD\n",
            "Tópico 0 -> ['life', 'one', 'film', 'young', 'new']\n",
            "Tópico 1 -> ['film', 'documentary', 'world', 'music', 'people']\n",
            "Tópico 2 -> ['life', 'film', 'love', 'story', 'family']\n",
            "Tópico 3 -> ['film', 'show', 'family', 'music', 'school']\n",
            "Tópico 4 -> ['family', 'life', 'school', 'father', 'mother']\n",
            "\n",
            "\n",
            " In the Face of Evil: Reagan's War in Word and Deed (2004) \n",
            " Ronald Reagan was the President of the Screen Actor's Guild during th...\n",
            "[ 0.07265222  0.0528443   0.00477733 -0.02178408 -0.01409472]\n",
            "\n",
            "\n",
            " The Game (2017/I) \n",
            " The Game continues where The Secret left off. It's an empowering, int...\n",
            "[ 0.12716255  0.06297419  0.02853948 -0.0220768   0.05822598]\n",
            "\n",
            "\n",
            " Ezra Crane (2008) \n",
            " Wars raged. Plagues ravaged. Civilization fell. A new dark age took a...\n",
            "[ 0.14207916 -0.03236854 -0.02024197 -0.07769215 -0.04282435]\n",
            "\n",
            "\n",
            " Face of Fire (1959) \n",
            " In 1898, in a small American town, Dr. Ned Trescott and his family li...\n",
            "[ 0.10994503 -0.05331986 -0.01362087  0.00074353  0.03665557]\n",
            "\n",
            "\n",
            " No Outlet (2007) \n",
            " Middle-class America supports a rich irony: its children don't have t...\n",
            "[ 0.09610081  0.04520766  0.02921716 -0.01550634  0.03189652]\n",
            "\n",
            "\n",
            "Algoritmo: NMF\n",
            "Tópico 0 -> ['one', 'two', 'friends', 'get', 'find']\n",
            "Tópico 1 -> ['film', 'documentary', 'world', 'story', 'people']\n",
            "Tópico 2 -> ['life', 'love', 'young', 'man', 'woman']\n",
            "Tópico 3 -> ['family', 'father', 'mother', 'son', 'daughter']\n",
            "Tópico 4 -> ['show', 'new', 'music', 'series', 'tv']\n",
            "\n",
            "\n",
            " In the Face of Evil: Reagan's War in Word and Deed (2004) \n",
            " Ronald Reagan was the President of the Screen Actor's Guild during th...\n",
            "[0.00677948 0.03296266 0.00164643 0.         0.00081704]\n",
            "\n",
            "\n",
            " The Game (2017/I) \n",
            " The Game continues where The Secret left off. It's an empowering, int...\n",
            "[0.005868   0.03356272 0.02986696 0.         0.01228257]\n",
            "\n",
            "\n",
            " Ezra Crane (2008) \n",
            " Wars raged. Plagues ravaged. Civilization fell. A new dark age took a...\n",
            "[0.03346731 0.0037911  0.02896765 0.         0.000329  ]\n",
            "\n",
            "\n",
            " Face of Fire (1959) \n",
            " In 1898, in a small American town, Dr. Ned Trescott and his family li...\n",
            "[0.02613883 0.         0.00289302 0.03301896 0.        ]\n",
            "\n",
            "\n",
            " No Outlet (2007) \n",
            " Middle-class America supports a rich irony: its children don't have t...\n",
            "[0.00960154 0.03317881 0.00983607 0.0021146  0.        ]\n",
            "\n",
            "\n"
          ]
        }
      ]
    },
    {
      "cell_type": "markdown",
      "source": [
        "Melhor algoritmo: NMF\n"
      ],
      "metadata": {
        "id": "Fg8fQ0Oc3Q4m"
      }
    },
    {
      "cell_type": "markdown",
      "source": [
        "## Questão 2\n",
        "Realize um agrupamento dos dados seguindo os seguintes passos:\n",
        "\n",
        "a) Aplique o algoritmo PCA, preservando 95% da variância nos dados. Qual a\n",
        "dimensão resultante dos dados projetados?\n",
        "\n",
        "b) Aplique um algoritmo k-means nos dados projetados, usando o método elbow\n",
        "para encontrar o valor de k ótimo.\n",
        "\n",
        "c) Finalmente, aplique um algoritmo k-means nos dados originais (sem projeção\n",
        "por PCA), usando o método elbow para encontrar o valor de k ótimo."
      ],
      "metadata": {
        "id": "U0quzAns3f7k"
      }
    },
    {
      "cell_type": "code",
      "source": [
        ""
      ],
      "metadata": {
        "id": "54ifD-MX2CXy"
      },
      "execution_count": null,
      "outputs": []
    },
    {
      "cell_type": "markdown",
      "metadata": {
        "id": "5Vl4cQSbSl88"
      },
      "source": [
        "**Referências**\n",
        "\n"
      ]
    }
  ]
}