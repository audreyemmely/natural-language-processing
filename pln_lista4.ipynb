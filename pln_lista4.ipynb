{
  "nbformat": 4,
  "nbformat_minor": 0,
  "metadata": {
    "colab": {
      "name": "pln_lista4.ipynb",
      "provenance": [],
      "collapsed_sections": [],
      "include_colab_link": true
    },
    "kernelspec": {
      "display_name": "Python 3",
      "name": "python3"
    },
    "language_info": {
      "name": "python"
    }
  },
  "cells": [
    {
      "cell_type": "markdown",
      "metadata": {
        "id": "view-in-github",
        "colab_type": "text"
      },
      "source": [
        "<a href=\"https://colab.research.google.com/github/audreyemmely/pln/blob/main/pln_lista4.ipynb\" target=\"_parent\"><img src=\"https://colab.research.google.com/assets/colab-badge.svg\" alt=\"Open In Colab\"/></a>"
      ]
    },
    {
      "cell_type": "markdown",
      "metadata": {
        "id": "UsfPoqEzXtXr"
      },
      "source": [
        "# **Resolução Lista 4**\n",
        "\n",
        "---\n",
        "\n",
        "Audrey Emmely Rodrigues Vasconcelos\n",
        "\n",
        "Karen Nayara Gomes da Silva"
      ]
    },
    {
      "cell_type": "code",
      "metadata": {
        "id": "xfcuzC_Sff5N"
      },
      "source": [
        "# from google.colab import files\n",
        "# uploaded = files.upload()\n",
        "# upando train_data e test_data_solution"
      ],
      "execution_count": 1,
      "outputs": []
    },
    {
      "cell_type": "code",
      "source": [
        "#!pip install yellowbrick"
      ],
      "metadata": {
        "id": "yJJDwC-CjyoX"
      },
      "execution_count": 2,
      "outputs": []
    },
    {
      "cell_type": "code",
      "source": [
        "import pandas as pd\n",
        "import numpy as np\n",
        "import nltk\n",
        "import re\n",
        "from sklearn.feature_extraction.text import TfidfVectorizer\n",
        "from sklearn.decomposition import LatentDirichletAllocation, TruncatedSVD, NMF, PCA\n",
        "from sklearn.cluster import KMeans\n",
        "from yellowbrick.cluster import KElbowVisualizer\n",
        "import warnings\n",
        "warnings.filterwarnings('ignore')"
      ],
      "metadata": {
        "id": "R-VlUvUmxlqV"
      },
      "execution_count": 3,
      "outputs": []
    },
    {
      "cell_type": "code",
      "source": [
        "nltk.download('stopwords')\n",
        "nltk.download('punkt')\n",
        "nltk.download('rslp')"
      ],
      "metadata": {
        "colab": {
          "base_uri": "https://localhost:8080/"
        },
        "id": "BWt8WKVtxfIm",
        "outputId": "e9c7a74f-22a1-421b-adf2-47412e8323d9"
      },
      "execution_count": 4,
      "outputs": [
        {
          "output_type": "stream",
          "name": "stdout",
          "text": [
            "[nltk_data] Downloading package stopwords to /root/nltk_data...\n",
            "[nltk_data]   Package stopwords is already up-to-date!\n",
            "[nltk_data] Downloading package punkt to /root/nltk_data...\n",
            "[nltk_data]   Package punkt is already up-to-date!\n",
            "[nltk_data] Downloading package rslp to /root/nltk_data...\n",
            "[nltk_data]   Package rslp is already up-to-date!\n"
          ]
        },
        {
          "output_type": "execute_result",
          "data": {
            "text/plain": [
              "True"
            ]
          },
          "metadata": {},
          "execution_count": 4
        }
      ]
    },
    {
      "cell_type": "code",
      "source": [
        "df = pd.read_csv('train_data.txt', sep =':::', header = None, engine = 'python', nrows = 2000)\n",
        "df.columns = ['id', 'title', 'genre', 'description']\n",
        "df2 = pd.read_csv('test_data_solution.txt', sep =':::', header = None, engine = 'python', nrows = 2000)\n",
        "df2.columns = ['id', 'title', 'genre', 'description']"
      ],
      "metadata": {
        "id": "qbn7Weq5xpYP"
      },
      "execution_count": 5,
      "outputs": []
    },
    {
      "cell_type": "code",
      "source": [
        "dataset = pd.concat([df, df2], ignore_index=True)\n",
        "dataset.drop(['id','genre'], axis=1, inplace=True)"
      ],
      "metadata": {
        "id": "8xVH3GEZxzUV"
      },
      "execution_count": 6,
      "outputs": []
    },
    {
      "cell_type": "code",
      "source": [
        "def preprocess(description):\n",
        "  description = re.sub(r'\\w*\\d\\w*', '', description) #remove todas as palavras que contêm números\n",
        "  description = re.sub(r'[^a-zA-Z ]', '', description.lower())\n",
        "  return re.sub(r'\\s+', ' ', description) #retira espaços repetidos"
      ],
      "metadata": {
        "id": "lLVckic3yE0w"
      },
      "execution_count": 7,
      "outputs": []
    },
    {
      "cell_type": "code",
      "source": [
        "dataset['processed_description'] = dataset.description.apply(preprocess)"
      ],
      "metadata": {
        "id": "TL_-rwc5yErP"
      },
      "execution_count": 8,
      "outputs": []
    },
    {
      "cell_type": "code",
      "source": [
        "stop_words = set(nltk.corpus.stopwords.words('english'))\n",
        "def remove_stopwords(description):\n",
        "    tokenized_text = nltk.word_tokenize(description, language='english')\n",
        "    return \" \".join([token for token in tokenized_text if token not in stop_words])"
      ],
      "metadata": {
        "id": "PLVgqXZ8yi1U"
      },
      "execution_count": 9,
      "outputs": []
    },
    {
      "cell_type": "code",
      "source": [
        "dataset['processed_description'] = dataset.processed_description.apply(remove_stopwords)"
      ],
      "metadata": {
        "id": "ESBXwWe5yugT"
      },
      "execution_count": 10,
      "outputs": []
    },
    {
      "cell_type": "code",
      "source": [
        "dataset"
      ],
      "metadata": {
        "colab": {
          "base_uri": "https://localhost:8080/",
          "height": 424
        },
        "id": "g0L8XTHaydPW",
        "outputId": "fba01eb7-dc1c-4a30-b8cf-59dbeaf0ca40"
      },
      "execution_count": 11,
      "outputs": [
        {
          "output_type": "execute_result",
          "data": {
            "text/html": [
              "\n",
              "  <div id=\"df-c3655e70-35a2-40db-9f2f-bb8168e44220\">\n",
              "    <div class=\"colab-df-container\">\n",
              "      <div>\n",
              "<style scoped>\n",
              "    .dataframe tbody tr th:only-of-type {\n",
              "        vertical-align: middle;\n",
              "    }\n",
              "\n",
              "    .dataframe tbody tr th {\n",
              "        vertical-align: top;\n",
              "    }\n",
              "\n",
              "    .dataframe thead th {\n",
              "        text-align: right;\n",
              "    }\n",
              "</style>\n",
              "<table border=\"1\" class=\"dataframe\">\n",
              "  <thead>\n",
              "    <tr style=\"text-align: right;\">\n",
              "      <th></th>\n",
              "      <th>title</th>\n",
              "      <th>description</th>\n",
              "      <th>processed_description</th>\n",
              "    </tr>\n",
              "  </thead>\n",
              "  <tbody>\n",
              "    <tr>\n",
              "      <th>0</th>\n",
              "      <td>Oscar et la dame rose (2009)</td>\n",
              "      <td>Listening in to a conversation between his do...</td>\n",
              "      <td>listening conversation doctor parents yearold ...</td>\n",
              "    </tr>\n",
              "    <tr>\n",
              "      <th>1</th>\n",
              "      <td>Cupid (1997)</td>\n",
              "      <td>A brother and sister with a past incestuous r...</td>\n",
              "      <td>brother sister past incestuous relationship cu...</td>\n",
              "    </tr>\n",
              "    <tr>\n",
              "      <th>2</th>\n",
              "      <td>Young, Wild and Wonderful (1980)</td>\n",
              "      <td>As the bus empties the students for their fie...</td>\n",
              "      <td>bus empties students field trip museum natural...</td>\n",
              "    </tr>\n",
              "    <tr>\n",
              "      <th>3</th>\n",
              "      <td>The Secret Sin (1915)</td>\n",
              "      <td>To help their unemployed father make ends mee...</td>\n",
              "      <td>help unemployed father make ends meet edith tw...</td>\n",
              "    </tr>\n",
              "    <tr>\n",
              "      <th>4</th>\n",
              "      <td>The Unrecovered (2007)</td>\n",
              "      <td>The film's title refers not only to the un-re...</td>\n",
              "      <td>films title refers unrecovered bodies ground z...</td>\n",
              "    </tr>\n",
              "    <tr>\n",
              "      <th>...</th>\n",
              "      <td>...</td>\n",
              "      <td>...</td>\n",
              "      <td>...</td>\n",
              "    </tr>\n",
              "    <tr>\n",
              "      <th>3995</th>\n",
              "      <td>L'absence (2009/II)</td>\n",
              "      <td>Adama Diop is a successful scientist, living ...</td>\n",
              "      <td>adama diop successful scientist living paris y...</td>\n",
              "    </tr>\n",
              "    <tr>\n",
              "      <th>3996</th>\n",
              "      <td>Blood Circus (2017)</td>\n",
              "      <td>Sean \"THE KILLIN'\" Dillon was on top of the w...</td>\n",
              "      <td>sean killin dillon top world become decorated ...</td>\n",
              "    </tr>\n",
              "    <tr>\n",
              "      <th>3997</th>\n",
              "      <td>Gangsta Brown Master of the Game (2016)</td>\n",
              "      <td>This DVD consists of 22 fictional characters ...</td>\n",
              "      <td>dvd consists fictional characters including mr...</td>\n",
              "    </tr>\n",
              "    <tr>\n",
              "      <th>3998</th>\n",
              "      <td>Treasure of the Golden Condor (1953)</td>\n",
              "      <td>Jean-Paul rebels against his bondage to his u...</td>\n",
              "      <td>jeanpaul rebels bondage uncle marquis de st ma...</td>\n",
              "    </tr>\n",
              "    <tr>\n",
              "      <th>3999</th>\n",
              "      <td>Ian's Eyes (2016)</td>\n",
              "      <td>Being blind, Ian has always relied on North, ...</td>\n",
              "      <td>blind ian always relied north faithful seeing ...</td>\n",
              "    </tr>\n",
              "  </tbody>\n",
              "</table>\n",
              "<p>4000 rows × 3 columns</p>\n",
              "</div>\n",
              "      <button class=\"colab-df-convert\" onclick=\"convertToInteractive('df-c3655e70-35a2-40db-9f2f-bb8168e44220')\"\n",
              "              title=\"Convert this dataframe to an interactive table.\"\n",
              "              style=\"display:none;\">\n",
              "        \n",
              "  <svg xmlns=\"http://www.w3.org/2000/svg\" height=\"24px\"viewBox=\"0 0 24 24\"\n",
              "       width=\"24px\">\n",
              "    <path d=\"M0 0h24v24H0V0z\" fill=\"none\"/>\n",
              "    <path d=\"M18.56 5.44l.94 2.06.94-2.06 2.06-.94-2.06-.94-.94-2.06-.94 2.06-2.06.94zm-11 1L8.5 8.5l.94-2.06 2.06-.94-2.06-.94L8.5 2.5l-.94 2.06-2.06.94zm10 10l.94 2.06.94-2.06 2.06-.94-2.06-.94-.94-2.06-.94 2.06-2.06.94z\"/><path d=\"M17.41 7.96l-1.37-1.37c-.4-.4-.92-.59-1.43-.59-.52 0-1.04.2-1.43.59L10.3 9.45l-7.72 7.72c-.78.78-.78 2.05 0 2.83L4 21.41c.39.39.9.59 1.41.59.51 0 1.02-.2 1.41-.59l7.78-7.78 2.81-2.81c.8-.78.8-2.07 0-2.86zM5.41 20L4 18.59l7.72-7.72 1.47 1.35L5.41 20z\"/>\n",
              "  </svg>\n",
              "      </button>\n",
              "      \n",
              "  <style>\n",
              "    .colab-df-container {\n",
              "      display:flex;\n",
              "      flex-wrap:wrap;\n",
              "      gap: 12px;\n",
              "    }\n",
              "\n",
              "    .colab-df-convert {\n",
              "      background-color: #E8F0FE;\n",
              "      border: none;\n",
              "      border-radius: 50%;\n",
              "      cursor: pointer;\n",
              "      display: none;\n",
              "      fill: #1967D2;\n",
              "      height: 32px;\n",
              "      padding: 0 0 0 0;\n",
              "      width: 32px;\n",
              "    }\n",
              "\n",
              "    .colab-df-convert:hover {\n",
              "      background-color: #E2EBFA;\n",
              "      box-shadow: 0px 1px 2px rgba(60, 64, 67, 0.3), 0px 1px 3px 1px rgba(60, 64, 67, 0.15);\n",
              "      fill: #174EA6;\n",
              "    }\n",
              "\n",
              "    [theme=dark] .colab-df-convert {\n",
              "      background-color: #3B4455;\n",
              "      fill: #D2E3FC;\n",
              "    }\n",
              "\n",
              "    [theme=dark] .colab-df-convert:hover {\n",
              "      background-color: #434B5C;\n",
              "      box-shadow: 0px 1px 3px 1px rgba(0, 0, 0, 0.15);\n",
              "      filter: drop-shadow(0px 1px 2px rgba(0, 0, 0, 0.3));\n",
              "      fill: #FFFFFF;\n",
              "    }\n",
              "  </style>\n",
              "\n",
              "      <script>\n",
              "        const buttonEl =\n",
              "          document.querySelector('#df-c3655e70-35a2-40db-9f2f-bb8168e44220 button.colab-df-convert');\n",
              "        buttonEl.style.display =\n",
              "          google.colab.kernel.accessAllowed ? 'block' : 'none';\n",
              "\n",
              "        async function convertToInteractive(key) {\n",
              "          const element = document.querySelector('#df-c3655e70-35a2-40db-9f2f-bb8168e44220');\n",
              "          const dataTable =\n",
              "            await google.colab.kernel.invokeFunction('convertToInteractive',\n",
              "                                                     [key], {});\n",
              "          if (!dataTable) return;\n",
              "\n",
              "          const docLinkHtml = 'Like what you see? Visit the ' +\n",
              "            '<a target=\"_blank\" href=https://colab.research.google.com/notebooks/data_table.ipynb>data table notebook</a>'\n",
              "            + ' to learn more about interactive tables.';\n",
              "          element.innerHTML = '';\n",
              "          dataTable['output_type'] = 'display_data';\n",
              "          await google.colab.output.renderOutput(dataTable, element);\n",
              "          const docLink = document.createElement('div');\n",
              "          docLink.innerHTML = docLinkHtml;\n",
              "          element.appendChild(docLink);\n",
              "        }\n",
              "      </script>\n",
              "    </div>\n",
              "  </div>\n",
              "  "
            ],
            "text/plain": [
              "                                          title  ...                              processed_description\n",
              "0                 Oscar et la dame rose (2009)   ...  listening conversation doctor parents yearold ...\n",
              "1                                 Cupid (1997)   ...  brother sister past incestuous relationship cu...\n",
              "2             Young, Wild and Wonderful (1980)   ...  bus empties students field trip museum natural...\n",
              "3                        The Secret Sin (1915)   ...  help unemployed father make ends meet edith tw...\n",
              "4                       The Unrecovered (2007)   ...  films title refers unrecovered bodies ground z...\n",
              "...                                         ...  ...                                                ...\n",
              "3995                       L'absence (2009/II)   ...  adama diop successful scientist living paris y...\n",
              "3996                       Blood Circus (2017)   ...  sean killin dillon top world become decorated ...\n",
              "3997   Gangsta Brown Master of the Game (2016)   ...  dvd consists fictional characters including mr...\n",
              "3998      Treasure of the Golden Condor (1953)   ...  jeanpaul rebels bondage uncle marquis de st ma...\n",
              "3999                         Ian's Eyes (2016)   ...  blind ian always relied north faithful seeing ...\n",
              "\n",
              "[4000 rows x 3 columns]"
            ]
          },
          "metadata": {},
          "execution_count": 11
        }
      ]
    },
    {
      "cell_type": "markdown",
      "source": [
        "## Questão 1\n",
        "\n",
        "Realize um comparativo entre os métodos LDA, SVD e NMF para realizar\n",
        "modelagem de tópicos. Para cada método:\n",
        "\n",
        "a) empiricamente, tente identificar uma quantidade de tópicos adequada para\n",
        "seu problema. Exiba resultados que justifiquem a quantidade de tópicos\n",
        "escolhida;\n",
        "\n",
        "b) identifique as 5 palavras mais relevantes de cada tópico;\n",
        "\n",
        "c) identifique os 3 tópicos mais relevantes de 5 documentos quaisquer (você\n",
        "pode representar os tópicos por suas 5 palavras mais relevantes).\n",
        "\n",
        "d) qual método apresentou melhores resultados, na sua opinião? Justifique com resultados/dados."
      ],
      "metadata": {
        "id": "TRB7U0A9tmsZ"
      }
    },
    {
      "cell_type": "code",
      "source": [
        "n_topics = 5\n",
        "samples = dataset.sample(n=5)\n",
        "samples.reset_index(inplace=True)\n",
        "samples"
      ],
      "metadata": {
        "colab": {
          "base_uri": "https://localhost:8080/",
          "height": 206
        },
        "id": "xPlqgt8gxera",
        "outputId": "f91d5ba0-9a9e-46b5-f0a2-ee1902c452a9"
      },
      "execution_count": 12,
      "outputs": [
        {
          "output_type": "execute_result",
          "data": {
            "text/html": [
              "\n",
              "  <div id=\"df-fbc0ed44-6c6f-4783-841c-b38f6918c89e\">\n",
              "    <div class=\"colab-df-container\">\n",
              "      <div>\n",
              "<style scoped>\n",
              "    .dataframe tbody tr th:only-of-type {\n",
              "        vertical-align: middle;\n",
              "    }\n",
              "\n",
              "    .dataframe tbody tr th {\n",
              "        vertical-align: top;\n",
              "    }\n",
              "\n",
              "    .dataframe thead th {\n",
              "        text-align: right;\n",
              "    }\n",
              "</style>\n",
              "<table border=\"1\" class=\"dataframe\">\n",
              "  <thead>\n",
              "    <tr style=\"text-align: right;\">\n",
              "      <th></th>\n",
              "      <th>index</th>\n",
              "      <th>title</th>\n",
              "      <th>description</th>\n",
              "      <th>processed_description</th>\n",
              "    </tr>\n",
              "  </thead>\n",
              "  <tbody>\n",
              "    <tr>\n",
              "      <th>0</th>\n",
              "      <td>3683</td>\n",
              "      <td>Silly Scaries (2011)</td>\n",
              "      <td>Prepare yourself to be scared silly! Three in...</td>\n",
              "      <td>prepare scared silly three independent masters...</td>\n",
              "    </tr>\n",
              "    <tr>\n",
              "      <th>1</th>\n",
              "      <td>3493</td>\n",
              "      <td>Joy (2010/I)</td>\n",
              "      <td>Joy is an emotionally damaged young woman of ...</td>\n",
              "      <td>joy emotionally damaged young woman eighteen g...</td>\n",
              "    </tr>\n",
              "    <tr>\n",
              "      <th>2</th>\n",
              "      <td>2652</td>\n",
              "      <td>WWE No Way Out (2007)</td>\n",
              "      <td>Chris Benoit and The Hardyz vs MVP and MNM. M...</td>\n",
              "      <td>chris benoit hardyz vs mvp mnm mr kennedy vs b...</td>\n",
              "    </tr>\n",
              "    <tr>\n",
              "      <th>3</th>\n",
              "      <td>3187</td>\n",
              "      <td>Bare Exposure (1993)</td>\n",
              "      <td>When Clancy (Westley Scott) has a major probl...</td>\n",
              "      <td>clancy westley scott major problem mob cant pa...</td>\n",
              "    </tr>\n",
              "    <tr>\n",
              "      <th>4</th>\n",
              "      <td>3823</td>\n",
              "      <td>Baby's Bath (1899/I)</td>\n",
              "      <td>\"In this picture the figures are very large a...</td>\n",
              "      <td>picture figures large clear photographically y...</td>\n",
              "    </tr>\n",
              "  </tbody>\n",
              "</table>\n",
              "</div>\n",
              "      <button class=\"colab-df-convert\" onclick=\"convertToInteractive('df-fbc0ed44-6c6f-4783-841c-b38f6918c89e')\"\n",
              "              title=\"Convert this dataframe to an interactive table.\"\n",
              "              style=\"display:none;\">\n",
              "        \n",
              "  <svg xmlns=\"http://www.w3.org/2000/svg\" height=\"24px\"viewBox=\"0 0 24 24\"\n",
              "       width=\"24px\">\n",
              "    <path d=\"M0 0h24v24H0V0z\" fill=\"none\"/>\n",
              "    <path d=\"M18.56 5.44l.94 2.06.94-2.06 2.06-.94-2.06-.94-.94-2.06-.94 2.06-2.06.94zm-11 1L8.5 8.5l.94-2.06 2.06-.94-2.06-.94L8.5 2.5l-.94 2.06-2.06.94zm10 10l.94 2.06.94-2.06 2.06-.94-2.06-.94-.94-2.06-.94 2.06-2.06.94z\"/><path d=\"M17.41 7.96l-1.37-1.37c-.4-.4-.92-.59-1.43-.59-.52 0-1.04.2-1.43.59L10.3 9.45l-7.72 7.72c-.78.78-.78 2.05 0 2.83L4 21.41c.39.39.9.59 1.41.59.51 0 1.02-.2 1.41-.59l7.78-7.78 2.81-2.81c.8-.78.8-2.07 0-2.86zM5.41 20L4 18.59l7.72-7.72 1.47 1.35L5.41 20z\"/>\n",
              "  </svg>\n",
              "      </button>\n",
              "      \n",
              "  <style>\n",
              "    .colab-df-container {\n",
              "      display:flex;\n",
              "      flex-wrap:wrap;\n",
              "      gap: 12px;\n",
              "    }\n",
              "\n",
              "    .colab-df-convert {\n",
              "      background-color: #E8F0FE;\n",
              "      border: none;\n",
              "      border-radius: 50%;\n",
              "      cursor: pointer;\n",
              "      display: none;\n",
              "      fill: #1967D2;\n",
              "      height: 32px;\n",
              "      padding: 0 0 0 0;\n",
              "      width: 32px;\n",
              "    }\n",
              "\n",
              "    .colab-df-convert:hover {\n",
              "      background-color: #E2EBFA;\n",
              "      box-shadow: 0px 1px 2px rgba(60, 64, 67, 0.3), 0px 1px 3px 1px rgba(60, 64, 67, 0.15);\n",
              "      fill: #174EA6;\n",
              "    }\n",
              "\n",
              "    [theme=dark] .colab-df-convert {\n",
              "      background-color: #3B4455;\n",
              "      fill: #D2E3FC;\n",
              "    }\n",
              "\n",
              "    [theme=dark] .colab-df-convert:hover {\n",
              "      background-color: #434B5C;\n",
              "      box-shadow: 0px 1px 3px 1px rgba(0, 0, 0, 0.15);\n",
              "      filter: drop-shadow(0px 1px 2px rgba(0, 0, 0, 0.3));\n",
              "      fill: #FFFFFF;\n",
              "    }\n",
              "  </style>\n",
              "\n",
              "      <script>\n",
              "        const buttonEl =\n",
              "          document.querySelector('#df-fbc0ed44-6c6f-4783-841c-b38f6918c89e button.colab-df-convert');\n",
              "        buttonEl.style.display =\n",
              "          google.colab.kernel.accessAllowed ? 'block' : 'none';\n",
              "\n",
              "        async function convertToInteractive(key) {\n",
              "          const element = document.querySelector('#df-fbc0ed44-6c6f-4783-841c-b38f6918c89e');\n",
              "          const dataTable =\n",
              "            await google.colab.kernel.invokeFunction('convertToInteractive',\n",
              "                                                     [key], {});\n",
              "          if (!dataTable) return;\n",
              "\n",
              "          const docLinkHtml = 'Like what you see? Visit the ' +\n",
              "            '<a target=\"_blank\" href=https://colab.research.google.com/notebooks/data_table.ipynb>data table notebook</a>'\n",
              "            + ' to learn more about interactive tables.';\n",
              "          element.innerHTML = '';\n",
              "          dataTable['output_type'] = 'display_data';\n",
              "          await google.colab.output.renderOutput(dataTable, element);\n",
              "          const docLink = document.createElement('div');\n",
              "          docLink.innerHTML = docLinkHtml;\n",
              "          element.appendChild(docLink);\n",
              "        }\n",
              "      </script>\n",
              "    </div>\n",
              "  </div>\n",
              "  "
            ],
            "text/plain": [
              "   index  ...                              processed_description\n",
              "0   3683  ...  prepare scared silly three independent masters...\n",
              "1   3493  ...  joy emotionally damaged young woman eighteen g...\n",
              "2   2652  ...  chris benoit hardyz vs mvp mnm mr kennedy vs b...\n",
              "3   3187  ...  clancy westley scott major problem mob cant pa...\n",
              "4   3823  ...  picture figures large clear photographically y...\n",
              "\n",
              "[5 rows x 4 columns]"
            ]
          },
          "metadata": {},
          "execution_count": 12
        }
      ]
    },
    {
      "cell_type": "markdown",
      "source": [
        "Utilizando TF-IDF como embbeding dos textos"
      ],
      "metadata": {
        "id": "OoxGgE8i0FC2"
      }
    },
    {
      "cell_type": "code",
      "source": [
        "tfidf = TfidfVectorizer()\n",
        "X = tfidf.fit_transform(dataset.processed_description)"
      ],
      "metadata": {
        "id": "NNqIiV1hxelq"
      },
      "execution_count": 13,
      "outputs": []
    },
    {
      "cell_type": "code",
      "source": [
        "for decomposition_algorithm in (LatentDirichletAllocation, TruncatedSVD, NMF):\n",
        "    algorithm = decomposition_algorithm(n_components=n_topics)\n",
        "    X_topics = algorithm.fit_transform(X)\n",
        "\n",
        "    def get_top_words(topic, n, words, algorithm):\n",
        "      sorted_idxs = np.argsort(algorithm.components_[topic])\n",
        "      top_words = [words[i] for i in sorted_idxs]\n",
        "      return [w for w in reversed(top_words[-n:])]\n",
        "\n",
        "    print(f'Algoritmo: {decomposition_algorithm.__name__}')\n",
        "    for i in range(n_topics):\n",
        "        print(f'Tópico {i} -> {get_top_words(i, 5, tfidf.get_feature_names(), algorithm)}')\n",
        "    print('\\n')\n",
        "\n",
        "    sample_topics = algorithm.transform(tfidf.transform(samples.processed_description))\n",
        "\n",
        "    for i, sample in samples.iterrows():\n",
        "        print(f'{sample.title}')\n",
        "        print(sample.description[:70] + '...')\n",
        "        print(sample_topics[i])\n",
        "        print('\\n')"
      ],
      "metadata": {
        "colab": {
          "base_uri": "https://localhost:8080/"
        },
        "id": "jPk1oftcxed9",
        "outputId": "ebe1eb5d-68a4-4099-9c86-53c00e51e423"
      },
      "execution_count": 14,
      "outputs": [
        {
          "output_type": "stream",
          "name": "stdout",
          "text": [
            "Algoritmo: LatentDirichletAllocation\n",
            "Tópico 0 -> ['life', 'new', 'film', 'one', 'two']\n",
            "Tópico 1 -> ['life', 'young', 'one', 'love', 'story']\n",
            "Tópico 2 -> ['life', 'one', 'new', 'film', 'story']\n",
            "Tópico 3 -> ['film', 'life', 'one', 'world', 'young']\n",
            "Tópico 4 -> ['life', 'film', 'one', 'new', 'young']\n",
            "\n",
            "\n",
            " Silly Scaries (2011) \n",
            " Prepare yourself to be scared silly! Three independent masters of hor...\n",
            "[0.01905113 0.01908443 0.01937092 0.01902102 0.92347251]\n",
            "\n",
            "\n",
            " Joy (2010/I) \n",
            " Joy is an emotionally damaged young woman of eighteen, who was given ...\n",
            "[0.01937462 0.0195043  0.01954337 0.01992469 0.92165302]\n",
            "\n",
            "\n",
            " WWE No Way Out (2007) \n",
            " Chris Benoit and The Hardyz vs MVP and MNM. Mr Kennedy vs Bobby Lashl...\n",
            "[0.03693995 0.03665142 0.85422585 0.03588301 0.03629977]\n",
            "\n",
            "\n",
            " Bare Exposure (1993) \n",
            " When Clancy (Westley Scott) has a major problem with the mob because ...\n",
            "[0.02909773 0.02882357 0.02908372 0.883959   0.02903599]\n",
            "\n",
            "\n",
            " Baby's Bath (1899/I) \n",
            " \"In this picture the figures are very large and very clear photograph...\n",
            "[0.0357772  0.03579943 0.85636636 0.03589942 0.03615759]\n",
            "\n",
            "\n",
            "Algoritmo: TruncatedSVD\n",
            "Tópico 0 -> ['life', 'one', 'film', 'new', 'young']\n",
            "Tópico 1 -> ['film', 'documentary', 'world', 'art', 'music']\n",
            "Tópico 2 -> ['life', 'film', 'family', 'father', 'story']\n",
            "Tópico 3 -> ['show', 'life', 'love', 'music', 'tv']\n",
            "Tópico 4 -> ['life', 'new', 'family', 'city', 'york']\n",
            "\n",
            "\n",
            " Silly Scaries (2011) \n",
            " Prepare yourself to be scared silly! Three independent masters of hor...\n",
            "[ 0.14126541 -0.02409385 -0.06052191 -0.02953852  0.00910448]\n",
            "\n",
            "\n",
            " Joy (2010/I) \n",
            " Joy is an emotionally damaged young woman of eighteen, who was given ...\n",
            "[ 0.19191649 -0.0749739   0.1010948   0.01025576 -0.01209402]\n",
            "\n",
            "\n",
            " WWE No Way Out (2007) \n",
            " Chris Benoit and The Hardyz vs MVP and MNM. Mr Kennedy vs Bobby Lashl...\n",
            "[ 0.02075503  0.00137748  0.00707287  0.01084399 -0.0144758 ]\n",
            "\n",
            "\n",
            " Bare Exposure (1993) \n",
            " When Clancy (Westley Scott) has a major problem with the mob because ...\n",
            "[ 0.08319248 -0.02010397 -0.07300727  0.04250348  0.02664173]\n",
            "\n",
            "\n",
            " Baby's Bath (1899/I) \n",
            " \"In this picture the figures are very large and very clear photograph...\n",
            "[ 0.08657969 -0.04257185 -0.00017012  0.00501001 -0.03492533]\n",
            "\n",
            "\n",
            "Algoritmo: NMF\n",
            "Tópico 0 -> ['family', 'father', 'young', 'mother', 'man']\n",
            "Tópico 1 -> ['film', 'documentary', 'world', 'art', 'people']\n",
            "Tópico 2 -> ['one', 'new', 'friends', 'day', 'two']\n",
            "Tópico 3 -> ['show', 'music', 'tv', 'comedy', 'series']\n",
            "Tópico 4 -> ['life', 'story', 'love', 'young', 'living']\n",
            "\n",
            "\n",
            " Silly Scaries (2011) \n",
            " Prepare yourself to be scared silly! Three independent masters of hor...\n",
            "[0.0134274  0.         0.07890289 0.00210776 0.01101502]\n",
            "\n",
            "\n",
            " Joy (2010/I) \n",
            " Joy is an emotionally damaged young woman of eighteen, who was given ...\n",
            "[0.09447669 0.03139971 0.         0.         0.02680741]\n",
            "\n",
            "\n",
            " WWE No Way Out (2007) \n",
            " Chris Benoit and The Hardyz vs MVP and MNM. Mr Kennedy vs Bobby Lashl...\n",
            "[3.06624803e-03 3.05206455e-05 7.75196306e-03 8.98458408e-03\n",
            " 5.05743952e-04]\n",
            "\n",
            "\n",
            " Bare Exposure (1993) \n",
            " When Clancy (Westley Scott) has a major problem with the mob because ...\n",
            "[0.00385007 0.         0.04988141 0.03924176 0.        ]\n",
            "\n",
            "\n",
            " Baby's Bath (1899/I) \n",
            " \"In this picture the figures are very large and very clear photograph...\n",
            "[0.03724006 0.00260704 0.02121472 0.00111755 0.00021929]\n",
            "\n",
            "\n"
          ]
        }
      ]
    },
    {
      "cell_type": "markdown",
      "source": [
        "Melhor algoritmo: NMF\n"
      ],
      "metadata": {
        "id": "Fg8fQ0Oc3Q4m"
      }
    },
    {
      "cell_type": "markdown",
      "source": [
        "## Questão 2\n",
        "Realize um agrupamento dos dados seguindo os seguintes passos:\n",
        "\n",
        "a) Aplique o algoritmo PCA, preservando 95% da variância nos dados. Qual a\n",
        "dimensão resultante dos dados projetados?\n",
        "\n",
        "b) Aplique um algoritmo k-means nos dados projetados, usando o método elbow\n",
        "para encontrar o valor de k ótimo.\n",
        "\n",
        "c) Finalmente, aplique um algoritmo k-means nos dados originais (sem projeção\n",
        "por PCA), usando o método elbow para encontrar o valor de k ótimo."
      ],
      "metadata": {
        "id": "U0quzAns3f7k"
      }
    },
    {
      "cell_type": "code",
      "source": [
        "stemmer = nltk.stem.RSLPStemmer()\n",
        "dataset['stemmed_text'] = dataset.processed_description.apply(lambda tokens: ' '.join([stemmer.stem(token) for token in tokens.split(' ')]))\n",
        "X = tfidf.fit_transform(dataset.stemmed_text)"
      ],
      "metadata": {
        "id": "54ifD-MX2CXy"
      },
      "execution_count": 15,
      "outputs": []
    },
    {
      "cell_type": "code",
      "source": [
        "Xproj = PCA(n_components=.95).fit_transform(X.toarray())"
      ],
      "metadata": {
        "id": "tN9MYhN-jj-N"
      },
      "execution_count": 16,
      "outputs": []
    },
    {
      "cell_type": "code",
      "source": [
        "Xproj.shape[1]"
      ],
      "metadata": {
        "colab": {
          "base_uri": "https://localhost:8080/"
        },
        "id": "F4b1Br_tlJ9e",
        "outputId": "c5aff71b-70c2-49d6-d1e4-175d5ce1367d"
      },
      "execution_count": 17,
      "outputs": [
        {
          "output_type": "execute_result",
          "data": {
            "text/plain": [
              "3311"
            ]
          },
          "metadata": {},
          "execution_count": 17
        }
      ]
    },
    {
      "cell_type": "code",
      "source": [
        "visualizer = KElbowVisualizer(KMeans(), k=(10, 25), metric='distortion')\n",
        "visualizer.fit(Xproj)\n",
        "visualizer.show()"
      ],
      "metadata": {
        "colab": {
          "base_uri": "https://localhost:8080/",
          "height": 393
        },
        "id": "teTjsY1vjnqJ",
        "outputId": "51633eb3-bcab-4594-bd7e-bb1c8f4de2ab"
      },
      "execution_count": 18,
      "outputs": [
        {
          "output_type": "display_data",
          "data": {
            "image/png": "[encoded data removed]",
            "text/plain": [
              "<Figure size 576x396 with 2 Axes>"
            ]
          },
          "metadata": {}
        },
        {
          "output_type": "execute_result",
          "data": {
            "text/plain": [
              "<matplotlib.axes._subplots.AxesSubplot at 0x7f78876273d0>"
            ]
          },
          "metadata": {},
          "execution_count": 18
        }
      ]
    },
    {
      "cell_type": "code",
      "source": [
        "k = 12\n",
        "kmeans = KMeans(n_clusters=k).fit(Xproj)"
      ],
      "metadata": {
        "id": "kcFkU7UMv3ww"
      },
      "execution_count": 19,
      "outputs": []
    },
    {
      "cell_type": "code",
      "source": [
        "visualizer = KElbowVisualizer(KMeans(), k=(10, 25), metric='distortion')\n",
        "visualizer.fit(X)\n",
        "visualizer.show()"
      ],
      "metadata": {
        "colab": {
          "base_uri": "https://localhost:8080/",
          "height": 393
        },
        "id": "ReH3dyQ1xsWl",
        "outputId": "32b6ecfc-8085-45b6-ae02-e71a230c8b84"
      },
      "execution_count": 20,
      "outputs": [
        {
          "output_type": "display_data",
          "data": {
            "image/png": "[encoded data removed]",
            "text/plain": [
              "<Figure size 576x396 with 2 Axes>"
            ]
          },
          "metadata": {}
        },
        {
          "output_type": "execute_result",
          "data": {
            "text/plain": [
              "<matplotlib.axes._subplots.AxesSubplot at 0x7f78873fed50>"
            ]
          },
          "metadata": {},
          "execution_count": 20
        }
      ]
    },
    {
      "cell_type": "code",
      "source": [
        "k = 13\n",
        "kmeans = KMeans(n_clusters=k).fit(X)"
      ],
      "metadata": {
        "id": "wTaBeXQS_3WK"
      },
      "execution_count": 21,
      "outputs": []
    },
    {
      "cell_type": "markdown",
      "source": [
        "## Questão 3\n",
        "Nesta questão você deve aplicar métodos de projeção multidimensional para visualizar os dados da segunda questão no espaço visual.\n",
        "\n",
        "a) aplique os métodos de projeção multidimensional t-SNE e UMAP nos dados resultantes da questão 2b, e plote os gráficos das projeções resultantes, codificando as cores dos pontos de acordo com os grupos obtidos pelo k-means.\n",
        "\n",
        "b) compare o tempo de execução e a qualidade visual da projeção dos 2 métodos\n",
        "de projeção multidimensional, no resultado da questão 2b.\n",
        "\n",
        "c) usando o método de projeção multidimensional que gerou melhores resultados no item anterior, calcule a projeção nos resultados da questão 2c e compare visualmente os resultados da questão 2b e 2c. Qual abordagem\n",
        "funcionou melhor?"
      ],
      "metadata": {
        "id": "8nTFy_aa4nFh"
      }
    },
    {
      "cell_type": "code",
      "source": [
        ""
      ],
      "metadata": {
        "id": "jgSdeLC14mZ8"
      },
      "execution_count": 20,
      "outputs": []
    },
    {
      "cell_type": "markdown",
      "metadata": {
        "id": "5Vl4cQSbSl88"
      },
      "source": [
        "**Referências**\n",
        "\n"
      ]
    }
  ]
}