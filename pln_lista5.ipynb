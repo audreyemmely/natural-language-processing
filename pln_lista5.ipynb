{
  "nbformat": 4,
  "nbformat_minor": 0,
  "metadata": {
    "colab": {
      "name": "pln_lista5.ipynb",
      "provenance": [],
      "collapsed_sections": [],
      "include_colab_link": true
    },
    "kernelspec": {
      "name": "python3",
      "display_name": "Python 3"
    },
    "language_info": {
      "name": "python"
    }
  },
  "cells": [
    {
      "cell_type": "markdown",
      "metadata": {
        "id": "view-in-github",
        "colab_type": "text"
      },
      "source": [
        "<a href=\"https://colab.research.google.com/github/audreyemmely/pln/blob/main/pln_lista5.ipynb\" target=\"_parent\"><img src=\"https://colab.research.google.com/assets/colab-badge.svg\" alt=\"Open In Colab\"/></a>"
      ]
    },
    {
      "cell_type": "markdown",
      "metadata": {
        "id": "LdH0ObvpYJhx"
      },
      "source": [
        "# **Resolução Lista 5**\n",
        "\n",
        "---\n",
        "\n",
        "Audrey Emmely Rodrigues Vasconcelos\n",
        "\n",
        "Karen Nayara Gomes da Silva"
      ]
    },
    {
      "cell_type": "code",
      "source": [
        "#from google.colab import files\n",
        "#uploaded = files.upload()\n",
        "# upando train_data"
      ],
      "metadata": {
        "id": "49fJdXrr7jbZ"
      },
      "execution_count": null,
      "outputs": []
    },
    {
      "cell_type": "markdown",
      "source": [
        "## Questão 1\n",
        "\n",
        "O objetivo dessa questão é desenvolver um buscador de documentos.\n",
        "\n",
        "a) escolha e aplique um modelo do tipo word2vec a seus textos, compatível com o idioma de seus textos (inglês ou português).\n",
        "\n",
        "b) escolha 5 palavras de consulta que não estejam em nenhum dos textos. Para cada palavra de consulta, encontre as 3 palavras de seu conjunto de textos mais parecidas com cada uma das palavras de consulta e exiba os documentos onde estas palavras aparecem.\n",
        "\n",
        "c) Seja d um documento da base e w uma palavra de consulta. Implemente o\n",
        "seguinte algoritmo para buscar documentos:\n",
        "1. Encontre d10(w): a lista com as 10 palavras mais parecidas com w em\n",
        "um certo documento d.\n",
        "2. Para cada documento d, calcule a distância média DM10(w) entre w e\n",
        "as palavras de d10(w).\n",
        "3. Recupere os 3 documentos da base cuja DM10(w) é menor.\n",
        "\n",
        "d) aplique o algoritmo para buscar documentos em 5 palavras distintas, e exiba\n",
        "os 3 documentos mais próximos de cada um."
      ],
      "metadata": {
        "id": "nLrZXVqZ7l5o"
      }
    },
    {
      "cell_type": "markdown",
      "source": [
        "## Questão 2\n",
        "Aplicando a representação Doc2Vec:\n",
        "\n",
        "a) Resolva a segunda questão da 3a lista com esta nova representação e compare com os resultados obtidos anteriormente.\n",
        "\n",
        "b) Resolva a segunda e terceira questão da 4a lista com esta nova representação e compare com os resultados obtidos anteriormente.\n"
      ],
      "metadata": {
        "id": "XpXvmJtZ8fAa"
      }
    }
  ]
}